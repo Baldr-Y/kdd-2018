{
 "cells": [
  {
   "cell_type": "markdown",
   "metadata": {},
   "source": [
    "# An Introduction to GPU Accelerated Python through GOAI"
   ]
  },
  {
   "cell_type": "markdown",
   "metadata": {},
   "source": [
    "By Brad Rees, Keith Kraus, and Mike Wendt"
   ]
  },
  {
   "cell_type": "markdown",
   "metadata": {},
   "source": [
    "As you progress in this lab look for instances of ***TASK:***, this will be where you will be asked to take an action to complete this lab."
   ]
  },
  {
   "cell_type": "markdown",
   "metadata": {},
   "source": [
    "## Verify your Run Environment\n",
    "\n",
    "Before we begin, let's verify [WebSockets](http://en.wikipedia.org/wiki/WebSocket) are working on your system.  \n",
    "\n",
    "***TASK:*** To do this, execute the cell block below by giving it focus (clicking on it with your mouse), and hitting **Shift-Enter**, or pressing the **play button** in the toolbar above.  \n",
    "\n",
    "If all goes well, you should see some output returned below the grey cell.  \n"
   ]
  },
  {
   "cell_type": "code",
   "execution_count": 14,
   "metadata": {},
   "outputs": [
    {
     "name": "stdout",
     "output_type": "stream",
     "text": [
      "The answer should be three: 3\n"
     ]
    }
   ],
   "source": [
    "print (\"The answer should be three: \" + str(1+2) )"
   ]
  },
  {
   "cell_type": "markdown",
   "metadata": {},
   "source": [
    "<br><br>\n",
    "***TASK:*** Execute the cell below to display information about the GPUs running on the server."
   ]
  },
  {
   "cell_type": "code",
   "execution_count": 15,
   "metadata": {},
   "outputs": [
    {
     "name": "stdout",
     "output_type": "stream",
     "text": [
      "Tue Jul 31 13:20:05 2018       \r\n",
      "+-----------------------------------------------------------------------------+\r\n",
      "| NVIDIA-SMI 396.26                 Driver Version: 396.26                    |\r\n",
      "|-------------------------------+----------------------+----------------------+\r\n",
      "| GPU  Name        Persistence-M| Bus-Id        Disp.A | Volatile Uncorr. ECC |\r\n",
      "| Fan  Temp  Perf  Pwr:Usage/Cap|         Memory-Usage | GPU-Util  Compute M. |\r\n",
      "|===============================+======================+======================|\r\n",
      "|   0  Quadro GV100        Off  | 00000000:04:00.0  On |                  Off |\r\n",
      "| 35%   48C    P2    40W / 250W |   2808MiB / 32485MiB |      0%      Default |\r\n",
      "+-------------------------------+----------------------+----------------------+\r\n",
      "|   1  Quadro GV100        Off  | 00000000:84:00.0 Off |                  Off |\r\n",
      "| 31%   44C    P2    28W / 250W |     11MiB / 32508MiB |      0%      Default |\r\n",
      "+-------------------------------+----------------------+----------------------+\r\n",
      "                                                                               \r\n",
      "+-----------------------------------------------------------------------------+\r\n",
      "| Processes:                                                       GPU Memory |\r\n",
      "|  GPU       PID   Type   Process name                             Usage      |\r\n",
      "|=============================================================================|\r\n",
      "|    0      2158      C   /usr/bin/python                              416MiB |\r\n",
      "|    0      3428      G   /usr/lib/xorg/Xorg                           144MiB |\r\n",
      "|    0      5586      G   /usr/lib/xorg/Xorg                           771MiB |\r\n",
      "|    0      5817      G   /usr/bin/gnome-shell                         569MiB |\r\n",
      "|    0      6403      G   ...-token=AD49EE96920BDF6CEE66E409B736539B    83MiB |\r\n",
      "|    0      6579      G   ...-token=C18B6B330AA206BA5BB1992C13F6A752   235MiB |\r\n",
      "|    0      6757      G   /usr/lib/firefox/firefox                     259MiB |\r\n",
      "|    0     12163      G   ...-token=8630B1B866D92A58B110DEB96F86B41A   243MiB |\r\n",
      "|    0     25757      G   ...-token=5E7663EEDC505881407DF51F4A81F103    41MiB |\r\n",
      "+-----------------------------------------------------------------------------+\r\n"
     ]
    }
   ],
   "source": [
    "!nvidia-smi"
   ]
  },
  {
   "cell_type": "markdown",
   "metadata": {},
   "source": [
    "<br>\n",
    "### Validate that all the libraries are installed\n",
    "<br>\n",
    "***TASK:*** Execute the following cells"
   ]
  },
  {
   "cell_type": "code",
   "execution_count": 18,
   "metadata": {},
   "outputs": [],
   "source": [
    "import pandas"
   ]
  },
  {
   "cell_type": "code",
   "execution_count": 19,
   "metadata": {},
   "outputs": [],
   "source": [
    "import numpy as np"
   ]
  },
  {
   "cell_type": "code",
   "execution_count": 20,
   "metadata": {},
   "outputs": [],
   "source": [
    "import pygdf "
   ]
  },
  {
   "cell_type": "code",
   "execution_count": null,
   "metadata": {},
   "outputs": [],
   "source": []
  },
  {
   "cell_type": "markdown",
   "metadata": {},
   "source": [
    "<br>\n",
    "<br>"
   ]
  },
  {
   "cell_type": "markdown",
   "metadata": {},
   "source": [
    "Congrats, the environment is configured and working\n",
    "<br>\n",
    "# Break\n",
    "<br>"
   ]
  },
  {
   "cell_type": "markdown",
   "metadata": {},
   "source": [
    "After the break we will start with Lab 1: Data Loading and Manipulation"
   ]
  }
 ],
 "metadata": {
  "kernelspec": {
   "display_name": "Python 3",
   "language": "python",
   "name": "python3"
  },
  "language_info": {
   "codemirror_mode": {
    "name": "ipython",
    "version": 3
   },
   "file_extension": ".py",
   "mimetype": "text/x-python",
   "name": "python",
   "nbconvert_exporter": "python",
   "pygments_lexer": "ipython3",
   "version": "3.6.4"
  }
 },
 "nbformat": 4,
 "nbformat_minor": 2
}
