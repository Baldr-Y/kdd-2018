{
 "cells": [
  {
   "cell_type": "markdown",
   "metadata": {},
   "source": [
    "# Lab 1:  Data Loading, GPU Dataframe Creation, and Data Manipulation\n",
    "Thanks to Anaconda for some material"
   ]
  },
  {
   "cell_type": "markdown",
   "metadata": {},
   "source": [
    "In this lab you will learn how to \n",
    "- Load data into a GPU Data Frame (GDF)\n",
    "- Manitulate data in a GDF and performance basic ETL functions\n",
    "\n",
    "\n",
    "As you progress in this lab look for instances of ***TASK:***, this will be where you will be asked to take an action to complete this lab."
   ]
  },
  {
   "cell_type": "markdown",
   "metadata": {},
   "source": [
    "***TASK:*** Execute the cell below to auto-time execution of every cell"
   ]
  },
  {
   "cell_type": "code",
   "execution_count": 3,
   "metadata": {},
   "outputs": [
    {
     "name": "stdout",
     "output_type": "stream",
     "text": [
      "Requirement already satisfied: ipython-autotime in /home/brad/anaconda3/lib/python3.6/site-packages\n",
      "\u001b[33mYou are using pip version 9.0.1, however version 18.0 is available.\n",
      "You should consider upgrading via the 'pip install --upgrade pip' command.\u001b[0m\n"
     ]
    }
   ],
   "source": [
    "# Add autotime of each block\n",
    "!pip install ipython-autotime\n",
    "%load_ext autotime"
   ]
  },
  {
   "cell_type": "markdown",
   "metadata": {},
   "source": [
    "<br>\n",
    "## Loading Data\n",
    "The file we are going to load is netflow1.csv"
   ]
  },
  {
   "cell_type": "markdown",
   "metadata": {},
   "source": [
    "### Traditional interface through Pandas"
   ]
  },
  {
   "cell_type": "code",
   "execution_count": 4,
   "metadata": {},
   "outputs": [
    {
     "name": "stdout",
     "output_type": "stream",
     "text": [
      "time: 199 ms\n"
     ]
    }
   ],
   "source": [
    "import pandas as pd"
   ]
  },
  {
   "cell_type": "code",
   "execution_count": 6,
   "metadata": {},
   "outputs": [
    {
     "name": "stdout",
     "output_type": "stream",
     "text": [
      "time: 8.48 ms\n"
     ]
    }
   ],
   "source": [
    "# let's define the data - column snames and data types\n",
    "cols = [\n",
    "     \"strdate\",\n",
    "    \"srcip\",\n",
    "    \"dstip\",\n",
    "    \"srcport\",\n",
    "    \"dstport\",\n",
    "    \"srcbytes\",\n",
    "    \"dstbytes\"   \n",
    "]\n",
    "\n",
    "\n",
    "dtypes = {    \n",
    "    \"strdate\"  : str,\n",
    "    \"srcip\"    : str,\n",
    "    \"dstip\"    : str,\n",
    "    \"srcport\"  : int,\n",
    "    \"dstport\"  : int,\n",
    "    \"srcbytes\" : int,\n",
    "    \"dstbytes\" : int\n",
    "\n",
    "}"
   ]
  },
  {
   "cell_type": "code",
   "execution_count": 7,
   "metadata": {},
   "outputs": [
    {
     "data": {
      "text/plain": [
       "'../data/netflow1.csv'"
      ]
     },
     "execution_count": 7,
     "metadata": {},
     "output_type": "execute_result"
    },
    {
     "name": "stdout",
     "output_type": "stream",
     "text": [
      "time: 12.5 ms\n"
     ]
    }
   ],
   "source": [
    "file_1 = '../data/netflow1.csv'\n",
    "file_1"
   ]
  },
  {
   "cell_type": "code",
   "execution_count": 16,
   "metadata": {},
   "outputs": [
    {
     "name": "stdout",
     "output_type": "stream",
     "text": [
      "time: 9.64 s\n"
     ]
    }
   ],
   "source": [
    "net1_df = pd.read_csv(file_1,  names=cols, dtype=dtypes, skiprows=1)"
   ]
  },
  {
   "cell_type": "code",
   "execution_count": 17,
   "metadata": {},
   "outputs": [
    {
     "data": {
      "text/plain": [
       "strdate     object\n",
       "srcip       object\n",
       "dstip       object\n",
       "srcport      int64\n",
       "dstport      int64\n",
       "srcbytes     int64\n",
       "dstbytes     int64\n",
       "dtype: object"
      ]
     },
     "execution_count": 17,
     "metadata": {},
     "output_type": "execute_result"
    },
    {
     "name": "stdout",
     "output_type": "stream",
     "text": [
      "time: 6.69 ms\n"
     ]
    }
   ],
   "source": [
    "net1_df.dtypes"
   ]
  },
  {
   "cell_type": "markdown",
   "metadata": {},
   "source": [
    "<br>\n",
    "## Creating a GPU Dataframe\n"
   ]
  },
  {
   "cell_type": "code",
   "execution_count": 18,
   "metadata": {},
   "outputs": [
    {
     "name": "stdout",
     "output_type": "stream",
     "text": [
      "time: 1.17 ms\n"
     ]
    }
   ],
   "source": [
    "import pygdf"
   ]
  },
  {
   "cell_type": "code",
   "execution_count": 19,
   "metadata": {},
   "outputs": [
    {
     "name": "stdout",
     "output_type": "stream",
     "text": [
      "time: 792 ms\n"
     ]
    }
   ],
   "source": [
    "gdf = pygdf.DataFrame.from_pandas(net1_df)"
   ]
  },
  {
   "cell_type": "code",
   "execution_count": 20,
   "metadata": {},
   "outputs": [
    {
     "data": {
      "text/plain": [
       "strdate     object\n",
       "srcip       object\n",
       "dstip       object\n",
       "srcport      int64\n",
       "dstport      int64\n",
       "srcbytes     int64\n",
       "dstbytes     int64\n",
       "dtype: object"
      ]
     },
     "execution_count": 20,
     "metadata": {},
     "output_type": "execute_result"
    },
    {
     "name": "stdout",
     "output_type": "stream",
     "text": [
      "time: 5.46 ms\n"
     ]
    }
   ],
   "source": [
    "gdf.dtypes"
   ]
  },
  {
   "cell_type": "markdown",
   "metadata": {},
   "source": [
    "<br>\n",
    "## Column Functionals and Transformations\n",
    "One of the basic GDF operations is column transform. We can perform built-in arithmetic operations on each column, such as type casting:"
   ]
  },
  {
   "cell_type": "markdown",
   "metadata": {},
   "source": [
    "### Accessing a Column"
   ]
  },
  {
   "cell_type": "code",
   "execution_count": 22,
   "metadata": {},
   "outputs": [
    {
     "data": {
      "text/plain": [
       "      \n",
       "0  137\n",
       "1  137\n",
       "2 5040\n",
       "3 5067\n",
       "4 8749"
      ]
     },
     "execution_count": 22,
     "metadata": {},
     "output_type": "execute_result"
    },
    {
     "name": "stdout",
     "output_type": "stream",
     "text": [
      "time: 8.95 ms\n"
     ]
    }
   ],
   "source": [
    "gdf['srcport'].head()"
   ]
  },
  {
   "cell_type": "markdown",
   "metadata": {},
   "source": [
    "<br>\n",
    "***Tasks*** Find the largest amount of data sent to a distination"
   ]
  },
  {
   "cell_type": "markdown",
   "metadata": {},
   "source": [
    "<details><summary>Answer (one possible)</summary>\n",
    "<p>\n",
    "gdf['dstbytes'].max()\n",
    "</p>\n",
    "</details>"
   ]
  },
  {
   "cell_type": "code",
   "execution_count": null,
   "metadata": {},
   "outputs": [],
   "source": []
  }
 ],
 "metadata": {
  "kernelspec": {
   "display_name": "Python 3",
   "language": "python",
   "name": "python3"
  },
  "language_info": {
   "codemirror_mode": {
    "name": "ipython",
    "version": 3
   },
   "file_extension": ".py",
   "mimetype": "text/x-python",
   "name": "python",
   "nbconvert_exporter": "python",
   "pygments_lexer": "ipython3",
   "version": "3.6.4"
  }
 },
 "nbformat": 4,
 "nbformat_minor": 2
}
