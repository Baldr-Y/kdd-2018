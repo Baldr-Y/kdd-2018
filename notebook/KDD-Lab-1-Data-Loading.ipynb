{
 "cells": [
  {
   "cell_type": "markdown",
   "metadata": {},
   "source": [
    "# Lab 1:  Data Loading, GPU Dataframe Creation, and Data Manipulation\n",
    "Thanks to Anaconda for some material"
   ]
  },
  {
   "cell_type": "markdown",
   "metadata": {},
   "source": [
    "In this lab you will learn how to \n",
    "- Load data into a GPU Data Frame (GDF)\n",
    "- Manitulate data in a GDF to performance some basic ETL and statistical functions\n",
    "\n",
    "\n",
    "As you progress in this lab look for instances of ***TASK:***, this will be where you will be asked to take an action to complete this lab."
   ]
  },
  {
   "cell_type": "markdown",
   "metadata": {},
   "source": [
    "***TASK:*** Execute the cell below to auto-time execution of every cell"
   ]
  },
  {
   "cell_type": "code",
   "execution_count": 1,
   "metadata": {},
   "outputs": [
    {
     "name": "stdout",
     "output_type": "stream",
     "text": [
      "Requirement already satisfied: ipython-autotime in /home/brad/anaconda3/lib/python3.6/site-packages\n",
      "\u001b[33mYou are using pip version 9.0.1, however version 18.0 is available.\n",
      "You should consider upgrading via the 'pip install --upgrade pip' command.\u001b[0m\n"
     ]
    }
   ],
   "source": [
    "# Add autotime of each block\n",
    "!pip install ipython-autotime\n",
    "%load_ext autotime"
   ]
  },
  {
   "cell_type": "markdown",
   "metadata": {},
   "source": [
    "<br>\n",
    "_____\n",
    "## Step 1: Loading Data\n",
    "The file we are going to load is netflow1.csv\n",
    "  \n",
    "Size = 965 MB<br>\n",
    "Records = 17,296,829"
   ]
  },
  {
   "cell_type": "markdown",
   "metadata": {},
   "source": [
    "<p>\n",
    "### Traditional interface through Pandas"
   ]
  },
  {
   "cell_type": "code",
   "execution_count": 2,
   "metadata": {},
   "outputs": [
    {
     "name": "stdout",
     "output_type": "stream",
     "text": [
      "time: 202 ms\n"
     ]
    }
   ],
   "source": [
    "import pandas as pd"
   ]
  },
  {
   "cell_type": "code",
   "execution_count": 3,
   "metadata": {},
   "outputs": [
    {
     "name": "stdout",
     "output_type": "stream",
     "text": [
      "time: 3.51 ms\n"
     ]
    }
   ],
   "source": [
    "# let's define the data - column names and data types\n",
    "cols = [\n",
    "    \"strdate\",\n",
    "    \"srcip\",\n",
    "    \"dstip\",\n",
    "    \"srcport\",\n",
    "    \"dstport\",\n",
    "    \"srcbytes\",\n",
    "    \"dstbytes\"   \n",
    "]\n",
    "\n",
    "\n",
    "dtypes = {    \n",
    "    \"strdate\"  : str,\n",
    "    \"srcip\"    : str,\n",
    "    \"dstip\"    : str,\n",
    "    \"srcport\"  : int,\n",
    "    \"dstport\"  : int,\n",
    "    \"srcbytes\" : int,\n",
    "    \"dstbytes\" : int\n",
    "\n",
    "}"
   ]
  },
  {
   "cell_type": "code",
   "execution_count": 4,
   "metadata": {},
   "outputs": [
    {
     "name": "stdout",
     "output_type": "stream",
     "text": [
      "time: 1.85 ms\n"
     ]
    }
   ],
   "source": [
    "file_1 = '../data/netflow1.csv'"
   ]
  },
  {
   "cell_type": "code",
   "execution_count": 5,
   "metadata": {},
   "outputs": [
    {
     "name": "stdout",
     "output_type": "stream",
     "text": [
      "time: 10.1 s\n"
     ]
    }
   ],
   "source": [
    "# the data file contains a header line that needs to be skipped\n",
    "df = pd.read_csv(file_1,  names=cols, dtype=dtypes, skiprows=1)"
   ]
  },
  {
   "cell_type": "code",
   "execution_count": 6,
   "metadata": {},
   "outputs": [
    {
     "data": {
      "text/plain": [
       "strdate     object\n",
       "srcip       object\n",
       "dstip       object\n",
       "srcport      int64\n",
       "dstport      int64\n",
       "srcbytes     int64\n",
       "dstbytes     int64\n",
       "dtype: object"
      ]
     },
     "execution_count": 6,
     "metadata": {},
     "output_type": "execute_result"
    },
    {
     "name": "stdout",
     "output_type": "stream",
     "text": [
      "time: 14.5 ms\n"
     ]
    }
   ],
   "source": [
    "df.dtypes"
   ]
  },
  {
   "cell_type": "markdown",
   "metadata": {},
   "source": [
    "<br>\n",
    "### Creating a GPU Dataframe\n"
   ]
  },
  {
   "cell_type": "code",
   "execution_count": 7,
   "metadata": {},
   "outputs": [
    {
     "name": "stdout",
     "output_type": "stream",
     "text": [
      "time: 331 ms\n"
     ]
    }
   ],
   "source": [
    "import pygdf"
   ]
  },
  {
   "cell_type": "code",
   "execution_count": 8,
   "metadata": {},
   "outputs": [
    {
     "name": "stdout",
     "output_type": "stream",
     "text": [
      "time: 915 ms\n"
     ]
    }
   ],
   "source": [
    "gdf = pygdf.DataFrame.from_pandas(df)"
   ]
  },
  {
   "cell_type": "code",
   "execution_count": 9,
   "metadata": {},
   "outputs": [
    {
     "data": {
      "text/plain": [
       "strdate     object\n",
       "srcip       object\n",
       "dstip       object\n",
       "srcport      int64\n",
       "dstport      int64\n",
       "srcbytes     int64\n",
       "dstbytes     int64\n",
       "dtype: object"
      ]
     },
     "execution_count": 9,
     "metadata": {},
     "output_type": "execute_result"
    },
    {
     "name": "stdout",
     "output_type": "stream",
     "text": [
      "time: 5.55 ms\n"
     ]
    }
   ],
   "source": [
    "gdf.dtypes"
   ]
  },
  {
   "cell_type": "markdown",
   "metadata": {},
   "source": [
    "<br>\n",
    "That's it - the data is now loaded and available for accelerated Data Analysis on the GPU\n",
    "<p>\n",
    "*Rember that df = CPU and gdf = GPU since we will switch back and forth for performance comparisons*<p>\n",
    "***Data Loading Runtime*** = pd.read_csv + DataFrame.from_pandas"
   ]
  },
  {
   "cell_type": "markdown",
   "metadata": {},
   "source": [
    "***Tasks***:  Run the code block to display the first 5 rows of the 'scrport' column"
   ]
  },
  {
   "cell_type": "code",
   "execution_count": 10,
   "metadata": {},
   "outputs": [
    {
     "data": {
      "text/plain": [
       "              strdate        srcip           dstip srcport dstport srcbytes dstbytes\n",
       "0 2013-04-01 07:50:16   172.20.0.3 172.255.255.255     137     137     1104        0\n",
       "1 2013-04-01 07:50:21  172.10.0.40 172.255.255.255     137     137      184        0\n",
       "2 2013-04-01 08:05:00  172.10.1.17       10.0.0.13    5040      80      454      633\n",
       "3 2013-04-01 08:05:01   172.10.1.9       10.1.0.77    5067      80      454      633\n",
       "4 2013-04-01 08:05:01 172.30.2.114        10.0.0.9    8749      80      453      632"
      ]
     },
     "execution_count": 10,
     "metadata": {},
     "output_type": "execute_result"
    },
    {
     "name": "stdout",
     "output_type": "stream",
     "text": [
      "time: 21.6 ms\n"
     ]
    }
   ],
   "source": [
    "# what does the data look like\n",
    "gdf.head()"
   ]
  },
  {
   "cell_type": "code",
   "execution_count": null,
   "metadata": {},
   "outputs": [],
   "source": []
  },
  {
   "cell_type": "markdown",
   "metadata": {},
   "source": [
    "### Transitioning GDF back to Pandas"
   ]
  },
  {
   "cell_type": "code",
   "execution_count": 11,
   "metadata": {},
   "outputs": [
    {
     "name": "stdout",
     "output_type": "stream",
     "text": [
      "time: 1.15 s\n"
     ]
    }
   ],
   "source": [
    "# just as easy\n",
    "df2 = gdf.to_pandas()"
   ]
  },
  {
   "cell_type": "code",
   "execution_count": 12,
   "metadata": {},
   "outputs": [
    {
     "data": {
      "text/plain": [
       "strdate     object\n",
       "srcip       object\n",
       "dstip       object\n",
       "srcport      int64\n",
       "dstport      int64\n",
       "srcbytes     int64\n",
       "dstbytes     int64\n",
       "dtype: object"
      ]
     },
     "execution_count": 12,
     "metadata": {},
     "output_type": "execute_result"
    },
    {
     "name": "stdout",
     "output_type": "stream",
     "text": [
      "time: 5.41 ms\n"
     ]
    }
   ],
   "source": [
    "df2.dtypes"
   ]
  },
  {
   "cell_type": "code",
   "execution_count": 14,
   "metadata": {},
   "outputs": [
    {
     "ename": "NameError",
     "evalue": "name 'df2' is not defined",
     "output_type": "error",
     "traceback": [
      "\u001b[0;31m---------------------------------------------------------------------------\u001b[0m",
      "\u001b[0;31mNameError\u001b[0m                                 Traceback (most recent call last)",
      "\u001b[0;32m<ipython-input-14-b8da3f382665>\u001b[0m in \u001b[0;36m<module>\u001b[0;34m()\u001b[0m\n\u001b[1;32m      1\u001b[0m \u001b[0;31m# clean up since we don't need df2\u001b[0m\u001b[0;34m\u001b[0m\u001b[0;34m\u001b[0m\u001b[0m\n\u001b[0;32m----> 2\u001b[0;31m \u001b[0;32mdel\u001b[0m \u001b[0mdf2\u001b[0m\u001b[0;34m\u001b[0m\u001b[0m\n\u001b[0m",
      "\u001b[0;31mNameError\u001b[0m: name 'df2' is not defined"
     ]
    },
    {
     "name": "stdout",
     "output_type": "stream",
     "text": [
      "time: 98.6 ms\n"
     ]
    }
   ],
   "source": [
    "# clean up since we don't need df2\n",
    "del df2"
   ]
  },
  {
   "cell_type": "markdown",
   "metadata": {},
   "source": [
    "<br>\n",
    "## Column Functionals and Transformations\n",
    "One of the basic GDF operations is column transform. To do that we use built-in arithmetic operations on each column\n",
    "\n",
    "***Note:*** The followiong function operate against a GDF Column - not against the full dataset."
   ]
  },
  {
   "cell_type": "markdown",
   "metadata": {},
   "source": [
    "<br>\n",
    "The followinig operations will all be against the dstbytes column\n",
    "<br>"
   ]
  },
  {
   "cell_type": "code",
   "execution_count": 15,
   "metadata": {},
   "outputs": [
    {
     "data": {
      "text/plain": [
       "17296828"
      ]
     },
     "execution_count": 15,
     "metadata": {},
     "output_type": "execute_result"
    },
    {
     "name": "stdout",
     "output_type": "stream",
     "text": [
      "time: 3.83 ms\n"
     ]
    }
   ],
   "source": [
    "# How many 'Non-NULL' records are in the dataset?\n",
    "gdf['dstbytes'].count()"
   ]
  },
  {
   "cell_type": "code",
   "execution_count": 16,
   "metadata": {},
   "outputs": [
    {
     "data": {
      "text/plain": [
       "17296828"
      ]
     },
     "execution_count": 16,
     "metadata": {},
     "output_type": "execute_result"
    },
    {
     "name": "stdout",
     "output_type": "stream",
     "text": [
      "time: 51.6 ms\n"
     ]
    }
   ],
   "source": [
    "# Same function on CPU\n",
    "df['dstbytes'].count()"
   ]
  },
  {
   "cell_type": "markdown",
   "metadata": {},
   "source": [
    "<br>\n",
    "***Tasks*** Find the largest amount of data sent to a distination"
   ]
  },
  {
   "cell_type": "markdown",
   "metadata": {},
   "source": [
    "<details><summary>Click for Answer</summary>\n",
    "<p>\n",
    "gdf['dstbytes'].max()\n",
    "</p>\n",
    "</details>"
   ]
  },
  {
   "cell_type": "code",
   "execution_count": 17,
   "metadata": {},
   "outputs": [
    {
     "data": {
      "text/plain": [
       "7898550"
      ]
     },
     "execution_count": 17,
     "metadata": {},
     "output_type": "execute_result"
    },
    {
     "name": "stdout",
     "output_type": "stream",
     "text": [
      "time: 5.45 ms\n"
     ]
    }
   ],
   "source": [
    "#remove\n",
    "gdf['dstbytes'].max() "
   ]
  },
  {
   "cell_type": "markdown",
   "metadata": {},
   "source": [
    "***Tasks*** What about the Min and Average?"
   ]
  },
  {
   "cell_type": "markdown",
   "metadata": {},
   "source": [
    "<details><summary>Click for Answer on Min and Average</summary>\n",
    "<p>\n",
    "gdf['dstbytes'].min()\n",
    "gdf['dstbytes'].min()\n",
    "</p>\n",
    "</details>"
   ]
  },
  {
   "cell_type": "code",
   "execution_count": 18,
   "metadata": {},
   "outputs": [
    {
     "data": {
      "text/plain": [
       "0"
      ]
     },
     "execution_count": 18,
     "metadata": {},
     "output_type": "execute_result"
    },
    {
     "name": "stdout",
     "output_type": "stream",
     "text": [
      "time: 3.61 ms\n"
     ]
    }
   ],
   "source": [
    "# remove\n",
    "gdf['dstbytes'].min()"
   ]
  },
  {
   "cell_type": "code",
   "execution_count": 19,
   "metadata": {},
   "outputs": [
    {
     "data": {
      "text/plain": [
       "1531.7509521977092"
      ]
     },
     "execution_count": 19,
     "metadata": {},
     "output_type": "execute_result"
    },
    {
     "name": "stdout",
     "output_type": "stream",
     "text": [
      "time: 5.48 ms\n"
     ]
    }
   ],
   "source": [
    "# remove\n",
    "gdf['dstbytes'].mean()"
   ]
  },
  {
   "cell_type": "markdown",
   "metadata": {},
   "source": [
    "#### Changing Data Types"
   ]
  },
  {
   "cell_type": "code",
   "execution_count": 20,
   "metadata": {},
   "outputs": [
    {
     "name": "stdout",
     "output_type": "stream",
     "text": [
      "time: 122 ms\n"
     ]
    },
    {
     "name": "stderr",
     "output_type": "stream",
     "text": [
      "/home/brad/anaconda3/lib/python3.6/site-packages/numba/cuda/compiler.py:233: UserWarning: Could not autotune, using default tpb of 128\n",
      "  warnings.warn('Could not autotune, using default tpb of 128')\n"
     ]
    }
   ],
   "source": [
    "# Since the largest dstbyte size is less than an int32, let's convert the data type\n",
    "import numpy as np\n",
    "gdf['dstbytes'] = gdf['dstbytes'].astype(np.int32)"
   ]
  },
  {
   "cell_type": "code",
   "execution_count": 21,
   "metadata": {},
   "outputs": [
    {
     "data": {
      "text/plain": [
       "strdate     object\n",
       "srcip       object\n",
       "dstip       object\n",
       "srcport      int64\n",
       "dstport      int64\n",
       "srcbytes     int64\n",
       "dstbytes     int32\n",
       "dtype: object"
      ]
     },
     "execution_count": 21,
     "metadata": {},
     "output_type": "execute_result"
    },
    {
     "name": "stdout",
     "output_type": "stream",
     "text": [
      "time: 5.73 ms\n"
     ]
    }
   ],
   "source": [
    "gdf.dtypes"
   ]
  },
  {
   "cell_type": "markdown",
   "metadata": {},
   "source": [
    "<br>\n",
    "***Task*** \n",
    "* determine the smallest data type for SRC and DST Port fields\n",
    "* convert those fields\n",
    "<br>\n",
    "<br>\n",
    "<details><summary>Click for answer</summary>\n",
    "<p>\n",
    "gdf['srcport'].max()   is 65,534 so int32 is smallest, the same for dstport\n",
    "gdf['srcport'] = gdf['srcport'].astype(np.int32)\n",
    "gdf['dstport'] = gdf['dstport'].astype(np.int32)\n",
    "</p>\n",
    "</details>\n",
    "\n"
   ]
  },
  {
   "cell_type": "code",
   "execution_count": 22,
   "metadata": {},
   "outputs": [
    {
     "data": {
      "text/plain": [
       "65534"
      ]
     },
     "execution_count": 22,
     "metadata": {},
     "output_type": "execute_result"
    },
    {
     "name": "stdout",
     "output_type": "stream",
     "text": [
      "time: 9.32 ms\n"
     ]
    }
   ],
   "source": [
    "#remove \n",
    "gdf['srcport'].max()"
   ]
  },
  {
   "cell_type": "code",
   "execution_count": 23,
   "metadata": {},
   "outputs": [
    {
     "name": "stdout",
     "output_type": "stream",
     "text": [
      "time: 13.2 ms\n"
     ]
    },
    {
     "name": "stderr",
     "output_type": "stream",
     "text": [
      "/home/brad/anaconda3/lib/python3.6/site-packages/numba/cuda/compiler.py:233: UserWarning: Could not autotune, using default tpb of 128\n",
      "  warnings.warn('Could not autotune, using default tpb of 128')\n"
     ]
    }
   ],
   "source": [
    "#remove\n",
    "gdf['srcport'] = gdf['srcport'].astype(np.int32)\n",
    "gdf['dstport'] = gdf['dstport'].astype(np.int32)"
   ]
  },
  {
   "cell_type": "code",
   "execution_count": 24,
   "metadata": {},
   "outputs": [
    {
     "data": {
      "text/plain": [
       "strdate     object\n",
       "srcip       object\n",
       "dstip       object\n",
       "srcport      int32\n",
       "dstport      int32\n",
       "srcbytes     int64\n",
       "dstbytes     int32\n",
       "dtype: object"
      ]
     },
     "execution_count": 24,
     "metadata": {},
     "output_type": "execute_result"
    },
    {
     "name": "stdout",
     "output_type": "stream",
     "text": [
      "time: 5.43 ms\n"
     ]
    }
   ],
   "source": [
    "# validate by looking at the dtypes.\n",
    "gdf.dtypes"
   ]
  },
  {
   "cell_type": "markdown",
   "metadata": {},
   "source": [
    "***Note*** The data type transforms could have been done during data loading"
   ]
  },
  {
   "cell_type": "markdown",
   "metadata": {},
   "source": [
    "***Question*** Why do we care about using smaller data types?"
   ]
  },
  {
   "cell_type": "markdown",
   "metadata": {},
   "source": [
    "<br>\n",
    "### Transformations\n",
    "***Tasks*** Create a new GDF column called ***totalbyes*** that is the sum of src and dst bytes"
   ]
  },
  {
   "cell_type": "code",
   "execution_count": 26,
   "metadata": {},
   "outputs": [
    {
     "name": "stdout",
     "output_type": "stream",
     "text": [
      "time: 99.2 ms\n"
     ]
    },
    {
     "name": "stderr",
     "output_type": "stream",
     "text": [
      "/home/brad/anaconda3/lib/python3.6/site-packages/numba/cuda/compiler.py:233: UserWarning: Could not autotune, using default tpb of 128\n",
      "  warnings.warn('Could not autotune, using default tpb of 128')\n"
     ]
    }
   ],
   "source": [
    "gdf['totalbytes'] = gdf['srcbytes'] + gdf['dstbytes']"
   ]
  },
  {
   "cell_type": "code",
   "execution_count": 27,
   "metadata": {},
   "outputs": [
    {
     "data": {
      "text/plain": [
       "strdate       object\n",
       "srcip         object\n",
       "dstip         object\n",
       "srcport        int32\n",
       "dstport        int32\n",
       "srcbytes       int64\n",
       "dstbytes       int32\n",
       "totalbytes     int64\n",
       "dtype: object"
      ]
     },
     "execution_count": 27,
     "metadata": {},
     "output_type": "execute_result"
    },
    {
     "name": "stdout",
     "output_type": "stream",
     "text": [
      "time: 5.96 ms\n"
     ]
    }
   ],
   "source": [
    "# Verify that a new column was created\n",
    "gdf.dtypes"
   ]
  },
  {
   "cell_type": "code",
   "execution_count": 28,
   "metadata": {},
   "outputs": [
    {
     "data": {
      "text/plain": [
       "8094046"
      ]
     },
     "execution_count": 28,
     "metadata": {},
     "output_type": "execute_result"
    },
    {
     "name": "stdout",
     "output_type": "stream",
     "text": [
      "time: 5.51 ms\n"
     ]
    }
   ],
   "source": [
    "# What is the max byte size\n",
    "gdf['totalbytes'].max()"
   ]
  },
  {
   "cell_type": "code",
   "execution_count": null,
   "metadata": {},
   "outputs": [],
   "source": []
  },
  {
   "cell_type": "markdown",
   "metadata": {},
   "source": [
    "#### Let's try that same function on the CPU"
   ]
  },
  {
   "cell_type": "code",
   "execution_count": 29,
   "metadata": {},
   "outputs": [
    {
     "name": "stdout",
     "output_type": "stream",
     "text": [
      "time: 189 ms\n"
     ]
    }
   ],
   "source": [
    "# See the same time on the CPU\n",
    "df['totalbytes'] = df['srcbytes'] + df['dstbytes']"
   ]
  },
  {
   "cell_type": "code",
   "execution_count": 30,
   "metadata": {},
   "outputs": [
    {
     "data": {
      "text/plain": [
       "8094046"
      ]
     },
     "execution_count": 30,
     "metadata": {},
     "output_type": "execute_result"
    },
    {
     "name": "stdout",
     "output_type": "stream",
     "text": [
      "time: 135 ms\n"
     ]
    }
   ],
   "source": [
    "df['totalbytes'].max()"
   ]
  },
  {
   "cell_type": "markdown",
   "metadata": {},
   "source": [
    "The performance gain is on a small dataset and a simple transformation.  As data size and analytic complexity increas so does the delta in performance."
   ]
  },
  {
   "cell_type": "code",
   "execution_count": null,
   "metadata": {},
   "outputs": [],
   "source": []
  },
  {
   "cell_type": "markdown",
   "metadata": {},
   "source": [
    "### Dropping Columns"
   ]
  },
  {
   "cell_type": "markdown",
   "metadata": {},
   "source": [
    "***Note*** Current GOAI Beta version does not support Strings, so we can drop the date and IP fields<br>\n",
    "(roadmap section later will highlight Strings)"
   ]
  },
  {
   "cell_type": "code",
   "execution_count": 32,
   "metadata": {},
   "outputs": [
    {
     "name": "stdout",
     "output_type": "stream",
     "text": [
      "time: 3.77 ms\n"
     ]
    }
   ],
   "source": [
    "# Let's drop a colum\n",
    "gdf.drop_column('strdate')"
   ]
  },
  {
   "cell_type": "code",
   "execution_count": 33,
   "metadata": {},
   "outputs": [
    {
     "data": {
      "text/plain": [
       "srcip         object\n",
       "dstip         object\n",
       "srcport        int32\n",
       "dstport        int32\n",
       "srcbytes       int64\n",
       "dstbytes       int32\n",
       "totalbytes     int64\n",
       "dtype: object"
      ]
     },
     "execution_count": 33,
     "metadata": {},
     "output_type": "execute_result"
    },
    {
     "name": "stdout",
     "output_type": "stream",
     "text": [
      "time: 12.6 ms\n"
     ]
    }
   ],
   "source": [
    "gdf.dtypes"
   ]
  },
  {
   "cell_type": "markdown",
   "metadata": {},
   "source": [
    "<br>\n",
    "***Task*** Drop the scrip and dstip columns\n",
    "<br>\n",
    "<br>\n",
    "<details><summary>Click for answer</summary>\n",
    "<p>\n",
    "gdf.drop_column('srcip')\n",
    "gdf.drop_column('dstip')\n",
    "</p>\n",
    "</details>"
   ]
  },
  {
   "cell_type": "code",
   "execution_count": 34,
   "metadata": {},
   "outputs": [
    {
     "name": "stdout",
     "output_type": "stream",
     "text": [
      "time: 2.52 ms\n"
     ]
    }
   ],
   "source": [
    "gdf.drop_column('srcip')\n",
    "gdf.drop_column('dstip')"
   ]
  },
  {
   "cell_type": "markdown",
   "metadata": {},
   "source": [
    "<br>\n",
    "### Filtering \n",
    "Filtering is done with the query() function that takes an expression string of column names. "
   ]
  },
  {
   "cell_type": "code",
   "execution_count": 35,
   "metadata": {},
   "outputs": [
    {
     "data": {
      "text/plain": [
       "17296828"
      ]
     },
     "execution_count": 35,
     "metadata": {},
     "output_type": "execute_result"
    },
    {
     "name": "stdout",
     "output_type": "stream",
     "text": [
      "time: 3.71 ms\n"
     ]
    }
   ],
   "source": [
    "# Let's get a count for reference\n",
    "gdf['srcport'].count()"
   ]
  },
  {
   "cell_type": "code",
   "execution_count": 36,
   "metadata": {
    "scrolled": false
   },
   "outputs": [
    {
     "name": "stderr",
     "output_type": "stream",
     "text": [
      "/home/brad/anaconda3/lib/python3.6/site-packages/numba/cuda/compiler.py:233: UserWarning: Could not autotune, using default tpb of 128\n",
      "  warnings.warn('Could not autotune, using default tpb of 128')\n",
      "/home/brad/anaconda3/lib/python3.6/site-packages/numba/cuda/compiler.py:233: UserWarning: Could not autotune, using default tpb of 128\n",
      "  warnings.warn('Could not autotune, using default tpb of 128')\n",
      "/home/brad/anaconda3/lib/python3.6/site-packages/numba/cuda/compiler.py:233: UserWarning: Could not autotune, using default tpb of 128\n",
      "  warnings.warn('Could not autotune, using default tpb of 128')\n",
      "/home/brad/anaconda3/lib/python3.6/site-packages/numba/cuda/compiler.py:233: UserWarning: Could not autotune, using default tpb of 128\n",
      "  warnings.warn('Could not autotune, using default tpb of 128')\n",
      "/home/brad/anaconda3/lib/python3.6/site-packages/numba/cuda/compiler.py:233: UserWarning: Could not autotune, using default tpb of 128\n",
      "  warnings.warn('Could not autotune, using default tpb of 128')\n",
      "/home/brad/anaconda3/lib/python3.6/site-packages/numba/cuda/compiler.py:233: UserWarning: Could not autotune, using default tpb of 128\n",
      "  warnings.warn('Could not autotune, using default tpb of 128')\n",
      "/home/brad/anaconda3/lib/python3.6/site-packages/numba/cuda/compiler.py:233: UserWarning: Could not autotune, using default tpb of 128\n",
      "  warnings.warn('Could not autotune, using default tpb of 128')\n"
     ]
    },
    {
     "name": "stdout",
     "output_type": "stream",
     "text": [
      "time: 1.17 s\n"
     ]
    },
    {
     "name": "stderr",
     "output_type": "stream",
     "text": [
      "/home/brad/anaconda3/lib/python3.6/site-packages/numba/cuda/compiler.py:233: UserWarning: Could not autotune, using default tpb of 128\n",
      "  warnings.warn('Could not autotune, using default tpb of 128')\n"
     ]
    }
   ],
   "source": [
    "# Extract a new Dataframe where the DST Port is not port 80\n",
    "port_80 = gdf.query('dstport != 80')"
   ]
  },
  {
   "cell_type": "code",
   "execution_count": 37,
   "metadata": {},
   "outputs": [
    {
     "data": {
      "text/plain": [
       "831256"
      ]
     },
     "execution_count": 37,
     "metadata": {},
     "output_type": "execute_result"
    },
    {
     "name": "stdout",
     "output_type": "stream",
     "text": [
      "time: 3.26 ms\n"
     ]
    }
   ],
   "source": [
    "port_80['srcport'].count()"
   ]
  },
  {
   "cell_type": "code",
   "execution_count": 38,
   "metadata": {},
   "outputs": [
    {
     "data": {
      "text/plain": [
       "srcport       int32\n",
       "dstport       int32\n",
       "srcbytes      int64\n",
       "dstbytes      int32\n",
       "totalbytes    int64\n",
       "dtype: object"
      ]
     },
     "execution_count": 38,
     "metadata": {},
     "output_type": "execute_result"
    },
    {
     "name": "stdout",
     "output_type": "stream",
     "text": [
      "time: 5.65 ms\n"
     ]
    }
   ],
   "source": [
    "port_80.dtypes"
   ]
  },
  {
   "cell_type": "code",
   "execution_count": 39,
   "metadata": {},
   "outputs": [
    {
     "data": {
      "text/plain": [
       "  srcport dstport srcbytes dstbytes totalbytes\n",
       "0     137     137     1104        0       1104\n",
       "1     137     137      184        0        184\n",
       "1105     138     138      243        0        243\n",
       "1283    4156      25     1901     1123       3024\n",
       "1908    3754      25      422      457        879"
      ]
     },
     "execution_count": 39,
     "metadata": {},
     "output_type": "execute_result"
    },
    {
     "name": "stdout",
     "output_type": "stream",
     "text": [
      "time: 35.6 ms\n"
     ]
    }
   ],
   "source": [
    "port_80.head()"
   ]
  },
  {
   "cell_type": "markdown",
   "metadata": {},
   "source": [
    "***Task: *** Drop the port_80 dataframe "
   ]
  },
  {
   "cell_type": "code",
   "execution_count": 45,
   "metadata": {},
   "outputs": [
    {
     "name": "stdout",
     "output_type": "stream",
     "text": [
      "time: 1.76 ms\n"
     ]
    }
   ],
   "source": [
    "#remove\n",
    "del port_80"
   ]
  },
  {
   "cell_type": "markdown",
   "metadata": {},
   "source": [
    "<p>\n",
    "### Grouping and Aggregations"
   ]
  },
  {
   "cell_type": "code",
   "execution_count": 40,
   "metadata": {},
   "outputs": [
    {
     "name": "stdout",
     "output_type": "stream",
     "text": [
      "time: 1.45 ms\n"
     ]
    }
   ],
   "source": [
    "from collections import OrderedDict"
   ]
  },
  {
   "cell_type": "code",
   "execution_count": 41,
   "metadata": {},
   "outputs": [
    {
     "data": {
      "text/plain": [
       "srcport       int32\n",
       "dstport       int32\n",
       "srcbytes      int64\n",
       "dstbytes      int32\n",
       "totalbytes    int64\n",
       "dtype: object"
      ]
     },
     "execution_count": 41,
     "metadata": {},
     "output_type": "execute_result"
    },
    {
     "name": "stdout",
     "output_type": "stream",
     "text": [
      "time: 5.73 ms\n"
     ]
    }
   ],
   "source": [
    "gdf.dtypes"
   ]
  },
  {
   "cell_type": "code",
   "execution_count": 46,
   "metadata": {},
   "outputs": [
    {
     "data": {
      "text/plain": [
       "srcport       int32\n",
       "dstport       int32\n",
       "srcbytes      int64\n",
       "dstbytes      int32\n",
       "totalbytes    int64\n",
       "count         int32\n",
       "dtype: object"
      ]
     },
     "execution_count": 46,
     "metadata": {},
     "output_type": "execute_result"
    },
    {
     "name": "stdout",
     "output_type": "stream",
     "text": [
      "time: 8.43 ms\n"
     ]
    }
   ],
   "source": [
    "# add a column for count\n",
    "gdf['count'] = gdf['dstport']\n",
    "gdf.dtypes"
   ]
  },
  {
   "cell_type": "code",
   "execution_count": 47,
   "metadata": {},
   "outputs": [
    {
     "name": "stderr",
     "output_type": "stream",
     "text": [
      "/home/brad/anaconda3/lib/python3.6/site-packages/numba/cuda/compiler.py:233: UserWarning: Could not autotune, using default tpb of 128\n",
      "  warnings.warn('Could not autotune, using default tpb of 128')\n",
      "/home/brad/anaconda3/lib/python3.6/site-packages/numba/cuda/compiler.py:233: UserWarning: Could not autotune, using default tpb of 128\n",
      "  warnings.warn('Could not autotune, using default tpb of 128')\n",
      "/home/brad/anaconda3/lib/python3.6/site-packages/numba/cuda/compiler.py:233: UserWarning: Could not autotune, using default tpb of 128\n",
      "  warnings.warn('Could not autotune, using default tpb of 128')\n",
      "/home/brad/anaconda3/lib/python3.6/site-packages/numba/cuda/compiler.py:233: UserWarning: Could not autotune, using default tpb of 128\n",
      "  warnings.warn('Could not autotune, using default tpb of 128')\n",
      "/home/brad/anaconda3/lib/python3.6/site-packages/numba/cuda/compiler.py:233: UserWarning: Could not autotune, using default tpb of 128\n",
      "  warnings.warn('Could not autotune, using default tpb of 128')\n",
      "/home/brad/anaconda3/lib/python3.6/site-packages/numba/cuda/compiler.py:233: UserWarning: Could not autotune, using default tpb of 128\n",
      "  warnings.warn('Could not autotune, using default tpb of 128')\n",
      "/home/brad/anaconda3/lib/python3.6/site-packages/numba/cuda/compiler.py:233: UserWarning: Could not autotune, using default tpb of 128\n",
      "  warnings.warn('Could not autotune, using default tpb of 128')\n",
      "/home/brad/anaconda3/lib/python3.6/site-packages/numba/cuda/compiler.py:233: UserWarning: Could not autotune, using default tpb of 128\n",
      "  warnings.warn('Could not autotune, using default tpb of 128')\n"
     ]
    },
    {
     "name": "stdout",
     "output_type": "stream",
     "text": [
      "time: 15.1 s\n"
     ]
    }
   ],
   "source": [
    "aggs = OrderedDict()\n",
    "aggs['count'] = 'count'\n",
    "\n",
    "stats = gdf.groupby(['dstport']).agg(aggs)"
   ]
  },
  {
   "cell_type": "code",
   "execution_count": 48,
   "metadata": {},
   "outputs": [
    {
     "data": {
      "text/plain": [
       "dstport      int32\n",
       "count      float64\n",
       "dtype: object"
      ]
     },
     "execution_count": 48,
     "metadata": {},
     "output_type": "execute_result"
    },
    {
     "name": "stdout",
     "output_type": "stream",
     "text": [
      "time: 7.92 ms\n"
     ]
    }
   ],
   "source": [
    "stats.dtypes"
   ]
  },
  {
   "cell_type": "code",
   "execution_count": null,
   "metadata": {},
   "outputs": [],
   "source": [
    "stats.head(25)"
   ]
  },
  {
   "cell_type": "code",
   "execution_count": null,
   "metadata": {},
   "outputs": [],
   "source": [
    "del stats"
   ]
  },
  {
   "cell_type": "code",
   "execution_count": null,
   "metadata": {},
   "outputs": [],
   "source": []
  },
  {
   "cell_type": "markdown",
   "metadata": {},
   "source": [
    "***Tasks:  What is the count of SRC - DST Port groupings\n",
    "<br>\n",
    "<br>\n",
    "<details><summary>Click for answer</summary>\n",
    "<p>\n",
    "aggs = OrderedDict()\n",
    "aggs['count'] = 'count'\n",
    "\n",
    "stats = gdf.groupby(['srcport','dstport']).agg(aggs)\n",
    "</p>\n",
    "</details> "
   ]
  },
  {
   "cell_type": "code",
   "execution_count": 49,
   "metadata": {},
   "outputs": [
    {
     "name": "stderr",
     "output_type": "stream",
     "text": [
      "/home/brad/anaconda3/lib/python3.6/site-packages/numba/cuda/compiler.py:233: UserWarning: Could not autotune, using default tpb of 128\n",
      "  warnings.warn('Could not autotune, using default tpb of 128')\n"
     ]
    },
    {
     "name": "stdout",
     "output_type": "stream",
     "text": [
      "time: 47.8 s\n"
     ]
    }
   ],
   "source": [
    "aggs = OrderedDict()\n",
    "aggs['count'] = 'count'\n",
    "\n",
    "stats = gdf.groupby(['srcport','dstport']).agg(aggs)"
   ]
  },
  {
   "cell_type": "code",
   "execution_count": 50,
   "metadata": {},
   "outputs": [
    {
     "data": {
      "text/plain": [
       "   srcport dstport   count\n",
       " 0       0       0 86927.0\n",
       " 1      20    3098     1.0\n",
       " 2      20    3099     1.0\n",
       " 3      20    3100     1.0\n",
       " 4      20    3103     1.0\n",
       " 5      20    3544     1.0\n",
       " 6      20    3545     1.0\n",
       " 7      20    3546     1.0\n",
       " 8      20    3547     1.0\n",
       " 9      20    3548     1.0\n",
       "10      20    3549     1.0\n",
       "11      20    3552     1.0\n",
       "12      20    3553     1.0\n",
       "13      20    8403     1.0\n",
       "14      20    8404     1.0\n",
       "15      20    8405     1.0\n",
       "16      20    8406     1.0\n",
       "17      20    8407     1.0\n",
       "18      20    8408     1.0\n",
       "19      21    1048     1.0\n",
       "20      21    1074     1.0\n",
       "21      21    1084     1.0\n",
       "22      21    1087     1.0\n",
       "23      21    1137     1.0\n",
       "24      21    1139     1.0"
      ]
     },
     "execution_count": 50,
     "metadata": {},
     "output_type": "execute_result"
    },
    {
     "name": "stdout",
     "output_type": "stream",
     "text": [
      "time: 16.2 ms\n"
     ]
    }
   ],
   "source": [
    "stats.head(25)"
   ]
  },
  {
   "cell_type": "code",
   "execution_count": null,
   "metadata": {},
   "outputs": [],
   "source": []
  },
  {
   "cell_type": "markdown",
   "metadata": {},
   "source": [
    "## Independent Task"
   ]
  },
  {
   "cell_type": "markdown",
   "metadata": {},
   "source": [
    "***TASK***\n",
    "- Normalize the total byte count to KB\n",
    "- Compute the Mean and Standard Deviations\n",
    "- Compute the Z-Score"
   ]
  },
  {
   "cell_type": "markdown",
   "metadata": {},
   "source": [
    "Answer below"
   ]
  },
  {
   "cell_type": "code",
   "execution_count": null,
   "metadata": {},
   "outputs": [],
   "source": []
  },
  {
   "cell_type": "code",
   "execution_count": null,
   "metadata": {},
   "outputs": [],
   "source": []
  },
  {
   "cell_type": "code",
   "execution_count": null,
   "metadata": {},
   "outputs": [],
   "source": []
  },
  {
   "cell_type": "code",
   "execution_count": null,
   "metadata": {},
   "outputs": [],
   "source": []
  },
  {
   "cell_type": "code",
   "execution_count": null,
   "metadata": {},
   "outputs": [],
   "source": []
  },
  {
   "cell_type": "code",
   "execution_count": null,
   "metadata": {},
   "outputs": [],
   "source": [
    "gdf.dtypes"
   ]
  },
  {
   "cell_type": "code",
   "execution_count": null,
   "metadata": {},
   "outputs": [],
   "source": []
  },
  {
   "cell_type": "code",
   "execution_count": null,
   "metadata": {},
   "outputs": [],
   "source": [
    "def ScaleData( totalbytes, KB, Scale) :\n",
    "    for i in range (totalbytes.size) :\n",
    "        KB[i] = totalbytes[i] / Scale"
   ]
  },
  {
   "cell_type": "code",
   "execution_count": null,
   "metadata": {},
   "outputs": [],
   "source": [
    "gdf = gdf.apply_rows(ScaleData, incols=['totalbytes'], outcols=dict(KB=np.float32), kwargs=dict(Scale=(1024)))"
   ]
  },
  {
   "cell_type": "code",
   "execution_count": null,
   "metadata": {},
   "outputs": [],
   "source": [
    "gdf.head(25)"
   ]
  },
  {
   "cell_type": "code",
   "execution_count": null,
   "metadata": {},
   "outputs": [],
   "source": [
    "mean = gdf['KB'].mean()"
   ]
  },
  {
   "cell_type": "code",
   "execution_count": null,
   "metadata": {},
   "outputs": [],
   "source": [
    "std = gdf['KB'].std()"
   ]
  },
  {
   "cell_type": "code",
   "execution_count": null,
   "metadata": {},
   "outputs": [],
   "source": [
    "print(\"Std == %f \\t Mean == %f\" % (std, mean))"
   ]
  },
  {
   "cell_type": "code",
   "execution_count": null,
   "metadata": {},
   "outputs": [],
   "source": [
    "def NormalizeData( KB, Z, s, m) :\n",
    "    for i in range(KB.size):\n",
    "        Z[i] =  ( (KB[i] - m)/s )\n"
   ]
  },
  {
   "cell_type": "code",
   "execution_count": null,
   "metadata": {},
   "outputs": [],
   "source": [
    "gdf = gdf.apply_rows(NormalizeData, incols=['KB'], outcols=dict(Z=np.float32), kwargs=dict(s=std, m=mean ))"
   ]
  },
  {
   "cell_type": "code",
   "execution_count": null,
   "metadata": {},
   "outputs": [],
   "source": [
    "gdf.head(30)"
   ]
  },
  {
   "cell_type": "code",
   "execution_count": null,
   "metadata": {},
   "outputs": [],
   "source": []
  }
 ],
 "metadata": {
  "kernelspec": {
   "display_name": "Python 3",
   "language": "python",
   "name": "python3"
  },
  "language_info": {
   "codemirror_mode": {
    "name": "ipython",
    "version": 3
   },
   "file_extension": ".py",
   "mimetype": "text/x-python",
   "name": "python",
   "nbconvert_exporter": "python",
   "pygments_lexer": "ipython3",
   "version": "3.6.4"
  }
 },
 "nbformat": 4,
 "nbformat_minor": 2
}
