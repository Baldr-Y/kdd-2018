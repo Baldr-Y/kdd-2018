{
 "cells": [
  {
   "cell_type": "markdown",
   "metadata": {},
   "source": [
    "# Lab 1:  Data Loading, GPU Dataframe Creation, and Data Manipulation\n",
    "Thanks to Anaconda for some material"
   ]
  },
  {
   "cell_type": "markdown",
   "metadata": {},
   "source": [
    "In this lab you will learn how to \n",
    "- Load data into a GPU Data Frame (GDF)\n",
    "- Learn about Dataframe level data functions\n",
    "- Learn about seriers level data function \n",
    "- Manitulate data in a GDF to performance some basic ETL and statistical functions\n",
    "\n",
    "\n",
    "For this lab we will be looking at Netflow data.  The data consist of seven column which make it easy to visually inspect.  We will be manipulating the data in various way, many of which make not sense for doing cyber analysis.  \n",
    "\n",
    "\n",
    "This lab should take 50 minutes\n",
    "\n",
    "\n",
    "<br>\n",
    "As you progress in this lab look for instances of ***TASK:***, this will be where you will be asked to take an action to complete this lab."
   ]
  },
  {
   "cell_type": "markdown",
   "metadata": {},
   "source": [
    "***TASK:*** Execute the cell below to auto-time execution of every cell"
   ]
  },
  {
   "cell_type": "code",
   "execution_count": 1,
   "metadata": {},
   "outputs": [
    {
     "name": "stdout",
     "output_type": "stream",
     "text": [
      "Requirement already satisfied: ipython-autotime in /home/brad/anaconda3/lib/python3.6/site-packages\n",
      "\u001b[33mYou are using pip version 9.0.1, however version 18.0 is available.\n",
      "You should consider upgrading via the 'pip install --upgrade pip' command.\u001b[0m\n"
     ]
    }
   ],
   "source": [
    "# Add autotime of each block\n",
    "!pip install ipython-autotime\n",
    "%load_ext autotime"
   ]
  },
  {
   "cell_type": "markdown",
   "metadata": {},
   "source": [
    "<br>\n",
    "_____\n",
    "# Loading Data\n",
    "The first file we are going to load is netflow1.csv\n",
    "  \n",
    "Size = 965 MB<br>\n",
    "Records = 17,296,829"
   ]
  },
  {
   "cell_type": "markdown",
   "metadata": {},
   "source": [
    "<p>\n",
    "### Load using the traditional Pandas interface"
   ]
  },
  {
   "cell_type": "code",
   "execution_count": 2,
   "metadata": {},
   "outputs": [
    {
     "name": "stdout",
     "output_type": "stream",
     "text": [
      "time: 197 ms\n"
     ]
    }
   ],
   "source": [
    "import pandas as pd"
   ]
  },
  {
   "cell_type": "code",
   "execution_count": 3,
   "metadata": {},
   "outputs": [
    {
     "name": "stdout",
     "output_type": "stream",
     "text": [
      "time: 4.84 ms\n"
     ]
    }
   ],
   "source": [
    "# let's define the data - column names and data types\n",
    "cols = [\n",
    "    \"strdate\",\n",
    "    \"srcip\",\n",
    "    \"dstip\",\n",
    "    \"srcport\",\n",
    "    \"dstport\",\n",
    "    \"srcbytes\",\n",
    "    \"dstbytes\"   \n",
    "]\n",
    "\n",
    "\n",
    "dtypes = {    \n",
    "    \"strdate\"  : str,\n",
    "    \"srcip\"    : str,\n",
    "    \"dstip\"    : str,\n",
    "    \"srcport\"  : int,\n",
    "    \"dstport\"  : int,\n",
    "    \"srcbytes\" : int,\n",
    "    \"dstbytes\" : int\n",
    "\n",
    "}"
   ]
  },
  {
   "cell_type": "code",
   "execution_count": 4,
   "metadata": {},
   "outputs": [
    {
     "name": "stdout",
     "output_type": "stream",
     "text": [
      "time: 1.32 ms\n"
     ]
    }
   ],
   "source": [
    "file_1 = '../data/netflow/netflow1.csv'"
   ]
  },
  {
   "cell_type": "code",
   "execution_count": 5,
   "metadata": {},
   "outputs": [
    {
     "name": "stdout",
     "output_type": "stream",
     "text": [
      "time: 10.2 s\n"
     ]
    }
   ],
   "source": [
    "# the data file contains a header line that needs to be skipped\n",
    "df = pd.read_csv(file_1,  names=cols, dtype=dtypes, skiprows=1)"
   ]
  },
  {
   "cell_type": "code",
   "execution_count": 6,
   "metadata": {},
   "outputs": [
    {
     "data": {
      "text/plain": [
       "strdate     object\n",
       "srcip       object\n",
       "dstip       object\n",
       "srcport      int64\n",
       "dstport      int64\n",
       "srcbytes     int64\n",
       "dstbytes     int64\n",
       "dtype: object"
      ]
     },
     "execution_count": 6,
     "metadata": {},
     "output_type": "execute_result"
    },
    {
     "name": "stdout",
     "output_type": "stream",
     "text": [
      "time: 13.7 ms\n"
     ]
    }
   ],
   "source": [
    "df.dtypes"
   ]
  },
  {
   "cell_type": "code",
   "execution_count": 7,
   "metadata": {},
   "outputs": [
    {
     "data": {
      "text/html": [
       "<div>\n",
       "<style scoped>\n",
       "    .dataframe tbody tr th:only-of-type {\n",
       "        vertical-align: middle;\n",
       "    }\n",
       "\n",
       "    .dataframe tbody tr th {\n",
       "        vertical-align: top;\n",
       "    }\n",
       "\n",
       "    .dataframe thead th {\n",
       "        text-align: right;\n",
       "    }\n",
       "</style>\n",
       "<table border=\"1\" class=\"dataframe\">\n",
       "  <thead>\n",
       "    <tr style=\"text-align: right;\">\n",
       "      <th></th>\n",
       "      <th>strdate</th>\n",
       "      <th>srcip</th>\n",
       "      <th>dstip</th>\n",
       "      <th>srcport</th>\n",
       "      <th>dstport</th>\n",
       "      <th>srcbytes</th>\n",
       "      <th>dstbytes</th>\n",
       "    </tr>\n",
       "  </thead>\n",
       "  <tbody>\n",
       "    <tr>\n",
       "      <th>0</th>\n",
       "      <td>2013-04-01 07:50:16</td>\n",
       "      <td>172.20.0.3</td>\n",
       "      <td>172.255.255.255</td>\n",
       "      <td>137</td>\n",
       "      <td>137</td>\n",
       "      <td>1104</td>\n",
       "      <td>0</td>\n",
       "    </tr>\n",
       "    <tr>\n",
       "      <th>1</th>\n",
       "      <td>2013-04-01 07:50:21</td>\n",
       "      <td>172.10.0.40</td>\n",
       "      <td>172.255.255.255</td>\n",
       "      <td>137</td>\n",
       "      <td>137</td>\n",
       "      <td>184</td>\n",
       "      <td>0</td>\n",
       "    </tr>\n",
       "    <tr>\n",
       "      <th>2</th>\n",
       "      <td>2013-04-01 08:05:00</td>\n",
       "      <td>172.10.1.17</td>\n",
       "      <td>10.0.0.13</td>\n",
       "      <td>5040</td>\n",
       "      <td>80</td>\n",
       "      <td>454</td>\n",
       "      <td>633</td>\n",
       "    </tr>\n",
       "    <tr>\n",
       "      <th>3</th>\n",
       "      <td>2013-04-01 08:05:01</td>\n",
       "      <td>172.10.1.9</td>\n",
       "      <td>10.1.0.77</td>\n",
       "      <td>5067</td>\n",
       "      <td>80</td>\n",
       "      <td>454</td>\n",
       "      <td>633</td>\n",
       "    </tr>\n",
       "    <tr>\n",
       "      <th>4</th>\n",
       "      <td>2013-04-01 08:05:01</td>\n",
       "      <td>172.30.2.114</td>\n",
       "      <td>10.0.0.9</td>\n",
       "      <td>8749</td>\n",
       "      <td>80</td>\n",
       "      <td>453</td>\n",
       "      <td>632</td>\n",
       "    </tr>\n",
       "  </tbody>\n",
       "</table>\n",
       "</div>"
      ],
      "text/plain": [
       "               strdate         srcip            dstip  srcport  dstport  \\\n",
       "0  2013-04-01 07:50:16    172.20.0.3  172.255.255.255      137      137   \n",
       "1  2013-04-01 07:50:21   172.10.0.40  172.255.255.255      137      137   \n",
       "2  2013-04-01 08:05:00   172.10.1.17        10.0.0.13     5040       80   \n",
       "3  2013-04-01 08:05:01    172.10.1.9        10.1.0.77     5067       80   \n",
       "4  2013-04-01 08:05:01  172.30.2.114         10.0.0.9     8749       80   \n",
       "\n",
       "   srcbytes  dstbytes  \n",
       "0      1104         0  \n",
       "1       184         0  \n",
       "2       454       633  \n",
       "3       454       633  \n",
       "4       453       632  "
      ]
     },
     "execution_count": 7,
     "metadata": {},
     "output_type": "execute_result"
    },
    {
     "name": "stdout",
     "output_type": "stream",
     "text": [
      "time: 15.6 ms\n"
     ]
    }
   ],
   "source": [
    "df.head()"
   ]
  },
  {
   "cell_type": "markdown",
   "metadata": {},
   "source": [
    "<br>\n",
    "### Creating a GPU Dataframe\n"
   ]
  },
  {
   "cell_type": "code",
   "execution_count": 8,
   "metadata": {},
   "outputs": [
    {
     "name": "stdout",
     "output_type": "stream",
     "text": [
      "time: 317 ms\n"
     ]
    }
   ],
   "source": [
    "import pygdf"
   ]
  },
  {
   "cell_type": "code",
   "execution_count": 9,
   "metadata": {},
   "outputs": [
    {
     "name": "stdout",
     "output_type": "stream",
     "text": [
      "time: 957 ms\n"
     ]
    }
   ],
   "source": [
    "gdf = pygdf.DataFrame.from_pandas(df)"
   ]
  },
  {
   "cell_type": "code",
   "execution_count": 10,
   "metadata": {},
   "outputs": [
    {
     "data": {
      "text/plain": [
       "strdate     object\n",
       "srcip       object\n",
       "dstip       object\n",
       "srcport      int64\n",
       "dstport      int64\n",
       "srcbytes     int64\n",
       "dstbytes     int64\n",
       "dtype: object"
      ]
     },
     "execution_count": 10,
     "metadata": {},
     "output_type": "execute_result"
    },
    {
     "name": "stdout",
     "output_type": "stream",
     "text": [
      "time: 5.8 ms\n"
     ]
    }
   ],
   "source": [
    "gdf.dtypes"
   ]
  },
  {
   "cell_type": "markdown",
   "metadata": {},
   "source": [
    "***Congrats you have craeted a GPU Data Frame***"
   ]
  },
  {
   "cell_type": "code",
   "execution_count": 11,
   "metadata": {},
   "outputs": [
    {
     "data": {
      "text/plain": [
       "              strdate        srcip           dstip srcport dstport srcbytes dstbytes\n",
       "0 2013-04-01 07:50:16   172.20.0.3 172.255.255.255     137     137     1104        0\n",
       "1 2013-04-01 07:50:21  172.10.0.40 172.255.255.255     137     137      184        0\n",
       "2 2013-04-01 08:05:00  172.10.1.17       10.0.0.13    5040      80      454      633\n",
       "3 2013-04-01 08:05:01   172.10.1.9       10.1.0.77    5067      80      454      633\n",
       "4 2013-04-01 08:05:01 172.30.2.114        10.0.0.9    8749      80      453      632"
      ]
     },
     "execution_count": 11,
     "metadata": {},
     "output_type": "execute_result"
    },
    {
     "name": "stdout",
     "output_type": "stream",
     "text": [
      "time: 23.4 ms\n"
     ]
    }
   ],
   "source": [
    "# let's look at the data\n",
    "gdf.head()"
   ]
  },
  {
   "cell_type": "code",
   "execution_count": null,
   "metadata": {},
   "outputs": [],
   "source": []
  },
  {
   "cell_type": "markdown",
   "metadata": {},
   "source": [
    "### Transitioning GDF back to Pandas"
   ]
  },
  {
   "cell_type": "code",
   "execution_count": 12,
   "metadata": {},
   "outputs": [
    {
     "name": "stdout",
     "output_type": "stream",
     "text": [
      "time: 1.14 s\n"
     ]
    }
   ],
   "source": [
    "# just as easy\n",
    "df2 = gdf.to_pandas()"
   ]
  },
  {
   "cell_type": "code",
   "execution_count": 13,
   "metadata": {},
   "outputs": [
    {
     "data": {
      "text/plain": [
       "strdate     object\n",
       "srcip       object\n",
       "dstip       object\n",
       "srcport      int64\n",
       "dstport      int64\n",
       "srcbytes     int64\n",
       "dstbytes     int64\n",
       "dtype: object"
      ]
     },
     "execution_count": 13,
     "metadata": {},
     "output_type": "execute_result"
    },
    {
     "name": "stdout",
     "output_type": "stream",
     "text": [
      "time: 5.06 ms\n"
     ]
    }
   ],
   "source": [
    "df2.dtypes"
   ]
  },
  {
   "cell_type": "markdown",
   "metadata": {},
   "source": [
    "### Clean-up: deleting a dataframe"
   ]
  },
  {
   "cell_type": "code",
   "execution_count": 14,
   "metadata": {},
   "outputs": [
    {
     "name": "stdout",
     "output_type": "stream",
     "text": [
      "time: 123 ms\n"
     ]
    }
   ],
   "source": [
    "# clean up since we don't need df2\n",
    "del df2"
   ]
  },
  {
   "cell_type": "code",
   "execution_count": 15,
   "metadata": {},
   "outputs": [
    {
     "name": "stdout",
     "output_type": "stream",
     "text": [
      "time: 1.08 ms\n"
     ]
    }
   ],
   "source": [
    "# Also drop the GPU dataframe since we will recreate it with some options\n",
    "del gdf"
   ]
  },
  {
   "cell_type": "code",
   "execution_count": 18,
   "metadata": {},
   "outputs": [
    {
     "name": "stdout",
     "output_type": "stream",
     "text": [
      "time: 1.27 ms\n"
     ]
    }
   ],
   "source": [
    "del df"
   ]
  },
  {
   "cell_type": "markdown",
   "metadata": {},
   "source": [
    "# Column-based funtions and Data Manipulation"
   ]
  },
  {
   "cell_type": "code",
   "execution_count": 41,
   "metadata": {},
   "outputs": [
    {
     "name": "stdout",
     "output_type": "stream",
     "text": [
      "time: 10.1 s\n"
     ]
    }
   ],
   "source": [
    "# reload the data\n",
    "# the data file contains a header line that needs to be skipped\n",
    "df = pd.read_csv(file_1,  names=cols, dtype=dtypes, skiprows=1)"
   ]
  },
  {
   "cell_type": "markdown",
   "metadata": {},
   "source": [
    "### Limitations on the current GDF version\n",
    "- Date are not supported   => scheduke for next version\n",
    "- String are not supported => also schedule for next version"
   ]
  },
  {
   "cell_type": "code",
   "execution_count": 42,
   "metadata": {},
   "outputs": [
    {
     "data": {
      "text/plain": [
       "0    2013-04-01 07:50:16\n",
       "1    2013-04-01 07:50:21\n",
       "Name: strdate, dtype: object"
      ]
     },
     "execution_count": 42,
     "metadata": {},
     "output_type": "execute_result"
    },
    {
     "name": "stdout",
     "output_type": "stream",
     "text": [
      "time: 6.37 ms\n"
     ]
    }
   ],
   "source": [
    "df.strdate.head(2)"
   ]
  },
  {
   "cell_type": "code",
   "execution_count": 43,
   "metadata": {},
   "outputs": [
    {
     "name": "stdout",
     "output_type": "stream",
     "text": [
      "time: 2.82 s\n"
     ]
    }
   ],
   "source": [
    "# Within Pandas - Convert the data from a string into parts\n",
    "df['Date']  = pd.to_datetime(df['strdate'], format='%Y-%m-%d %H:%M:%S')"
   ]
  },
  {
   "cell_type": "code",
   "execution_count": 44,
   "metadata": {},
   "outputs": [
    {
     "name": "stdout",
     "output_type": "stream",
     "text": [
      "time: 1.15 s\n"
     ]
    }
   ],
   "source": [
    "df['Year']  = df.Date.dt.year\n",
    "df['Month'] = df.Date.dt.month"
   ]
  },
  {
   "cell_type": "markdown",
   "metadata": {},
   "source": [
    "***Task:***  Convert day, hour, min, and second\n",
    "<details><summary>Click for Answer</summary>\n",
    "<p>\n",
    "df['Day']  = df.Date.dt.day\n",
    "df['Hour'] = df.Date.dt.hour\n",
    "df['Minute']  = df.Date.dt.minute\n",
    "df['Second'] = df.Date.dt.second\n",
    "</p>\n",
    "</details>"
   ]
  },
  {
   "cell_type": "code",
   "execution_count": 45,
   "metadata": {},
   "outputs": [
    {
     "name": "stdout",
     "output_type": "stream",
     "text": [
      "time: 2.28 s\n"
     ]
    }
   ],
   "source": [
    "#remove\n",
    "df['Day']  = df.Date.dt.day\n",
    "df['Hour'] = df.Date.dt.hour\n",
    "df['Minute']  = df.Date.dt.minute\n",
    "df['Second'] = df.Date.dt.second"
   ]
  },
  {
   "cell_type": "code",
   "execution_count": 46,
   "metadata": {},
   "outputs": [
    {
     "data": {
      "text/plain": [
       "strdate             object\n",
       "srcip               object\n",
       "dstip               object\n",
       "srcport              int64\n",
       "dstport              int64\n",
       "srcbytes             int64\n",
       "dstbytes             int64\n",
       "Date        datetime64[ns]\n",
       "Year                 int64\n",
       "Month                int64\n",
       "Day                  int64\n",
       "Hour                 int64\n",
       "Minute               int64\n",
       "Second               int64\n",
       "dtype: object"
      ]
     },
     "execution_count": 46,
     "metadata": {},
     "output_type": "execute_result"
    },
    {
     "name": "stdout",
     "output_type": "stream",
     "text": [
      "time: 5.46 ms\n"
     ]
    }
   ],
   "source": [
    "df.dtypes"
   ]
  },
  {
   "cell_type": "code",
   "execution_count": 47,
   "metadata": {},
   "outputs": [
    {
     "name": "stdout",
     "output_type": "stream",
     "text": [
      "time: 2.76 s\n"
     ]
    }
   ],
   "source": [
    "# drop the columns we no longer care about\n",
    "df = df.drop(columns=['strdate','Date'])"
   ]
  },
  {
   "cell_type": "code",
   "execution_count": 48,
   "metadata": {},
   "outputs": [
    {
     "name": "stdout",
     "output_type": "stream",
     "text": [
      "time: 1.13 s\n"
     ]
    }
   ],
   "source": [
    "# now create the GDF one more time\n",
    "gdf = pygdf.DataFrame.from_pandas(df)"
   ]
  },
  {
   "cell_type": "markdown",
   "metadata": {},
   "source": [
    "<br>\n",
    "That's it - the data is now loaded and available for accelerated Data Analysis on the GPU\n",
    "<p>\n",
    "*Rember that **df = CPU** and **gdf = GPU** since we will switch back and forth for performance comparisons*<p>\n",
    "***Data Loading Runtime*** = pd.read_csv + DataFrame.from_pandas"
   ]
  },
  {
   "cell_type": "markdown",
   "metadata": {},
   "source": [
    "<br>\n",
    "# Column Functionals and Transformations\n",
    "One of the basic GDF operations is column transform. To do that we use built-in arithmetic operations on each column\n",
    "\n",
    "***Note:*** The followiong function operate against a GDF Column - not against the full dataset.\n"
   ]
  },
  {
   "cell_type": "markdown",
   "metadata": {},
   "source": [
    "### Simple Counting"
   ]
  },
  {
   "cell_type": "code",
   "execution_count": 49,
   "metadata": {},
   "outputs": [
    {
     "data": {
      "text/plain": [
       "17296828"
      ]
     },
     "execution_count": 49,
     "metadata": {},
     "output_type": "execute_result"
    },
    {
     "name": "stdout",
     "output_type": "stream",
     "text": [
      "time: 4.02 ms\n"
     ]
    }
   ],
   "source": [
    "# How many 'Non-NULL' records are in the dataset?\n",
    "gdf['dstbytes'].count()"
   ]
  },
  {
   "cell_type": "code",
   "execution_count": 50,
   "metadata": {},
   "outputs": [
    {
     "data": {
      "text/plain": [
       "17296828"
      ]
     },
     "execution_count": 50,
     "metadata": {},
     "output_type": "execute_result"
    },
    {
     "name": "stdout",
     "output_type": "stream",
     "text": [
      "time: 3.53 ms\n"
     ]
    }
   ],
   "source": [
    "# First some simple counting of the number of rows\n",
    "gdf['srcport'].count()"
   ]
  },
  {
   "cell_type": "markdown",
   "metadata": {},
   "source": [
    "***Task:***  How long does it take to do that simple counting on the CPU?\n",
    "<details><summary>Click for Answer</summary>\n",
    "<p>\n",
    "df['dstbytes'].count()\n",
    "</p>\n",
    "</details>"
   ]
  },
  {
   "cell_type": "code",
   "execution_count": 52,
   "metadata": {},
   "outputs": [
    {
     "data": {
      "text/plain": [
       "17296828"
      ]
     },
     "execution_count": 52,
     "metadata": {},
     "output_type": "execute_result"
    },
    {
     "name": "stdout",
     "output_type": "stream",
     "text": [
      "time: 49.4 ms\n"
     ]
    }
   ],
   "source": [
    "#Remove\n",
    "df['dstbytes'].count()"
   ]
  },
  {
   "cell_type": "code",
   "execution_count": 53,
   "metadata": {},
   "outputs": [
    {
     "name": "stdout",
     "output_type": "stream",
     "text": [
      "time: 30.5 s\n"
     ]
    }
   ],
   "source": [
    "### That is not enough data to truely push a GPU, let's load more\n",
    "file_2 = '../data/netflow/netflow1.csv'\n",
    "file_3 = '../data/netflow/netflow1.csv'\n",
    "file_4 = '../data/netflow/netflow1.csv'\n",
    "\n",
    "df2 = pd.read_csv(file_2,  names=cols, dtype=dtypes, skiprows=1)\n",
    "df3 = pd.read_csv(file_3,  names=cols, dtype=dtypes, skiprows=1)\n",
    "df4 = pd.read_csv(file_4,  names=cols, dtype=dtypes, skiprows=1)"
   ]
  },
  {
   "cell_type": "code",
   "execution_count": 56,
   "metadata": {},
   "outputs": [
    {
     "name": "stdout",
     "output_type": "stream",
     "text": [
      "time: 12.7 ms\n"
     ]
    }
   ],
   "source": [
    "def ExtractDateTeime (raw_df) :\n",
    "    raw_df['Date']   = pd.to_datetime(raw_df['strdate'], format='%Y-%m-%d %H:%M:%S')\n",
    "    raw_df['Year']   = raw_df.Date.dt.year\n",
    "    raw_df['Month']  = raw_df.Date.dt.month    \n",
    "    raw_df['Day']    = raw_df.Date.dt.day\n",
    "    raw_df['Hour']   = raw_df.Date.dt.hour\n",
    "    raw_df['Minute'] = raw_df.Date.dt.minute\n",
    "    raw_df['Second'] = raw_df.Date.dt.second   \n",
    "    \n",
    "    raw_df = raw_df.drop(columns=['strdate','Date'])\n",
    "    \n",
    "    return raw_df"
   ]
  },
  {
   "cell_type": "code",
   "execution_count": 57,
   "metadata": {},
   "outputs": [
    {
     "name": "stdout",
     "output_type": "stream",
     "text": [
      "time: 26.5 s\n"
     ]
    }
   ],
   "source": [
    "df2 = ExtractDateTeime(df2)\n",
    "df3 = ExtractDateTeime(df3)\n",
    "df4 = ExtractDateTeime(df4)"
   ]
  },
  {
   "cell_type": "code",
   "execution_count": 58,
   "metadata": {},
   "outputs": [
    {
     "name": "stdout",
     "output_type": "stream",
     "text": [
      "time: 3.52 s\n"
     ]
    }
   ],
   "source": [
    "gdf2 = pygdf.DataFrame.from_pandas(df2)\n",
    "gdf3 = pygdf.DataFrame.from_pandas(df3)\n",
    "gdf4 = pygdf.DataFrame.from_pandas(df4)"
   ]
  },
  {
   "cell_type": "code",
   "execution_count": 59,
   "metadata": {},
   "outputs": [
    {
     "name": "stdout",
     "output_type": "stream",
     "text": [
      "time: 57.1 ms\n"
     ]
    }
   ],
   "source": [
    "# Concatenate the 4 GDF together\n",
    "gdf = pygdf.concat([gdf, gdf2, gdf3, gdf4])"
   ]
  },
  {
   "cell_type": "code",
   "execution_count": 64,
   "metadata": {},
   "outputs": [
    {
     "data": {
      "text/plain": [
       "69187312"
      ]
     },
     "execution_count": 64,
     "metadata": {},
     "output_type": "execute_result"
    },
    {
     "name": "stdout",
     "output_type": "stream",
     "text": [
      "time: 3.23 ms\n"
     ]
    }
   ],
   "source": [
    "gdf['srcport'].count()"
   ]
  },
  {
   "cell_type": "markdown",
   "metadata": {},
   "source": [
    "was 17,296,828 now is 69,187,312"
   ]
  },
  {
   "cell_type": "code",
   "execution_count": 61,
   "metadata": {},
   "outputs": [
    {
     "name": "stdout",
     "output_type": "stream",
     "text": [
      "time: 4.33 s\n"
     ]
    }
   ],
   "source": [
    "# do the same on the CPU so that the two datasets are in sync\n",
    "df = pd.concat([df, df2, df3, df4])"
   ]
  },
  {
   "cell_type": "markdown",
   "metadata": {},
   "source": [
    "## Data Type Conversion\n",
    "Let's continue cleanign up the data"
   ]
  },
  {
   "cell_type": "markdown",
   "metadata": {},
   "source": [
    "<br>\n",
    "***Task***   Drop the scrip and dstip columns since string is not a supported data type\n",
    "<br>\n",
    "<br>\n",
    "<details><summary>Click for answer</summary>\n",
    "<p>\n",
    "gdf.drop_column('srcip')\n",
    "gdf.drop_column('dstip')\n",
    "</p>\n",
    "</details>"
   ]
  },
  {
   "cell_type": "code",
   "execution_count": 66,
   "metadata": {},
   "outputs": [
    {
     "name": "stdout",
     "output_type": "stream",
     "text": [
      "time: 20.5 ms\n"
     ]
    }
   ],
   "source": [
    "#Remove\n",
    "gdf.drop_column('srcip')\n",
    "gdf.drop_column('dstip')"
   ]
  },
  {
   "cell_type": "markdown",
   "metadata": {},
   "source": [
    "### What is the max value for the source port?"
   ]
  },
  {
   "cell_type": "code",
   "execution_count": 68,
   "metadata": {},
   "outputs": [
    {
     "data": {
      "text/plain": [
       "65534"
      ]
     },
     "execution_count": 68,
     "metadata": {},
     "output_type": "execute_result"
    },
    {
     "name": "stdout",
     "output_type": "stream",
     "text": [
      "time: 9.8 ms\n"
     ]
    }
   ],
   "source": [
    "gdf['srcport'].max()"
   ]
  },
  {
   "cell_type": "code",
   "execution_count": 69,
   "metadata": {},
   "outputs": [
    {
     "name": "stdout",
     "output_type": "stream",
     "text": [
      "time: 117 ms\n"
     ]
    },
    {
     "name": "stderr",
     "output_type": "stream",
     "text": [
      "/home/brad/anaconda3/lib/python3.6/site-packages/numba/cuda/compiler.py:233: UserWarning: Could not autotune, using default tpb of 128\n",
      "  warnings.warn('Could not autotune, using default tpb of 128')\n"
     ]
    }
   ],
   "source": [
    "# Since the largest dstbyte size is less than an int32, let's convert the data type\n",
    "import numpy as np\n",
    "gdf['srcport'] = gdf['srcport'].astype(np.int32)"
   ]
  },
  {
   "cell_type": "code",
   "execution_count": 70,
   "metadata": {},
   "outputs": [
    {
     "data": {
      "text/plain": [
       "srcport     int32\n",
       "dstport     int64\n",
       "srcbytes    int64\n",
       "dstbytes    int64\n",
       "Year        int64\n",
       "Month       int64\n",
       "Day         int64\n",
       "Hour        int64\n",
       "Minute      int64\n",
       "Second      int64\n",
       "dtype: object"
      ]
     },
     "execution_count": 70,
     "metadata": {},
     "output_type": "execute_result"
    },
    {
     "name": "stdout",
     "output_type": "stream",
     "text": [
      "time: 5.76 ms\n"
     ]
    }
   ],
   "source": [
    "gdf.dtypes"
   ]
  },
  {
   "cell_type": "markdown",
   "metadata": {},
   "source": [
    "<br>\n",
    "***Tasks*** Find the max values for dstport, srcbytes, and dstbyutes\n",
    "\n",
    "<details><summary>Click for Answer</summary>\n",
    "<p>\n",
    "gdf['dstport'].max()\n",
    "gdf['srcbytes'].max()\n",
    "gdf['dstbytes'].max()\n",
    "</p>\n",
    "</details>"
   ]
  },
  {
   "cell_type": "markdown",
   "metadata": {},
   "source": [
    "<br>\n",
    "***Tasks*** Convert dstport to int32\n",
    "\n",
    "<details><summary>Click for Answer</summary>\n",
    "<p>\n",
    "gdf['dstport'] = gdf['dstport'].astype(np.int32)\n",
    "</p>\n",
    "</details>"
   ]
  },
  {
   "cell_type": "markdown",
   "metadata": {},
   "source": [
    "***Question*** Why do we care about using smaller data types?"
   ]
  },
  {
   "cell_type": "markdown",
   "metadata": {},
   "source": [
    "<br>\n",
    "***Tasks*** Looking at dstbytes:  what is min, max, mean, and standard deviation?\n",
    "\n",
    "<details><summary>Click for Answer</summary>\n",
    "<p>\n",
    "gdf['dstbytes'].min()\n",
    "gdf['dstbytes'].max()\n",
    "gdf['dstbytes'].mean()\n",
    "gdf['dstbytes'].std()\n",
    "</p>\n",
    "</details>"
   ]
  },
  {
   "cell_type": "code",
   "execution_count": 71,
   "metadata": {},
   "outputs": [
    {
     "name": "stderr",
     "output_type": "stream",
     "text": [
      "/home/brad/anaconda3/lib/python3.6/site-packages/numba/cuda/compiler.py:233: UserWarning: Could not autotune, using default tpb of 128\n",
      "  warnings.warn('Could not autotune, using default tpb of 128')\n"
     ]
    },
    {
     "data": {
      "text/plain": [
       "22052.182972823728"
      ]
     },
     "execution_count": 71,
     "metadata": {},
     "output_type": "execute_result"
    },
    {
     "name": "stdout",
     "output_type": "stream",
     "text": [
      "time: 145 ms\n"
     ]
    }
   ],
   "source": [
    "# Remove\n",
    "gdf['dstbytes'].min()\n",
    "gdf['dstbytes'].max()\n",
    "gdf['dstbytes'].mean()\n",
    "gdf['dstbytes'].std()"
   ]
  },
  {
   "cell_type": "code",
   "execution_count": null,
   "metadata": {},
   "outputs": [],
   "source": []
  },
  {
   "cell_type": "markdown",
   "metadata": {},
   "source": [
    "## Now Let's create a new column"
   ]
  },
  {
   "cell_type": "markdown",
   "metadata": {},
   "source": [
    "<br>\n",
    "### Transformations\n",
    "***Tasks*** Create a new GDF column called ***totalbyes*** that is the sum of src and dst bytes"
   ]
  },
  {
   "cell_type": "code",
   "execution_count": 73,
   "metadata": {},
   "outputs": [
    {
     "name": "stdout",
     "output_type": "stream",
     "text": [
      "time: 26.5 ms\n"
     ]
    }
   ],
   "source": [
    "gdf['totalbytes'] = gdf['srcbytes'] + gdf['dstbytes']"
   ]
  },
  {
   "cell_type": "code",
   "execution_count": 74,
   "metadata": {},
   "outputs": [
    {
     "data": {
      "text/plain": [
       "srcport       int32\n",
       "dstport       int64\n",
       "srcbytes      int64\n",
       "dstbytes      int64\n",
       "Year          int64\n",
       "Month         int64\n",
       "Day           int64\n",
       "Hour          int64\n",
       "Minute        int64\n",
       "Second        int64\n",
       "totalbytes    int64\n",
       "dtype: object"
      ]
     },
     "execution_count": 74,
     "metadata": {},
     "output_type": "execute_result"
    },
    {
     "name": "stdout",
     "output_type": "stream",
     "text": [
      "time: 6.27 ms\n"
     ]
    }
   ],
   "source": [
    "# Verify that a new column was created\n",
    "gdf.dtypes"
   ]
  },
  {
   "cell_type": "code",
   "execution_count": 75,
   "metadata": {},
   "outputs": [
    {
     "data": {
      "text/plain": [
       "8094046"
      ]
     },
     "execution_count": 75,
     "metadata": {},
     "output_type": "execute_result"
    },
    {
     "name": "stdout",
     "output_type": "stream",
     "text": [
      "time: 9.77 ms\n"
     ]
    }
   ],
   "source": [
    "# What is the max byte size\n",
    "gdf['totalbytes'].max()"
   ]
  },
  {
   "cell_type": "markdown",
   "metadata": {},
   "source": [
    "#### Let's try that same function on the CPU"
   ]
  },
  {
   "cell_type": "code",
   "execution_count": 76,
   "metadata": {},
   "outputs": [
    {
     "name": "stdout",
     "output_type": "stream",
     "text": [
      "time: 1.29 s\n"
     ]
    }
   ],
   "source": [
    "# See the same time on the CPU\n",
    "df['totalbytes'] = df['srcbytes'] + df['dstbytes']"
   ]
  },
  {
   "cell_type": "code",
   "execution_count": 77,
   "metadata": {},
   "outputs": [
    {
     "data": {
      "text/plain": [
       "8094046"
      ]
     },
     "execution_count": 77,
     "metadata": {},
     "output_type": "execute_result"
    },
    {
     "name": "stdout",
     "output_type": "stream",
     "text": [
      "time: 534 ms\n"
     ]
    }
   ],
   "source": [
    "df['totalbytes'].max()"
   ]
  },
  {
   "cell_type": "markdown",
   "metadata": {},
   "source": [
    "The performance gain is on a small dataset and a simple transformation.  As data size and analytic complexity increas so does the delta in performance."
   ]
  },
  {
   "cell_type": "code",
   "execution_count": null,
   "metadata": {},
   "outputs": [],
   "source": []
  },
  {
   "cell_type": "code",
   "execution_count": null,
   "metadata": {},
   "outputs": [],
   "source": []
  },
  {
   "cell_type": "markdown",
   "metadata": {},
   "source": [
    "# DataFrame Operations\n",
    "The following function operate on a dataframe"
   ]
  },
  {
   "cell_type": "markdown",
   "metadata": {},
   "source": [
    "### Filtering\n",
    "Selecting a subregion of data that matches an expresion"
   ]
  },
  {
   "cell_type": "code",
   "execution_count": 78,
   "metadata": {},
   "outputs": [
    {
     "data": {
      "text/plain": [
       "69187312"
      ]
     },
     "execution_count": 78,
     "metadata": {},
     "output_type": "execute_result"
    },
    {
     "name": "stdout",
     "output_type": "stream",
     "text": [
      "time: 6.92 ms\n"
     ]
    }
   ],
   "source": [
    "# Let's get a count for reference of teh total number of records\n",
    "gdf['srcport'].count()"
   ]
  },
  {
   "cell_type": "markdown",
   "metadata": {
    "scrolled": false
   },
   "source": [
    "### Extract a new Dataframe where the DST Port is not port 80"
   ]
  },
  {
   "cell_type": "code",
   "execution_count": 79,
   "metadata": {},
   "outputs": [
    {
     "name": "stderr",
     "output_type": "stream",
     "text": [
      "/home/brad/anaconda3/lib/python3.6/site-packages/numba/cuda/compiler.py:233: UserWarning: Could not autotune, using default tpb of 128\n",
      "  warnings.warn('Could not autotune, using default tpb of 128')\n",
      "/home/brad/anaconda3/lib/python3.6/site-packages/numba/cuda/compiler.py:233: UserWarning: Could not autotune, using default tpb of 128\n",
      "  warnings.warn('Could not autotune, using default tpb of 128')\n",
      "/home/brad/anaconda3/lib/python3.6/site-packages/numba/cuda/compiler.py:233: UserWarning: Could not autotune, using default tpb of 128\n",
      "  warnings.warn('Could not autotune, using default tpb of 128')\n"
     ]
    },
    {
     "name": "stdout",
     "output_type": "stream",
     "text": [
      "time: 587 ms\n"
     ]
    }
   ],
   "source": [
    "port_not_80 = gdf.query('dstport != 80')"
   ]
  },
  {
   "cell_type": "markdown",
   "metadata": {},
   "source": [
    "***Task:***  How many records are in the new set?\n",
    "<details><summary>Click for Answer</summary>\n",
    "<p>\n",
    "port_not_80['srcport'].count()\n",
    "</p>\n",
    "</details>"
   ]
  },
  {
   "cell_type": "code",
   "execution_count": 80,
   "metadata": {},
   "outputs": [
    {
     "data": {
      "text/plain": [
       "3325024"
      ]
     },
     "execution_count": 80,
     "metadata": {},
     "output_type": "execute_result"
    },
    {
     "name": "stdout",
     "output_type": "stream",
     "text": [
      "time: 3.53 ms\n"
     ]
    }
   ],
   "source": [
    "#remove\n",
    "port_not_80['srcport'].count()"
   ]
  },
  {
   "cell_type": "code",
   "execution_count": null,
   "metadata": {},
   "outputs": [],
   "source": []
  },
  {
   "cell_type": "markdown",
   "metadata": {},
   "source": [
    "<p>\n",
    "### Grouping and Aggregations"
   ]
  },
  {
   "cell_type": "code",
   "execution_count": 81,
   "metadata": {},
   "outputs": [
    {
     "name": "stdout",
     "output_type": "stream",
     "text": [
      "time: 1.33 ms\n"
     ]
    }
   ],
   "source": [
    "from collections import OrderedDict"
   ]
  },
  {
   "cell_type": "code",
   "execution_count": 82,
   "metadata": {},
   "outputs": [
    {
     "data": {
      "text/plain": [
       "srcport       int32\n",
       "dstport       int64\n",
       "srcbytes      int64\n",
       "dstbytes      int64\n",
       "Year          int64\n",
       "Month         int64\n",
       "Day           int64\n",
       "Hour          int64\n",
       "Minute        int64\n",
       "Second        int64\n",
       "totalbytes    int64\n",
       "dtype: object"
      ]
     },
     "execution_count": 82,
     "metadata": {},
     "output_type": "execute_result"
    },
    {
     "name": "stdout",
     "output_type": "stream",
     "text": [
      "time: 6.13 ms\n"
     ]
    }
   ],
   "source": [
    "gdf.dtypes"
   ]
  },
  {
   "cell_type": "code",
   "execution_count": 83,
   "metadata": {},
   "outputs": [
    {
     "data": {
      "text/plain": [
       "srcport       int32\n",
       "dstport       int64\n",
       "srcbytes      int64\n",
       "dstbytes      int64\n",
       "Year          int64\n",
       "Month         int64\n",
       "Day           int64\n",
       "Hour          int64\n",
       "Minute        int64\n",
       "Second        int64\n",
       "totalbytes    int64\n",
       "count         int64\n",
       "dtype: object"
      ]
     },
     "execution_count": 83,
     "metadata": {},
     "output_type": "execute_result"
    },
    {
     "name": "stdout",
     "output_type": "stream",
     "text": [
      "time: 24.8 ms\n"
     ]
    }
   ],
   "source": [
    "# add a column for count\n",
    "gdf['count'] = gdf['dstport']\n",
    "gdf.dtypes"
   ]
  },
  {
   "cell_type": "code",
   "execution_count": 84,
   "metadata": {},
   "outputs": [
    {
     "name": "stderr",
     "output_type": "stream",
     "text": [
      "/home/brad/anaconda3/lib/python3.6/site-packages/numba/cuda/compiler.py:233: UserWarning: Could not autotune, using default tpb of 128\n",
      "  warnings.warn('Could not autotune, using default tpb of 128')\n",
      "/home/brad/anaconda3/lib/python3.6/site-packages/numba/cuda/compiler.py:233: UserWarning: Could not autotune, using default tpb of 128\n",
      "  warnings.warn('Could not autotune, using default tpb of 128')\n",
      "/home/brad/anaconda3/lib/python3.6/site-packages/numba/cuda/compiler.py:233: UserWarning: Could not autotune, using default tpb of 128\n",
      "  warnings.warn('Could not autotune, using default tpb of 128')\n",
      "/home/brad/anaconda3/lib/python3.6/site-packages/numba/cuda/compiler.py:233: UserWarning: Could not autotune, using default tpb of 128\n",
      "  warnings.warn('Could not autotune, using default tpb of 128')\n",
      "/home/brad/anaconda3/lib/python3.6/site-packages/numba/cuda/compiler.py:233: UserWarning: Could not autotune, using default tpb of 128\n",
      "  warnings.warn('Could not autotune, using default tpb of 128')\n",
      "/home/brad/anaconda3/lib/python3.6/site-packages/numba/cuda/compiler.py:233: UserWarning: Could not autotune, using default tpb of 128\n",
      "  warnings.warn('Could not autotune, using default tpb of 128')\n",
      "/home/brad/anaconda3/lib/python3.6/site-packages/numba/cuda/compiler.py:233: UserWarning: Could not autotune, using default tpb of 128\n",
      "  warnings.warn('Could not autotune, using default tpb of 128')\n"
     ]
    },
    {
     "name": "stdout",
     "output_type": "stream",
     "text": [
      "time: 16 s\n"
     ]
    }
   ],
   "source": [
    "aggs = OrderedDict()\n",
    "aggs['count'] = 'count'\n",
    "\n",
    "stats = gdf.groupby(['dstport']).agg(aggs)"
   ]
  },
  {
   "cell_type": "code",
   "execution_count": 85,
   "metadata": {},
   "outputs": [
    {
     "data": {
      "text/plain": [
       "dstport      int64\n",
       "count      float64\n",
       "dtype: object"
      ]
     },
     "execution_count": 85,
     "metadata": {},
     "output_type": "execute_result"
    },
    {
     "name": "stdout",
     "output_type": "stream",
     "text": [
      "time: 4.07 ms\n"
     ]
    }
   ],
   "source": [
    "stats.dtypes"
   ]
  },
  {
   "cell_type": "code",
   "execution_count": 86,
   "metadata": {},
   "outputs": [
    {
     "data": {
      "text/plain": [
       "   dstport      count\n",
       " 0       0   347708.0\n",
       " 1      21      740.0\n",
       " 2      25   312028.0\n",
       " 3      80 65862288.0\n",
       " 4     123   110712.0\n",
       " 5     137     2900.0\n",
       " 6     138     9108.0\n",
       " 7     445        4.0\n",
       " 8    1025       32.0\n",
       " 9    1026       64.0\n",
       "10    1027       56.0\n",
       "11    1028       64.0\n",
       "12    1029       64.0\n",
       "13    1030       64.0\n",
       "14    1031       68.0\n",
       "15    1032       64.0\n",
       "16    1033       68.0\n",
       "17    1034       68.0\n",
       "18    1035       60.0\n",
       "19    1036       68.0\n",
       "20    1037       60.0\n",
       "21    1038       60.0\n",
       "22    1039       72.0\n",
       "23    1040       56.0\n",
       "24    1041       84.0"
      ]
     },
     "execution_count": 86,
     "metadata": {},
     "output_type": "execute_result"
    },
    {
     "name": "stdout",
     "output_type": "stream",
     "text": [
      "time: 90.3 ms\n"
     ]
    }
   ],
   "source": [
    "stats.head(25)"
   ]
  },
  {
   "cell_type": "code",
   "execution_count": 87,
   "metadata": {},
   "outputs": [
    {
     "name": "stdout",
     "output_type": "stream",
     "text": [
      "time: 61.1 ms\n"
     ]
    }
   ],
   "source": [
    "del stats"
   ]
  },
  {
   "cell_type": "code",
   "execution_count": null,
   "metadata": {},
   "outputs": [],
   "source": []
  },
  {
   "cell_type": "markdown",
   "metadata": {},
   "source": [
    "***Tasks:  What is the count of SRC - DST Port groupings\n",
    "<br>\n",
    "<br>\n",
    "<details><summary>Click for answer</summary>\n",
    "<p>\n",
    "aggs = OrderedDict()\n",
    "aggs['count'] = 'count'\n",
    "\n",
    "stats = gdf.groupby(['srcport','dstport']).agg(aggs)\n",
    "</p>\n",
    "</details> "
   ]
  },
  {
   "cell_type": "code",
   "execution_count": 88,
   "metadata": {},
   "outputs": [
    {
     "name": "stderr",
     "output_type": "stream",
     "text": [
      "/home/brad/anaconda3/lib/python3.6/site-packages/numba/cuda/compiler.py:233: UserWarning: Could not autotune, using default tpb of 128\n",
      "  warnings.warn('Could not autotune, using default tpb of 128')\n",
      "/home/brad/anaconda3/lib/python3.6/site-packages/numba/cuda/compiler.py:233: UserWarning: Could not autotune, using default tpb of 128\n",
      "  warnings.warn('Could not autotune, using default tpb of 128')\n"
     ]
    },
    {
     "name": "stdout",
     "output_type": "stream",
     "text": [
      "time: 45.4 s\n"
     ]
    }
   ],
   "source": [
    "aggs = OrderedDict()\n",
    "aggs['count'] = 'count'\n",
    "\n",
    "stats = gdf.groupby(['srcport','dstport']).agg(aggs)"
   ]
  },
  {
   "cell_type": "code",
   "execution_count": 89,
   "metadata": {},
   "outputs": [
    {
     "data": {
      "text/plain": [
       "   srcport dstport    count\n",
       " 0       0       0 347708.0\n",
       " 1      20    3098      4.0\n",
       " 2      20    3099      4.0\n",
       " 3      20    3100      4.0\n",
       " 4      20    3103      4.0\n",
       " 5      20    3544      4.0\n",
       " 6      20    3545      4.0\n",
       " 7      20    3546      4.0\n",
       " 8      20    3547      4.0\n",
       " 9      20    3548      4.0\n",
       "10      20    3549      4.0\n",
       "11      20    3552      4.0\n",
       "12      20    3553      4.0\n",
       "13      20    8403      4.0\n",
       "14      20    8404      4.0\n",
       "15      20    8405      4.0\n",
       "16      20    8406      4.0\n",
       "17      20    8407      4.0\n",
       "18      20    8408      4.0\n",
       "19      21    1048      4.0\n",
       "20      21    1074      4.0\n",
       "21      21    1084      4.0\n",
       "22      21    1087      4.0\n",
       "23      21    1137      4.0\n",
       "24      21    1139      4.0"
      ]
     },
     "execution_count": 89,
     "metadata": {},
     "output_type": "execute_result"
    },
    {
     "name": "stdout",
     "output_type": "stream",
     "text": [
      "time: 17.2 ms\n"
     ]
    }
   ],
   "source": [
    "stats.head(25)"
   ]
  },
  {
   "cell_type": "code",
   "execution_count": 90,
   "metadata": {},
   "outputs": [
    {
     "name": "stdout",
     "output_type": "stream",
     "text": [
      "time: 1.23 ms\n"
     ]
    }
   ],
   "source": [
    "del stats"
   ]
  },
  {
   "cell_type": "markdown",
   "metadata": {},
   "source": [
    "## Independent Task"
   ]
  },
  {
   "cell_type": "markdown",
   "metadata": {},
   "source": [
    "***TASK***\n",
    "- Normalize the total byte count to KB\n",
    "- Compute the Mean and Standard Deviations\n",
    "- Compute the Z-Score"
   ]
  },
  {
   "cell_type": "markdown",
   "metadata": {},
   "source": [
    "Answer below - just one possibility"
   ]
  },
  {
   "cell_type": "code",
   "execution_count": null,
   "metadata": {},
   "outputs": [],
   "source": []
  },
  {
   "cell_type": "code",
   "execution_count": null,
   "metadata": {},
   "outputs": [],
   "source": []
  },
  {
   "cell_type": "code",
   "execution_count": null,
   "metadata": {},
   "outputs": [],
   "source": []
  },
  {
   "cell_type": "code",
   "execution_count": null,
   "metadata": {},
   "outputs": [],
   "source": []
  },
  {
   "cell_type": "code",
   "execution_count": null,
   "metadata": {},
   "outputs": [],
   "source": []
  },
  {
   "cell_type": "code",
   "execution_count": null,
   "metadata": {},
   "outputs": [],
   "source": [
    "gdf.dtypes"
   ]
  },
  {
   "cell_type": "code",
   "execution_count": null,
   "metadata": {},
   "outputs": [],
   "source": []
  },
  {
   "cell_type": "code",
   "execution_count": null,
   "metadata": {},
   "outputs": [],
   "source": [
    "def ScaleData( totalbytes, KB, Scale) :\n",
    "    for i in range (totalbytes.size) :\n",
    "        KB[i] = totalbytes[i] / Scale"
   ]
  },
  {
   "cell_type": "code",
   "execution_count": null,
   "metadata": {},
   "outputs": [],
   "source": [
    "gdf = gdf.apply_rows(ScaleData, incols=['totalbytes'], outcols=dict(KB=np.float32), kwargs=dict(Scale=(1024)))"
   ]
  },
  {
   "cell_type": "code",
   "execution_count": null,
   "metadata": {},
   "outputs": [],
   "source": [
    "gdf.head(25)"
   ]
  },
  {
   "cell_type": "code",
   "execution_count": null,
   "metadata": {},
   "outputs": [],
   "source": [
    "mean = gdf['KB'].mean()"
   ]
  },
  {
   "cell_type": "code",
   "execution_count": null,
   "metadata": {},
   "outputs": [],
   "source": [
    "std = gdf['KB'].std()"
   ]
  },
  {
   "cell_type": "code",
   "execution_count": null,
   "metadata": {},
   "outputs": [],
   "source": [
    "print(\"Std == %f \\t Mean == %f\" % (std, mean))"
   ]
  },
  {
   "cell_type": "code",
   "execution_count": null,
   "metadata": {},
   "outputs": [],
   "source": [
    "def NormalizeData( KB, Z, s, m) :\n",
    "    for i in range(KB.size):\n",
    "        Z[i] =  ( (KB[i] - m)/s )\n"
   ]
  },
  {
   "cell_type": "code",
   "execution_count": null,
   "metadata": {},
   "outputs": [],
   "source": [
    "gdf = gdf.apply_rows(NormalizeData, incols=['KB'], outcols=dict(Z=np.float32), kwargs=dict(s=std, m=mean ))"
   ]
  },
  {
   "cell_type": "code",
   "execution_count": null,
   "metadata": {},
   "outputs": [],
   "source": [
    "gdf.head(30)"
   ]
  },
  {
   "cell_type": "code",
   "execution_count": null,
   "metadata": {},
   "outputs": [],
   "source": []
  }
 ],
 "metadata": {
  "kernelspec": {
   "display_name": "Python 3",
   "language": "python",
   "name": "python3"
  },
  "language_info": {
   "codemirror_mode": {
    "name": "ipython",
    "version": 3
   },
   "file_extension": ".py",
   "mimetype": "text/x-python",
   "name": "python",
   "nbconvert_exporter": "python",
   "pygments_lexer": "ipython3",
   "version": "3.6.4"
  }
 },
 "nbformat": 4,
 "nbformat_minor": 2
}
