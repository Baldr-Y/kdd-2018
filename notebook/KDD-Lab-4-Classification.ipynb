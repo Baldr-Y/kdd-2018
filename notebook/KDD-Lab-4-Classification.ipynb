{
 "cells": [
  {
   "cell_type": "markdown",
   "metadata": {},
   "source": [
    "# Lab n: Classification"
   ]
  },
  {
   "cell_type": "code",
   "execution_count": 1,
   "metadata": {},
   "outputs": [
    {
     "name": "stdout",
     "output_type": "stream",
     "text": [
      "Requirement already satisfied: ipython-autotime in /opt/conda/envs/pygdf_dev/lib/python3.5/site-packages (0.1)\n"
     ]
    }
   ],
   "source": [
    "## Notebook Settings\n",
    "# Add autotime of each block\n",
    "!pip install ipython-autotime\n",
    "%load_ext autotime"
   ]
  },
  {
   "cell_type": "markdown",
   "metadata": {},
   "source": [
    "### Goals:\n",
    "- Learn the basics of cyber network data with respect to consumer IoT devices\n",
    "- Load network data into Pandas and a GDF (for comparison)\n",
    "- Explore network data and features\n",
    "- Use XGBoost to build a classification model\n",
    "- Test the model"
   ]
  },
  {
   "cell_type": "markdown",
   "metadata": {},
   "source": [
    "This lab builds on the previous labs and will utilize some of those skills."
   ]
  },
  {
   "cell_type": "markdown",
   "metadata": {},
   "source": [
    "### Background"
   ]
  },
  {
   "cell_type": "markdown",
   "metadata": {},
   "source": [
    "#### The Internet of Things and Data at a Massive Scale"
   ]
  },
  {
   "cell_type": "markdown",
   "metadata": {},
   "source": [
    "Gartner estimates there are currently over 8.4 billion Internet of Things (IoT) devices. By 2020, that number is [estimated to surpass 20 billion](https://www.zdnet.com/article/iot-devices-will-outnumber-the-worlds-population-this-year-for-the-first-time/). These types of devices range from consumer devices (e.g., Amazon Echo, smart TVs, smart cameras, door bells) to commercial devices (e.g., building automation systems, keycard entry). All of these devices exhibit behavior on the Internet as they communicate back with their own clouds and user-specified integrations."
   ]
  },
  {
   "cell_type": "markdown",
   "metadata": {},
   "source": [
    "#### Types of Network Data"
   ]
  },
  {
   "cell_type": "markdown",
   "metadata": {},
   "source": [
    "The most detailed type of data that is typically collected on a network is full Packet CAPture (PCAP) data. This information is detailed and contains everything about the communication, including: source address, destination address, protocols used, bytes transferred, and even the raw data (e.g., image, audio file, executable). PCAP data is fine-grained, meaning that there is a record for each frame being transmitted. A typical communication is composed of many individual packets/frames.\n",
    "\n",
    "If we aggregate PCAP data so that there is one row of data per communication session, we call that flow level data. A simplified example of this relationship is shown in the figure below.\n",
    "\n",
    "![PCAP_flow_relationship](pcap_vs_flow.png)"
   ]
  },
  {
   "cell_type": "markdown",
   "metadata": {},
   "source": [
    "For this tutorial, we use data from the University of New South Wales. In a lab environment, they [collected nearly three weeks of IoT data from 21 IoT devices](http://149.171.189.1). They also kept a detailed [list of devices by MAC address](http://149.171.189.1/resources/List_Of_Devices.txt), so we have ground-truth with respect to each IoT device's behavior on the network.\n",
    "\n",
    "**Our goal is to utilize the behavior exhibited in the network data to classify IoT devices.**"
   ]
  },
  {
   "cell_type": "markdown",
   "metadata": {},
   "source": [
    "### Data Investigation"
   ]
  },
  {
   "cell_type": "markdown",
   "metadata": {},
   "source": [
    "Let's first see some of the data. We'll load a PCAP file in using PyShark (a Python wrapper for Tshark)."
   ]
  },
  {
   "cell_type": "code",
   "execution_count": 2,
   "metadata": {},
   "outputs": [
    {
     "name": "stdout",
     "output_type": "stream",
     "text": [
      "time: 37.3 ms\n"
     ]
    }
   ],
   "source": [
    "import pyshark\n",
    "cap = pyshark.FileCapture(\"/cwshare/unsw_iot/16-09-27.pcap\")"
   ]
  },
  {
   "cell_type": "code",
   "execution_count": 3,
   "metadata": {},
   "outputs": [
    {
     "name": "stdout",
     "output_type": "stream",
     "text": [
      "Packet (Length: 156)\n",
      "Layer ETH:\n",
      "\tSource: 30:8c:fb:2f:e4:b2\n",
      "\t.... ..0. .... .... .... .... = LG bit: Globally unique address (factory default)\n",
      "\tType: IPv4 (0x0800)\n",
      "\tDestination: 14:cc:20:51:33:ea\n",
      "\tAddress: 14:cc:20:51:33:ea\n",
      "\t.... ...0 .... .... .... .... = IG bit: Individual address (unicast)\n",
      "\t.... ..0. .... .... .... .... = LG bit: Globally unique address (factory default)\n",
      "\tAddress: 30:8c:fb:2f:e4:b2\n",
      "\t.... ...0 .... .... .... .... = IG bit: Individual address (unicast)\n",
      "Layer IP:\n",
      "\tSource GeoIP: Unknown\n",
      "\tIdentification: 0xd29e (53918)\n",
      "\tProtocol: TCP (6)\n",
      "\t.... ..00 = Explicit Congestion Notification: Not ECN-Capable Transport (0)\n",
      "\tHeader checksum: 0x7fc2 [validation disabled]\n",
      "\tTotal Length: 142\n",
      "\t0000 00.. = Differentiated Services Codepoint: Default (0)\n",
      "\tDestination GeoIP Longitude: -77.483803\n",
      "\tHeader checksum status: Unverified\n",
      "\t.... 0101 = Header Length: 20 bytes (5)\n",
      "\t.1.. .... = Don't fragment: Set\n",
      "\tDestination GeoIP City: Ashburn, VA\n",
      "\t0... .... = Reserved bit: Not set\n",
      "\tDestination GeoIP Latitude: 39.033501\n",
      "\tFragment offset: 0\n",
      "\tDifferentiated Services Field: 0x00 (DSCP: CS0, ECN: Not-ECT)\n",
      "\tFlags: 0x02 (Don't Fragment)\n",
      "\tDestination: 52.87.241.159\n",
      "\tTime to live: 64\n",
      "\tSource: 192.168.1.106\n",
      "\t..0. .... = More fragments: Not set\n",
      "\tDestination GeoIP AS Number: AS14618 Amazon.com, Inc.\n",
      "\t0100 .... = Version: 4\n",
      "\tDestination GeoIP Country: United States\n",
      "\tDestination GeoIP: Ashburn, VA, United States, AS14618 Amazon.com, Inc., 39.033501, -77.483803\n",
      "Layer TCP:\n",
      "\t.... .0.. .... = ECN-Echo: Not set\n",
      "\tSequence number: 1    (relative sequence number)\n",
      "\t.... .... ...0 = Fin: Not set\n",
      "\tKind: Time Stamp Option (8)\n",
      "\tDestination Port: 443\n",
      "\tTCP Flags: \\xc2\\xb7\\xc2\\xb7\\xc2\\xb7\\xc2\\xb7\\xc2\\xb7\\xc2\\xb7\\xc2\\xb7AP\\xc2\\xb7\\xc2\\xb7\\xc2\\xb7\n",
      "\tLength: 10\n",
      "\tSEQ/ACK analysis\n",
      "\tUrgent pointer: 0\n",
      "\tNext sequence number: 91    (relative sequence number)\n",
      "\t.... .... 1... = Push: Set\n",
      "\t0... .... = Copy on fragmentation: No\n",
      "\tBytes sent since last PSH flag: 90\n",
      "\tChecksum: 0x9017 [unverified]\n",
      "\tBytes in flight: 90\n",
      "\tHeader Length: 32 bytes\n",
      "\t.... 0... .... = Congestion Window Reduced (CWR): Not set\n",
      "\tCalculated window size: 2549\n",
      "\tTCP Segment Len: 90\n",
      "\tNo-Operation (NOP)\n",
      "\t.... .... .0.. = Reset: Not set\n",
      "\t000. .... .... = Reserved: Not set\n",
      "\tTimestamp value: 23189159\n",
      "\tWindow size value: 2549\n",
      "\t.... ...1 .... = Acknowledgment: Set\n",
      "\tChecksum Status: Unverified\n",
      "\t...0 0001 = Number: No-Operation (NOP) (1)\n",
      "\tStream index: 0\n",
      "\tWindow size scaling factor: -1 (unknown)\n",
      "\t.... .... ..0. = Syn: Not set\n",
      "\tAcknowledgment number: 1    (relative ack number)\n",
      "\tTimestamp echo reply: 4049397467\n",
      "\tFlags: 0x018 (PSH, ACK)\n",
      "\t.00. .... = Class: Control (0)\n",
      "\tType: 1\n",
      "\t...0 .... .... = Nonce: Not set\n",
      "\tOptions: (12 bytes), No-Operation (NOP), No-Operation (NOP), Timestamps\n",
      "\t.... ..0. .... = Urgent: Not set\n",
      "\tSource Port: 40767\n",
      "\t0... .... = Copy on fragmentation: No\n",
      "\tNo-Operation (NOP)\n",
      "\tTimestamps: TSval 23189159, TSecr 4049397467\n",
      "\t...0 0001 = Number: No-Operation (NOP) (1)\n",
      "\t.00. .... = Class: Control (0)\n",
      "\tType: 1\n",
      "Layer SSL:\n",
      "\tContent Type: Application Data (23)\n",
      "\tEncrypted Application Data: 6a76fcc7ffecfada26925c0c672dd6a7d8b5abf63eb82e0a...\n",
      "\tTLSv1 Record Layer: Application Data Protocol: http-over-tls\n",
      "\tLength: 32\n",
      "\tVersion: TLS 1.0 (0x0301)\n",
      "\tContent Type: Application Data (23)\n",
      "\tEncrypted Application Data: b0c3d18139d1e5e8da5feb754730c26613d3e8ea22eac198...\n",
      "\tTLSv1 Record Layer: Application Data Protocol: http-over-tls\n",
      "\tLength: 48\n",
      "\tVersion: TLS 1.0 (0x0301)\n",
      "\n",
      "time: 201 ms\n"
     ]
    }
   ],
   "source": [
    "print(cap[0])"
   ]
  },
  {
   "cell_type": "code",
   "execution_count": 15,
   "metadata": {},
   "outputs": [
    {
     "name": "stdout",
     "output_type": "stream",
     "text": [
      "Layer IP:\n",
      "\tSource GeoIP: Unknown\n",
      "\tTotal Length: 142\n",
      "\tSource: 192.168.1.106\n",
      "\tIdentification: 0xd29e (53918)\n",
      "\tHeader checksum: 0x7fc2 [validation disabled]\n",
      "\tTime to live: 64\n",
      "\tFlags: 0x02 (Don't Fragment)\n",
      "\tDestination GeoIP Country: United States\n",
      "\t0000 00.. = Differentiated Services Codepoint: Default (0)\n",
      "\tDestination GeoIP AS Number: AS14618 Amazon.com, Inc.\n",
      "\t.... ..00 = Explicit Congestion Notification: Not ECN-Capable Transport (0)\n",
      "\tFragment offset: 0\n",
      "\t0... .... = Reserved bit: Not set\n",
      "\t.1.. .... = Don't fragment: Set\n",
      "\tProtocol: TCP (6)\n",
      "\tDifferentiated Services Field: 0x00 (DSCP: CS0, ECN: Not-ECT)\n",
      "\t.... 0101 = Header Length: 20 bytes (5)\n",
      "\tDestination: 52.87.241.159\n",
      "\t..0. .... = More fragments: Not set\n",
      "\tDestination GeoIP Latitude: 39.033501\n",
      "\tDestination GeoIP Longitude: -77.483803\n",
      "\t0100 .... = Version: 4\n",
      "\tHeader checksum status: Unverified\n",
      "\tDestination GeoIP City: Ashburn, VA\n",
      "\tDestination GeoIP: Ashburn, VA, United States, AS14618 Amazon.com, Inc., 39.033501, -77.483803\n",
      "\n",
      "time: 1.2 ms\n"
     ]
    }
   ],
   "source": [
    "print(cap[0].ip)"
   ]
  },
  {
   "cell_type": "markdown",
   "metadata": {},
   "source": [
    "There's really a lot of features there! In addition to having multiple layers (which may differ between packets), there are a number of other issues with working directly with PCAP. Often the payload is encrypted (note the SSL layer in the above example), rendering it useless. The lack of aggregation also makes it difficult to differentiate between packets. What we really care about for this application is what a *session* looks like. In other words, how a Roku interacts with the network is likely quite different than how a Google Home interacts. \n",
    "\n",
    "To save time for the tutorial, all three weeks of PCAP data have already been transformed to flow data, and we can load that in to a typical Pandas dataframe. Due to how the data was created, we have a header row (with column names) as well as a footer row. We want to use the header but will skip the footer."
   ]
  },
  {
   "cell_type": "code",
   "execution_count": 4,
   "metadata": {},
   "outputs": [
    {
     "name": "stderr",
     "output_type": "stream",
     "text": [
      "/opt/conda/envs/pygdf_dev/lib/python3.5/site-packages/ipykernel_launcher.py:2: ParserWarning: Falling back to the 'python' engine because the 'c' engine does not support skipfooter; you can avoid this warning by specifying engine='python'.\n",
      "  \n"
     ]
    },
    {
     "name": "stdout",
     "output_type": "stream",
     "text": [
      "==> pdf shape:  (950384, 23)\n",
      "time: 12.2 s\n"
     ]
    }
   ],
   "source": [
    "import pandas as pd\n",
    "pdf = pd.read_csv(\"/cwshare/unsw_iot/bro/conn.log\", sep='\\t', skipfooter=1)\n",
    "print(\"==> pdf shape: \",pdf.shape)"
   ]
  },
  {
   "cell_type": "markdown",
   "metadata": {},
   "source": [
    "We can look at what this new aggregated data looks like, and get a better sense of the columns and their data types."
   ]
  },
  {
   "cell_type": "code",
   "execution_count": 3,
   "metadata": {},
   "outputs": [
    {
     "data": {
      "text/html": [
       "<div>\n",
       "<style>\n",
       "    .dataframe thead tr:only-child th {\n",
       "        text-align: right;\n",
       "    }\n",
       "\n",
       "    .dataframe thead th {\n",
       "        text-align: left;\n",
       "    }\n",
       "\n",
       "    .dataframe tbody tr th {\n",
       "        vertical-align: top;\n",
       "    }\n",
       "</style>\n",
       "<table border=\"1\" class=\"dataframe\">\n",
       "  <thead>\n",
       "    <tr style=\"text-align: right;\">\n",
       "      <th></th>\n",
       "      <th>ts</th>\n",
       "      <th>uid</th>\n",
       "      <th>id.orig_h</th>\n",
       "      <th>id.orig_p</th>\n",
       "      <th>id.resp_h</th>\n",
       "      <th>id.resp_p</th>\n",
       "      <th>proto</th>\n",
       "      <th>service</th>\n",
       "      <th>duration</th>\n",
       "      <th>orig_bytes</th>\n",
       "      <th>...</th>\n",
       "      <th>local_resp</th>\n",
       "      <th>missed_bytes</th>\n",
       "      <th>history</th>\n",
       "      <th>orig_pkts</th>\n",
       "      <th>orig_ip_bytes</th>\n",
       "      <th>resp_pkts</th>\n",
       "      <th>resp_ip_bytes</th>\n",
       "      <th>tunnel_parents</th>\n",
       "      <th>orig_l2_addr</th>\n",
       "      <th>resp_l2_addr</th>\n",
       "    </tr>\n",
       "  </thead>\n",
       "  <tbody>\n",
       "    <tr>\n",
       "      <th>0</th>\n",
       "      <td>1.474553e+09</td>\n",
       "      <td>CIlOTU4kRBDOEJ2zf</td>\n",
       "      <td>192.168.1.241</td>\n",
       "      <td>61725</td>\n",
       "      <td>192.168.1.1</td>\n",
       "      <td>53</td>\n",
       "      <td>udp</td>\n",
       "      <td>dns</td>\n",
       "      <td>-</td>\n",
       "      <td>-</td>\n",
       "      <td>...</td>\n",
       "      <td>-</td>\n",
       "      <td>0</td>\n",
       "      <td>Dc</td>\n",
       "      <td>1</td>\n",
       "      <td>74</td>\n",
       "      <td>0</td>\n",
       "      <td>0</td>\n",
       "      <td>-</td>\n",
       "      <td>70:ee:50:18:34:43</td>\n",
       "      <td>14:cc:20:51:33:ea</td>\n",
       "    </tr>\n",
       "    <tr>\n",
       "      <th>1</th>\n",
       "      <td>1.474553e+09</td>\n",
       "      <td>CmV0US1aCCPzrVRz36</td>\n",
       "      <td>192.168.1.193</td>\n",
       "      <td>4425</td>\n",
       "      <td>192.168.1.223</td>\n",
       "      <td>49153</td>\n",
       "      <td>tcp</td>\n",
       "      <td>http</td>\n",
       "      <td>0.008820</td>\n",
       "      <td>196</td>\n",
       "      <td>...</td>\n",
       "      <td>-</td>\n",
       "      <td>0</td>\n",
       "      <td>ShADadfF</td>\n",
       "      <td>5</td>\n",
       "      <td>464</td>\n",
       "      <td>5</td>\n",
       "      <td>461</td>\n",
       "      <td>-</td>\n",
       "      <td>ec:1a:59:83:28:11</td>\n",
       "      <td>ec:1a:59:79:f4:89</td>\n",
       "    </tr>\n",
       "    <tr>\n",
       "      <th>2</th>\n",
       "      <td>1.474553e+09</td>\n",
       "      <td>CEXvDL2UPDYnBDtd6h</td>\n",
       "      <td>192.168.1.193</td>\n",
       "      <td>4426</td>\n",
       "      <td>192.168.1.223</td>\n",
       "      <td>49153</td>\n",
       "      <td>tcp</td>\n",
       "      <td>http</td>\n",
       "      <td>0.008664</td>\n",
       "      <td>198</td>\n",
       "      <td>...</td>\n",
       "      <td>-</td>\n",
       "      <td>0</td>\n",
       "      <td>ShADadfF</td>\n",
       "      <td>5</td>\n",
       "      <td>466</td>\n",
       "      <td>5</td>\n",
       "      <td>461</td>\n",
       "      <td>-</td>\n",
       "      <td>ec:1a:59:83:28:11</td>\n",
       "      <td>ec:1a:59:79:f4:89</td>\n",
       "    </tr>\n",
       "    <tr>\n",
       "      <th>3</th>\n",
       "      <td>1.474553e+09</td>\n",
       "      <td>CEXDAD42Irgl4M5go8</td>\n",
       "      <td>192.168.1.193</td>\n",
       "      <td>4977</td>\n",
       "      <td>192.168.1.249</td>\n",
       "      <td>49152</td>\n",
       "      <td>tcp</td>\n",
       "      <td>http</td>\n",
       "      <td>0.020995</td>\n",
       "      <td>186</td>\n",
       "      <td>...</td>\n",
       "      <td>-</td>\n",
       "      <td>0</td>\n",
       "      <td>ShADadfF</td>\n",
       "      <td>5</td>\n",
       "      <td>454</td>\n",
       "      <td>5</td>\n",
       "      <td>1438</td>\n",
       "      <td>-</td>\n",
       "      <td>ec:1a:59:83:28:11</td>\n",
       "      <td>00:16:6c:ab:6b:88</td>\n",
       "    </tr>\n",
       "    <tr>\n",
       "      <th>4</th>\n",
       "      <td>1.474553e+09</td>\n",
       "      <td>CW1YbA2fZzHrztJ0rl</td>\n",
       "      <td>192.168.1.193</td>\n",
       "      <td>4978</td>\n",
       "      <td>192.168.1.249</td>\n",
       "      <td>49152</td>\n",
       "      <td>tcp</td>\n",
       "      <td>http</td>\n",
       "      <td>0.018730</td>\n",
       "      <td>186</td>\n",
       "      <td>...</td>\n",
       "      <td>-</td>\n",
       "      <td>0</td>\n",
       "      <td>ShADadfF</td>\n",
       "      <td>5</td>\n",
       "      <td>454</td>\n",
       "      <td>5</td>\n",
       "      <td>1438</td>\n",
       "      <td>-</td>\n",
       "      <td>ec:1a:59:83:28:11</td>\n",
       "      <td>00:16:6c:ab:6b:88</td>\n",
       "    </tr>\n",
       "  </tbody>\n",
       "</table>\n",
       "<p>5 rows × 23 columns</p>\n",
       "</div>"
      ],
      "text/plain": [
       "             ts                 uid      id.orig_h  id.orig_p      id.resp_h  \\\n",
       "0  1.474553e+09   CIlOTU4kRBDOEJ2zf  192.168.1.241      61725    192.168.1.1   \n",
       "1  1.474553e+09  CmV0US1aCCPzrVRz36  192.168.1.193       4425  192.168.1.223   \n",
       "2  1.474553e+09  CEXvDL2UPDYnBDtd6h  192.168.1.193       4426  192.168.1.223   \n",
       "3  1.474553e+09  CEXDAD42Irgl4M5go8  192.168.1.193       4977  192.168.1.249   \n",
       "4  1.474553e+09  CW1YbA2fZzHrztJ0rl  192.168.1.193       4978  192.168.1.249   \n",
       "\n",
       "   id.resp_p proto service  duration orig_bytes        ...         local_resp  \\\n",
       "0         53   udp     dns         -          -        ...                  -   \n",
       "1      49153   tcp    http  0.008820        196        ...                  -   \n",
       "2      49153   tcp    http  0.008664        198        ...                  -   \n",
       "3      49152   tcp    http  0.020995        186        ...                  -   \n",
       "4      49152   tcp    http  0.018730        186        ...                  -   \n",
       "\n",
       "  missed_bytes   history orig_pkts  orig_ip_bytes resp_pkts  resp_ip_bytes  \\\n",
       "0            0        Dc         1             74         0              0   \n",
       "1            0  ShADadfF         5            464         5            461   \n",
       "2            0  ShADadfF         5            466         5            461   \n",
       "3            0  ShADadfF         5            454         5           1438   \n",
       "4            0  ShADadfF         5            454         5           1438   \n",
       "\n",
       "   tunnel_parents       orig_l2_addr       resp_l2_addr  \n",
       "0               -  70:ee:50:18:34:43  14:cc:20:51:33:ea  \n",
       "1               -  ec:1a:59:83:28:11  ec:1a:59:79:f4:89  \n",
       "2               -  ec:1a:59:83:28:11  ec:1a:59:79:f4:89  \n",
       "3               -  ec:1a:59:83:28:11  00:16:6c:ab:6b:88  \n",
       "4               -  ec:1a:59:83:28:11  00:16:6c:ab:6b:88  \n",
       "\n",
       "[5 rows x 23 columns]"
      ]
     },
     "execution_count": 3,
     "metadata": {},
     "output_type": "execute_result"
    },
    {
     "name": "stdout",
     "output_type": "stream",
     "text": [
      "time: 30.3 ms\n"
     ]
    }
   ],
   "source": [
    "pdf.head()"
   ]
  },
  {
   "cell_type": "code",
   "execution_count": 4,
   "metadata": {},
   "outputs": [
    {
     "data": {
      "text/plain": [
       "ts                float64\n",
       "uid                object\n",
       "id.orig_h          object\n",
       "id.orig_p           int64\n",
       "id.resp_h          object\n",
       "id.resp_p           int64\n",
       "proto              object\n",
       "service            object\n",
       "duration           object\n",
       "orig_bytes         object\n",
       "resp_bytes         object\n",
       "conn_state         object\n",
       "local_orig         object\n",
       "local_resp         object\n",
       "missed_bytes        int64\n",
       "history            object\n",
       "orig_pkts           int64\n",
       "orig_ip_bytes       int64\n",
       "resp_pkts           int64\n",
       "resp_ip_bytes       int64\n",
       "tunnel_parents     object\n",
       "orig_l2_addr       object\n",
       "resp_l2_addr       object\n",
       "dtype: object"
      ]
     },
     "execution_count": 4,
     "metadata": {},
     "output_type": "execute_result"
    },
    {
     "name": "stdout",
     "output_type": "stream",
     "text": [
      "time: 2.91 ms\n"
     ]
    }
   ],
   "source": [
    "pdf.dtypes"
   ]
  },
  {
   "cell_type": "code",
   "execution_count": 5,
   "metadata": {},
   "outputs": [
    {
     "name": "stdout",
     "output_type": "stream",
     "text": [
      "time: 407 µs\n"
     ]
    }
   ],
   "source": [
    "# maybe we rename the columns"
   ]
  },
  {
   "cell_type": "code",
   "execution_count": 18,
   "metadata": {},
   "outputs": [
    {
     "name": "stdout",
     "output_type": "stream",
     "text": [
      "time: 2.37 ms\n"
     ]
    }
   ],
   "source": [
    "labels_pdf = pd.read_csv(\"/cyshare/KDD2018/lab_mac_labels.csv\", sep=',')"
   ]
  },
  {
   "cell_type": "code",
   "execution_count": 19,
   "metadata": {},
   "outputs": [
    {
     "data": {
      "text/html": [
       "<div>\n",
       "<style>\n",
       "    .dataframe thead tr:only-child th {\n",
       "        text-align: right;\n",
       "    }\n",
       "\n",
       "    .dataframe thead th {\n",
       "        text-align: left;\n",
       "    }\n",
       "\n",
       "    .dataframe tbody tr th {\n",
       "        vertical-align: top;\n",
       "    }\n",
       "</style>\n",
       "<table border=\"1\" class=\"dataframe\">\n",
       "  <thead>\n",
       "    <tr style=\"text-align: right;\">\n",
       "      <th></th>\n",
       "      <th>Device</th>\n",
       "      <th>MAC</th>\n",
       "      <th>Connection</th>\n",
       "      <th>Category</th>\n",
       "    </tr>\n",
       "  </thead>\n",
       "  <tbody>\n",
       "    <tr>\n",
       "      <th>0</th>\n",
       "      <td>Smart Things</td>\n",
       "      <td>d0:52:a8:00:67:5e</td>\n",
       "      <td>Wired</td>\n",
       "      <td>Hub</td>\n",
       "    </tr>\n",
       "    <tr>\n",
       "      <th>1</th>\n",
       "      <td>Amazon Echo</td>\n",
       "      <td>44:65:0d:56:cc:d3</td>\n",
       "      <td>Wireless</td>\n",
       "      <td>Speaker</td>\n",
       "    </tr>\n",
       "    <tr>\n",
       "      <th>2</th>\n",
       "      <td>Netatmo Welcome</td>\n",
       "      <td>70:ee:50:18:34:43</td>\n",
       "      <td>Wireless</td>\n",
       "      <td>Camera</td>\n",
       "    </tr>\n",
       "    <tr>\n",
       "      <th>3</th>\n",
       "      <td>TP-Link Day Night Cloud camera</td>\n",
       "      <td>f4:f2:6d:93:51:f1</td>\n",
       "      <td>Wireless</td>\n",
       "      <td>Camera</td>\n",
       "    </tr>\n",
       "    <tr>\n",
       "      <th>4</th>\n",
       "      <td>Samsung SmartCam</td>\n",
       "      <td>00:16:6c:ab:6b:88</td>\n",
       "      <td>Wireless</td>\n",
       "      <td>Camera</td>\n",
       "    </tr>\n",
       "  </tbody>\n",
       "</table>\n",
       "</div>"
      ],
      "text/plain": [
       "                           Device                MAC Connection Category\n",
       "0                    Smart Things  d0:52:a8:00:67:5e      Wired      Hub\n",
       "1                     Amazon Echo  44:65:0d:56:cc:d3   Wireless  Speaker\n",
       "2                 Netatmo Welcome  70:ee:50:18:34:43   Wireless   Camera\n",
       "3  TP-Link Day Night Cloud camera  f4:f2:6d:93:51:f1   Wireless   Camera\n",
       "4                Samsung SmartCam  00:16:6c:ab:6b:88   Wireless   Camera"
      ]
     },
     "execution_count": 19,
     "metadata": {},
     "output_type": "execute_result"
    },
    {
     "name": "stdout",
     "output_type": "stream",
     "text": [
      "time: 8.5 ms\n"
     ]
    }
   ],
   "source": [
    "labels_pdf.head()"
   ]
  },
  {
   "cell_type": "code",
   "execution_count": 20,
   "metadata": {},
   "outputs": [
    {
     "name": "stdout",
     "output_type": "stream",
     "text": [
      "time: 2.1 ms\n"
     ]
    }
   ],
   "source": [
    "labels_pdf = labels_pdf.assign(CategoryID=(labels_pdf['Category']).astype('category').cat.codes)"
   ]
  },
  {
   "cell_type": "code",
   "execution_count": 21,
   "metadata": {},
   "outputs": [
    {
     "data": {
      "text/html": [
       "<div>\n",
       "<style>\n",
       "    .dataframe thead tr:only-child th {\n",
       "        text-align: right;\n",
       "    }\n",
       "\n",
       "    .dataframe thead th {\n",
       "        text-align: left;\n",
       "    }\n",
       "\n",
       "    .dataframe tbody tr th {\n",
       "        vertical-align: top;\n",
       "    }\n",
       "</style>\n",
       "<table border=\"1\" class=\"dataframe\">\n",
       "  <thead>\n",
       "    <tr style=\"text-align: right;\">\n",
       "      <th></th>\n",
       "      <th>Device</th>\n",
       "      <th>MAC</th>\n",
       "      <th>Connection</th>\n",
       "      <th>Category</th>\n",
       "      <th>CategoryID</th>\n",
       "    </tr>\n",
       "  </thead>\n",
       "  <tbody>\n",
       "    <tr>\n",
       "      <th>0</th>\n",
       "      <td>Smart Things</td>\n",
       "      <td>d0:52:a8:00:67:5e</td>\n",
       "      <td>Wired</td>\n",
       "      <td>Hub</td>\n",
       "      <td>6</td>\n",
       "    </tr>\n",
       "    <tr>\n",
       "      <th>1</th>\n",
       "      <td>Amazon Echo</td>\n",
       "      <td>44:65:0d:56:cc:d3</td>\n",
       "      <td>Wireless</td>\n",
       "      <td>Speaker</td>\n",
       "      <td>11</td>\n",
       "    </tr>\n",
       "    <tr>\n",
       "      <th>2</th>\n",
       "      <td>Netatmo Welcome</td>\n",
       "      <td>70:ee:50:18:34:43</td>\n",
       "      <td>Wireless</td>\n",
       "      <td>Camera</td>\n",
       "      <td>1</td>\n",
       "    </tr>\n",
       "    <tr>\n",
       "      <th>3</th>\n",
       "      <td>TP-Link Day Night Cloud camera</td>\n",
       "      <td>f4:f2:6d:93:51:f1</td>\n",
       "      <td>Wireless</td>\n",
       "      <td>Camera</td>\n",
       "      <td>1</td>\n",
       "    </tr>\n",
       "    <tr>\n",
       "      <th>4</th>\n",
       "      <td>Samsung SmartCam</td>\n",
       "      <td>00:16:6c:ab:6b:88</td>\n",
       "      <td>Wireless</td>\n",
       "      <td>Camera</td>\n",
       "      <td>1</td>\n",
       "    </tr>\n",
       "  </tbody>\n",
       "</table>\n",
       "</div>"
      ],
      "text/plain": [
       "                           Device                MAC Connection Category  \\\n",
       "0                    Smart Things  d0:52:a8:00:67:5e      Wired      Hub   \n",
       "1                     Amazon Echo  44:65:0d:56:cc:d3   Wireless  Speaker   \n",
       "2                 Netatmo Welcome  70:ee:50:18:34:43   Wireless   Camera   \n",
       "3  TP-Link Day Night Cloud camera  f4:f2:6d:93:51:f1   Wireless   Camera   \n",
       "4                Samsung SmartCam  00:16:6c:ab:6b:88   Wireless   Camera   \n",
       "\n",
       "   CategoryID  \n",
       "0           6  \n",
       "1          11  \n",
       "2           1  \n",
       "3           1  \n",
       "4           1  "
      ]
     },
     "execution_count": 21,
     "metadata": {},
     "output_type": "execute_result"
    },
    {
     "name": "stdout",
     "output_type": "stream",
     "text": [
      "time: 9.04 ms\n"
     ]
    }
   ],
   "source": [
    "labels_pdf.head()"
   ]
  },
  {
   "cell_type": "code",
   "execution_count": 25,
   "metadata": {},
   "outputs": [
    {
     "name": "stdout",
     "output_type": "stream",
     "text": [
      "time: 621 ms\n"
     ]
    }
   ],
   "source": [
    "merged_pdf = pd.merge(pdf,labels_pdf, how='left', left_on=['orig_l2_addr'], right_on=['MAC'])"
   ]
  },
  {
   "cell_type": "code",
   "execution_count": 31,
   "metadata": {},
   "outputs": [
    {
     "name": "stdout",
     "output_type": "stream",
     "text": [
      "time: 424 ms\n"
     ]
    }
   ],
   "source": [
    "merged_pdf = merged_pdf.rename(columns = {'Device':'orig_device',\n",
    "                                          'MAC':'orig_MAC',\n",
    "                                          'Connection':'orig_connection',\n",
    "                                          'Category':'orig_category',\n",
    "                                          'CategoryID':'orig_category_id'})"
   ]
  },
  {
   "cell_type": "code",
   "execution_count": 32,
   "metadata": {},
   "outputs": [
    {
     "name": "stdout",
     "output_type": "stream",
     "text": [
      "time: 890 ms\n"
     ]
    }
   ],
   "source": [
    "merged_pdf = pd.merge(merged_pdf,labels_pdf, how='left', left_on=['resp_l2_addr'], right_on=['MAC'])"
   ]
  },
  {
   "cell_type": "raw",
   "metadata": {},
   "source": [
    "merged_pdf = merged_pdf.rename(columns = {'Device':'resp_device',\n",
    "                                          'MAC':'resp_MAC',\n",
    "                                          'Connection':'resp_connection',\n",
    "                                          'Category':'resp_category',\n",
    "                                          'CategoryID':'resp_category_id'})"
   ]
  },
  {
   "cell_type": "code",
   "execution_count": 34,
   "metadata": {},
   "outputs": [
    {
     "data": {
      "text/html": [
       "<div>\n",
       "<style>\n",
       "    .dataframe thead tr:only-child th {\n",
       "        text-align: right;\n",
       "    }\n",
       "\n",
       "    .dataframe thead th {\n",
       "        text-align: left;\n",
       "    }\n",
       "\n",
       "    .dataframe tbody tr th {\n",
       "        vertical-align: top;\n",
       "    }\n",
       "</style>\n",
       "<table border=\"1\" class=\"dataframe\">\n",
       "  <thead>\n",
       "    <tr style=\"text-align: right;\">\n",
       "      <th></th>\n",
       "      <th>ts</th>\n",
       "      <th>uid</th>\n",
       "      <th>id.orig_h</th>\n",
       "      <th>id.orig_p</th>\n",
       "      <th>id.resp_h</th>\n",
       "      <th>id.resp_p</th>\n",
       "      <th>proto</th>\n",
       "      <th>service</th>\n",
       "      <th>duration</th>\n",
       "      <th>orig_bytes</th>\n",
       "      <th>...</th>\n",
       "      <th>orig_device</th>\n",
       "      <th>orig_MAC</th>\n",
       "      <th>orig_connection</th>\n",
       "      <th>orig_category</th>\n",
       "      <th>orig_category_id</th>\n",
       "      <th>resp_device</th>\n",
       "      <th>resp_MAC</th>\n",
       "      <th>resp_connection</th>\n",
       "      <th>resp_category</th>\n",
       "      <th>resp_category_id</th>\n",
       "    </tr>\n",
       "  </thead>\n",
       "  <tbody>\n",
       "    <tr>\n",
       "      <th>0</th>\n",
       "      <td>1.474553e+09</td>\n",
       "      <td>CIlOTU4kRBDOEJ2zf</td>\n",
       "      <td>192.168.1.241</td>\n",
       "      <td>61725</td>\n",
       "      <td>192.168.1.1</td>\n",
       "      <td>53</td>\n",
       "      <td>udp</td>\n",
       "      <td>dns</td>\n",
       "      <td>-</td>\n",
       "      <td>-</td>\n",
       "      <td>...</td>\n",
       "      <td>Netatmo Welcome</td>\n",
       "      <td>70:ee:50:18:34:43</td>\n",
       "      <td>Wireless</td>\n",
       "      <td>Camera</td>\n",
       "      <td>1.0</td>\n",
       "      <td>TPLink Router Bridge LAN (Gateway</td>\n",
       "      <td>14:cc:20:51:33:ea</td>\n",
       "      <td>Wired</td>\n",
       "      <td>Router</td>\n",
       "      <td>10.0</td>\n",
       "    </tr>\n",
       "    <tr>\n",
       "      <th>1</th>\n",
       "      <td>1.474553e+09</td>\n",
       "      <td>CmV0US1aCCPzrVRz36</td>\n",
       "      <td>192.168.1.193</td>\n",
       "      <td>4425</td>\n",
       "      <td>192.168.1.223</td>\n",
       "      <td>49153</td>\n",
       "      <td>tcp</td>\n",
       "      <td>http</td>\n",
       "      <td>0.008820</td>\n",
       "      <td>196</td>\n",
       "      <td>...</td>\n",
       "      <td>Belkin wemo motion sensor</td>\n",
       "      <td>ec:1a:59:83:28:11</td>\n",
       "      <td>Wireless</td>\n",
       "      <td>Switch</td>\n",
       "      <td>12.0</td>\n",
       "      <td>Belkin Wemo switch</td>\n",
       "      <td>ec:1a:59:79:f4:89</td>\n",
       "      <td>Wireless</td>\n",
       "      <td>Switch</td>\n",
       "      <td>12.0</td>\n",
       "    </tr>\n",
       "    <tr>\n",
       "      <th>2</th>\n",
       "      <td>1.474553e+09</td>\n",
       "      <td>CEXvDL2UPDYnBDtd6h</td>\n",
       "      <td>192.168.1.193</td>\n",
       "      <td>4426</td>\n",
       "      <td>192.168.1.223</td>\n",
       "      <td>49153</td>\n",
       "      <td>tcp</td>\n",
       "      <td>http</td>\n",
       "      <td>0.008664</td>\n",
       "      <td>198</td>\n",
       "      <td>...</td>\n",
       "      <td>Belkin wemo motion sensor</td>\n",
       "      <td>ec:1a:59:83:28:11</td>\n",
       "      <td>Wireless</td>\n",
       "      <td>Switch</td>\n",
       "      <td>12.0</td>\n",
       "      <td>Belkin Wemo switch</td>\n",
       "      <td>ec:1a:59:79:f4:89</td>\n",
       "      <td>Wireless</td>\n",
       "      <td>Switch</td>\n",
       "      <td>12.0</td>\n",
       "    </tr>\n",
       "    <tr>\n",
       "      <th>3</th>\n",
       "      <td>1.474553e+09</td>\n",
       "      <td>CEXDAD42Irgl4M5go8</td>\n",
       "      <td>192.168.1.193</td>\n",
       "      <td>4977</td>\n",
       "      <td>192.168.1.249</td>\n",
       "      <td>49152</td>\n",
       "      <td>tcp</td>\n",
       "      <td>http</td>\n",
       "      <td>0.020995</td>\n",
       "      <td>186</td>\n",
       "      <td>...</td>\n",
       "      <td>Belkin wemo motion sensor</td>\n",
       "      <td>ec:1a:59:83:28:11</td>\n",
       "      <td>Wireless</td>\n",
       "      <td>Switch</td>\n",
       "      <td>12.0</td>\n",
       "      <td>Samsung SmartCam</td>\n",
       "      <td>00:16:6c:ab:6b:88</td>\n",
       "      <td>Wireless</td>\n",
       "      <td>Camera</td>\n",
       "      <td>1.0</td>\n",
       "    </tr>\n",
       "    <tr>\n",
       "      <th>4</th>\n",
       "      <td>1.474553e+09</td>\n",
       "      <td>CW1YbA2fZzHrztJ0rl</td>\n",
       "      <td>192.168.1.193</td>\n",
       "      <td>4978</td>\n",
       "      <td>192.168.1.249</td>\n",
       "      <td>49152</td>\n",
       "      <td>tcp</td>\n",
       "      <td>http</td>\n",
       "      <td>0.018730</td>\n",
       "      <td>186</td>\n",
       "      <td>...</td>\n",
       "      <td>Belkin wemo motion sensor</td>\n",
       "      <td>ec:1a:59:83:28:11</td>\n",
       "      <td>Wireless</td>\n",
       "      <td>Switch</td>\n",
       "      <td>12.0</td>\n",
       "      <td>Samsung SmartCam</td>\n",
       "      <td>00:16:6c:ab:6b:88</td>\n",
       "      <td>Wireless</td>\n",
       "      <td>Camera</td>\n",
       "      <td>1.0</td>\n",
       "    </tr>\n",
       "  </tbody>\n",
       "</table>\n",
       "<p>5 rows × 33 columns</p>\n",
       "</div>"
      ],
      "text/plain": [
       "             ts                 uid      id.orig_h  id.orig_p      id.resp_h  \\\n",
       "0  1.474553e+09   CIlOTU4kRBDOEJ2zf  192.168.1.241      61725    192.168.1.1   \n",
       "1  1.474553e+09  CmV0US1aCCPzrVRz36  192.168.1.193       4425  192.168.1.223   \n",
       "2  1.474553e+09  CEXvDL2UPDYnBDtd6h  192.168.1.193       4426  192.168.1.223   \n",
       "3  1.474553e+09  CEXDAD42Irgl4M5go8  192.168.1.193       4977  192.168.1.249   \n",
       "4  1.474553e+09  CW1YbA2fZzHrztJ0rl  192.168.1.193       4978  192.168.1.249   \n",
       "\n",
       "   id.resp_p proto service  duration orig_bytes        ...         \\\n",
       "0         53   udp     dns         -          -        ...          \n",
       "1      49153   tcp    http  0.008820        196        ...          \n",
       "2      49153   tcp    http  0.008664        198        ...          \n",
       "3      49152   tcp    http  0.020995        186        ...          \n",
       "4      49152   tcp    http  0.018730        186        ...          \n",
       "\n",
       "                 orig_device           orig_MAC orig_connection orig_category  \\\n",
       "0            Netatmo Welcome  70:ee:50:18:34:43        Wireless        Camera   \n",
       "1  Belkin wemo motion sensor  ec:1a:59:83:28:11        Wireless        Switch   \n",
       "2  Belkin wemo motion sensor  ec:1a:59:83:28:11        Wireless        Switch   \n",
       "3  Belkin wemo motion sensor  ec:1a:59:83:28:11        Wireless        Switch   \n",
       "4  Belkin wemo motion sensor  ec:1a:59:83:28:11        Wireless        Switch   \n",
       "\n",
       "   orig_category_id                        resp_device           resp_MAC  \\\n",
       "0               1.0  TPLink Router Bridge LAN (Gateway  14:cc:20:51:33:ea   \n",
       "1              12.0                 Belkin Wemo switch  ec:1a:59:79:f4:89   \n",
       "2              12.0                 Belkin Wemo switch  ec:1a:59:79:f4:89   \n",
       "3              12.0                   Samsung SmartCam  00:16:6c:ab:6b:88   \n",
       "4              12.0                   Samsung SmartCam  00:16:6c:ab:6b:88   \n",
       "\n",
       "   resp_connection  resp_category  resp_category_id  \n",
       "0            Wired         Router              10.0  \n",
       "1         Wireless         Switch              12.0  \n",
       "2         Wireless         Switch              12.0  \n",
       "3         Wireless         Camera               1.0  \n",
       "4         Wireless         Camera               1.0  \n",
       "\n",
       "[5 rows x 33 columns]"
      ]
     },
     "execution_count": 34,
     "metadata": {},
     "output_type": "execute_result"
    },
    {
     "name": "stdout",
     "output_type": "stream",
     "text": [
      "time: 31.2 ms\n"
     ]
    }
   ],
   "source": [
    "merged_pdf.head()"
   ]
  },
  {
   "cell_type": "code",
   "execution_count": 35,
   "metadata": {},
   "outputs": [
    {
     "data": {
      "text/plain": [
       "ts                  float64\n",
       "uid                  object\n",
       "id.orig_h            object\n",
       "id.orig_p             int64\n",
       "id.resp_h            object\n",
       "id.resp_p             int64\n",
       "proto                object\n",
       "service              object\n",
       "duration             object\n",
       "orig_bytes           object\n",
       "resp_bytes           object\n",
       "conn_state           object\n",
       "local_orig           object\n",
       "local_resp           object\n",
       "missed_bytes          int64\n",
       "history              object\n",
       "orig_pkts             int64\n",
       "orig_ip_bytes         int64\n",
       "resp_pkts             int64\n",
       "resp_ip_bytes         int64\n",
       "tunnel_parents       object\n",
       "orig_l2_addr         object\n",
       "resp_l2_addr         object\n",
       "orig_device          object\n",
       "orig_MAC             object\n",
       "orig_connection      object\n",
       "orig_category        object\n",
       "orig_category_id    float64\n",
       "resp_device          object\n",
       "resp_MAC             object\n",
       "resp_connection      object\n",
       "resp_category        object\n",
       "resp_category_id    float64\n",
       "dtype: object"
      ]
     },
     "execution_count": 35,
     "metadata": {},
     "output_type": "execute_result"
    },
    {
     "name": "stdout",
     "output_type": "stream",
     "text": [
      "time: 3.92 ms\n"
     ]
    }
   ],
   "source": [
    "merged_pdf.dtypes"
   ]
  },
  {
   "cell_type": "code",
   "execution_count": 83,
   "metadata": {},
   "outputs": [
    {
     "name": "stdout",
     "output_type": "stream",
     "text": [
      "time: 103 ms\n"
     ]
    }
   ],
   "source": [
    "orig_comms_pdf = merged_pdf[['ts','id.orig_h','id.orig_p','proto','service','duration','orig_bytes','orig_pkts','orig_ip_bytes',\n",
    "                             'orig_device','orig_MAC','orig_category','orig_category_id']]\n",
    "orig_comms_pdf.columns = ['ts','ip','port','proto','service','duration','bytes','pkts','ip_bytes','device','MAC','category','category_id']"
   ]
  },
  {
   "cell_type": "code",
   "execution_count": 84,
   "metadata": {},
   "outputs": [
    {
     "name": "stdout",
     "output_type": "stream",
     "text": [
      "time: 128 ms\n"
     ]
    }
   ],
   "source": [
    "resp_comms_pdf = merged_pdf[['ts','id.resp_h','id.resp_p','proto','service','duration','resp_bytes','resp_pkts','resp_ip_bytes',\n",
    "                             'resp_device','resp_MAC','resp_category','resp_category_id']]\n",
    "resp_comms_pdf.columns = ['ts','ip','port','proto','service','duration','bytes','pkts','ip_bytes','device','MAC','category','category_id']"
   ]
  },
  {
   "cell_type": "code",
   "execution_count": 209,
   "metadata": {},
   "outputs": [
    {
     "name": "stdout",
     "output_type": "stream",
     "text": [
      "==> shape =  (1900768, 13)\n",
      "time: 366 ms\n"
     ]
    }
   ],
   "source": [
    "exploded_pdf = pd.concat([orig_comms_pdf,resp_comms_pdf])\n",
    "print(\"==> shape = \", exploded_pdf.shape)"
   ]
  },
  {
   "cell_type": "code",
   "execution_count": 210,
   "metadata": {},
   "outputs": [
    {
     "data": {
      "text/html": [
       "<div>\n",
       "<style>\n",
       "    .dataframe thead tr:only-child th {\n",
       "        text-align: right;\n",
       "    }\n",
       "\n",
       "    .dataframe thead th {\n",
       "        text-align: left;\n",
       "    }\n",
       "\n",
       "    .dataframe tbody tr th {\n",
       "        vertical-align: top;\n",
       "    }\n",
       "</style>\n",
       "<table border=\"1\" class=\"dataframe\">\n",
       "  <thead>\n",
       "    <tr style=\"text-align: right;\">\n",
       "      <th></th>\n",
       "      <th>ts</th>\n",
       "      <th>ip</th>\n",
       "      <th>port</th>\n",
       "      <th>proto</th>\n",
       "      <th>service</th>\n",
       "      <th>duration</th>\n",
       "      <th>bytes</th>\n",
       "      <th>pkts</th>\n",
       "      <th>ip_bytes</th>\n",
       "      <th>device</th>\n",
       "      <th>MAC</th>\n",
       "      <th>category</th>\n",
       "      <th>category_id</th>\n",
       "    </tr>\n",
       "  </thead>\n",
       "  <tbody>\n",
       "    <tr>\n",
       "      <th>0</th>\n",
       "      <td>1.474553e+09</td>\n",
       "      <td>192.168.1.241</td>\n",
       "      <td>61725</td>\n",
       "      <td>udp</td>\n",
       "      <td>dns</td>\n",
       "      <td>-</td>\n",
       "      <td>-</td>\n",
       "      <td>1</td>\n",
       "      <td>74</td>\n",
       "      <td>Netatmo Welcome</td>\n",
       "      <td>70:ee:50:18:34:43</td>\n",
       "      <td>Camera</td>\n",
       "      <td>1.0</td>\n",
       "    </tr>\n",
       "    <tr>\n",
       "      <th>1</th>\n",
       "      <td>1.474553e+09</td>\n",
       "      <td>192.168.1.193</td>\n",
       "      <td>4425</td>\n",
       "      <td>tcp</td>\n",
       "      <td>http</td>\n",
       "      <td>0.008820</td>\n",
       "      <td>196</td>\n",
       "      <td>5</td>\n",
       "      <td>464</td>\n",
       "      <td>Belkin wemo motion sensor</td>\n",
       "      <td>ec:1a:59:83:28:11</td>\n",
       "      <td>Switch</td>\n",
       "      <td>12.0</td>\n",
       "    </tr>\n",
       "    <tr>\n",
       "      <th>2</th>\n",
       "      <td>1.474553e+09</td>\n",
       "      <td>192.168.1.193</td>\n",
       "      <td>4426</td>\n",
       "      <td>tcp</td>\n",
       "      <td>http</td>\n",
       "      <td>0.008664</td>\n",
       "      <td>198</td>\n",
       "      <td>5</td>\n",
       "      <td>466</td>\n",
       "      <td>Belkin wemo motion sensor</td>\n",
       "      <td>ec:1a:59:83:28:11</td>\n",
       "      <td>Switch</td>\n",
       "      <td>12.0</td>\n",
       "    </tr>\n",
       "    <tr>\n",
       "      <th>3</th>\n",
       "      <td>1.474553e+09</td>\n",
       "      <td>192.168.1.193</td>\n",
       "      <td>4977</td>\n",
       "      <td>tcp</td>\n",
       "      <td>http</td>\n",
       "      <td>0.020995</td>\n",
       "      <td>186</td>\n",
       "      <td>5</td>\n",
       "      <td>454</td>\n",
       "      <td>Belkin wemo motion sensor</td>\n",
       "      <td>ec:1a:59:83:28:11</td>\n",
       "      <td>Switch</td>\n",
       "      <td>12.0</td>\n",
       "    </tr>\n",
       "    <tr>\n",
       "      <th>4</th>\n",
       "      <td>1.474553e+09</td>\n",
       "      <td>192.168.1.193</td>\n",
       "      <td>4978</td>\n",
       "      <td>tcp</td>\n",
       "      <td>http</td>\n",
       "      <td>0.018730</td>\n",
       "      <td>186</td>\n",
       "      <td>5</td>\n",
       "      <td>454</td>\n",
       "      <td>Belkin wemo motion sensor</td>\n",
       "      <td>ec:1a:59:83:28:11</td>\n",
       "      <td>Switch</td>\n",
       "      <td>12.0</td>\n",
       "    </tr>\n",
       "  </tbody>\n",
       "</table>\n",
       "</div>"
      ],
      "text/plain": [
       "             ts             ip   port proto service  duration bytes  pkts  \\\n",
       "0  1.474553e+09  192.168.1.241  61725   udp     dns         -     -     1   \n",
       "1  1.474553e+09  192.168.1.193   4425   tcp    http  0.008820   196     5   \n",
       "2  1.474553e+09  192.168.1.193   4426   tcp    http  0.008664   198     5   \n",
       "3  1.474553e+09  192.168.1.193   4977   tcp    http  0.020995   186     5   \n",
       "4  1.474553e+09  192.168.1.193   4978   tcp    http  0.018730   186     5   \n",
       "\n",
       "   ip_bytes                     device                MAC category  \\\n",
       "0        74            Netatmo Welcome  70:ee:50:18:34:43   Camera   \n",
       "1       464  Belkin wemo motion sensor  ec:1a:59:83:28:11   Switch   \n",
       "2       466  Belkin wemo motion sensor  ec:1a:59:83:28:11   Switch   \n",
       "3       454  Belkin wemo motion sensor  ec:1a:59:83:28:11   Switch   \n",
       "4       454  Belkin wemo motion sensor  ec:1a:59:83:28:11   Switch   \n",
       "\n",
       "   category_id  \n",
       "0          1.0  \n",
       "1         12.0  \n",
       "2         12.0  \n",
       "3         12.0  \n",
       "4         12.0  "
      ]
     },
     "execution_count": 210,
     "metadata": {},
     "output_type": "execute_result"
    },
    {
     "name": "stdout",
     "output_type": "stream",
     "text": [
      "time: 19.9 ms\n"
     ]
    }
   ],
   "source": [
    "exploded_pdf.head()"
   ]
  },
  {
   "cell_type": "code",
   "execution_count": 96,
   "metadata": {},
   "outputs": [
    {
     "name": "stdout",
     "output_type": "stream",
     "text": [
      "time: 614 µs\n"
     ]
    }
   ],
   "source": [
    "import numpy as np"
   ]
  },
  {
   "cell_type": "code",
   "execution_count": 211,
   "metadata": {},
   "outputs": [
    {
     "name": "stdout",
     "output_type": "stream",
     "text": [
      "time: 2.38 s\n"
     ]
    }
   ],
   "source": [
    "exploded_pdf['hour_time_bin'] = exploded_pdf['ts'].apply(lambda x: int(np.floor(x/(60*60))))"
   ]
  },
  {
   "cell_type": "code",
   "execution_count": 215,
   "metadata": {},
   "outputs": [
    {
     "name": "stdout",
     "output_type": "stream",
     "text": [
      "time: 302 ms\n"
     ]
    }
   ],
   "source": [
    "one_hour_time_bin_pdf = exploded_pdf[['bytes','pkts','ip_bytes','MAC','category_id','hour_time_bin']].groupby(['MAC','category_id','hour_time_bin']).sum()\n",
    "one_hour_time_bin_pdf = one_hour_time_bin_pdf.reset_index()"
   ]
  },
  {
   "cell_type": "code",
   "execution_count": 213,
   "metadata": {},
   "outputs": [
    {
     "data": {
      "text/html": [
       "<div>\n",
       "<style>\n",
       "    .dataframe thead tr:only-child th {\n",
       "        text-align: right;\n",
       "    }\n",
       "\n",
       "    .dataframe thead th {\n",
       "        text-align: left;\n",
       "    }\n",
       "\n",
       "    .dataframe tbody tr th {\n",
       "        vertical-align: top;\n",
       "    }\n",
       "</style>\n",
       "<table border=\"1\" class=\"dataframe\">\n",
       "  <thead>\n",
       "    <tr style=\"text-align: right;\">\n",
       "      <th></th>\n",
       "      <th>MAC</th>\n",
       "      <th>category_id</th>\n",
       "      <th>hour_time_bin</th>\n",
       "      <th>pkts</th>\n",
       "      <th>ip_bytes</th>\n",
       "    </tr>\n",
       "  </thead>\n",
       "  <tbody>\n",
       "    <tr>\n",
       "      <th>0</th>\n",
       "      <td>00:16:6c:ab:6b:88</td>\n",
       "      <td>1.0</td>\n",
       "      <td>409598</td>\n",
       "      <td>67929</td>\n",
       "      <td>29754753</td>\n",
       "    </tr>\n",
       "    <tr>\n",
       "      <th>1</th>\n",
       "      <td>00:16:6c:ab:6b:88</td>\n",
       "      <td>1.0</td>\n",
       "      <td>409599</td>\n",
       "      <td>568</td>\n",
       "      <td>115454</td>\n",
       "    </tr>\n",
       "    <tr>\n",
       "      <th>2</th>\n",
       "      <td>00:16:6c:ab:6b:88</td>\n",
       "      <td>1.0</td>\n",
       "      <td>409600</td>\n",
       "      <td>679</td>\n",
       "      <td>129004</td>\n",
       "    </tr>\n",
       "    <tr>\n",
       "      <th>3</th>\n",
       "      <td>00:16:6c:ab:6b:88</td>\n",
       "      <td>1.0</td>\n",
       "      <td>409601</td>\n",
       "      <td>448</td>\n",
       "      <td>106468</td>\n",
       "    </tr>\n",
       "    <tr>\n",
       "      <th>4</th>\n",
       "      <td>00:16:6c:ab:6b:88</td>\n",
       "      <td>1.0</td>\n",
       "      <td>409602</td>\n",
       "      <td>549</td>\n",
       "      <td>111263</td>\n",
       "    </tr>\n",
       "  </tbody>\n",
       "</table>\n",
       "</div>"
      ],
      "text/plain": [
       "                 MAC  category_id  hour_time_bin   pkts  ip_bytes\n",
       "0  00:16:6c:ab:6b:88          1.0         409598  67929  29754753\n",
       "1  00:16:6c:ab:6b:88          1.0         409599    568    115454\n",
       "2  00:16:6c:ab:6b:88          1.0         409600    679    129004\n",
       "3  00:16:6c:ab:6b:88          1.0         409601    448    106468\n",
       "4  00:16:6c:ab:6b:88          1.0         409602    549    111263"
      ]
     },
     "execution_count": 213,
     "metadata": {},
     "output_type": "execute_result"
    },
    {
     "name": "stdout",
     "output_type": "stream",
     "text": [
      "time: 7.73 ms\n"
     ]
    }
   ],
   "source": [
    "one_hour_time_bin_pdf.head()"
   ]
  },
  {
   "cell_type": "code",
   "execution_count": 156,
   "metadata": {},
   "outputs": [
    {
     "name": "stdout",
     "output_type": "stream",
     "text": [
      "time: 1.41 ms\n"
     ]
    }
   ],
   "source": [
    "pdf_msk = np.random.rand(len(one_hour_time_bin_pdf)) < 0.7"
   ]
  },
  {
   "cell_type": "code",
   "execution_count": 157,
   "metadata": {},
   "outputs": [
    {
     "name": "stdout",
     "output_type": "stream",
     "text": [
      "==> train length = 5467\n",
      "==> test length = 2252\n",
      "time: 4.68 ms\n"
     ]
    }
   ],
   "source": [
    "train_pdf = one_hour_time_bin_pdf[pdf_msk]\n",
    "test_pdf = one_hour_time_bin_pdf[~pdf_msk]\n",
    "\n",
    "print(\"==> train length =\",len(train_pdf))\n",
    "print(\"==> test length =\",len(test_pdf))"
   ]
  },
  {
   "cell_type": "code",
   "execution_count": 159,
   "metadata": {},
   "outputs": [
    {
     "name": "stdout",
     "output_type": "stream",
     "text": [
      "time: 939 µs\n"
     ]
    }
   ],
   "source": [
    "def bytes_packet_vector(row):\n",
    "    return [row['ip_bytes'],row['pkts'],int(row['category_id'])]"
   ]
  },
  {
   "cell_type": "code",
   "execution_count": 168,
   "metadata": {},
   "outputs": [
    {
     "name": "stdout",
     "output_type": "stream",
     "text": [
      "time: 2.79 ms\n"
     ]
    }
   ],
   "source": [
    "train_X = train_pdf[['pkts','ip_bytes']].values\n",
    "train_Y = train_pdf['category_id'].values\n",
    "\n",
    "test_X = test_pdf[['pkts','ip_bytes']].values\n",
    "test_Y = test_pdf['category_id'].values"
   ]
  },
  {
   "cell_type": "code",
   "execution_count": 169,
   "metadata": {},
   "outputs": [
    {
     "name": "stdout",
     "output_type": "stream",
     "text": [
      "time: 761 µs\n"
     ]
    }
   ],
   "source": [
    "import xgboost as xgb"
   ]
  },
  {
   "cell_type": "code",
   "execution_count": 171,
   "metadata": {},
   "outputs": [
    {
     "name": "stdout",
     "output_type": "stream",
     "text": [
      "time: 1.95 ms\n"
     ]
    }
   ],
   "source": [
    "xg_train = xgb.DMatrix(train_X, label=train_Y)\n",
    "xg_test = xgb.DMatrix(test_X, label=test_Y)"
   ]
  },
  {
   "cell_type": "code",
   "execution_count": 192,
   "metadata": {},
   "outputs": [
    {
     "data": {
      "text/plain": [
       "{'eta': 0.1,\n",
       " 'max_depth': 13,\n",
       " 'nthread': 4,\n",
       " 'num_class': 13,\n",
       " 'objective': 'multi:softmax',\n",
       " 'silent': 1}"
      ]
     },
     "execution_count": 192,
     "metadata": {},
     "output_type": "execute_result"
    },
    {
     "name": "stdout",
     "output_type": "stream",
     "text": [
      "time: 192 ms\n"
     ]
    }
   ],
   "source": [
    "param = {}\n",
    "param['objective'] = 'multi:softmax'\n",
    "param['eta'] = 0.1\n",
    "param['max_depth'] = 13\n",
    "param['silent'] = 1\n",
    "param['nthread'] = 4\n",
    "param['num_class'] = int(len(exploded_pdf.groupby('category_id')['category_id'].nunique()))\n",
    "param"
   ]
  },
  {
   "cell_type": "code",
   "execution_count": 205,
   "metadata": {},
   "outputs": [
    {
     "name": "stdout",
     "output_type": "stream",
     "text": [
      "time: 953 µs\n"
     ]
    }
   ],
   "source": [
    "watchlist = [(xg_train, 'train'), (xg_test, 'test')]\n",
    "num_round = 20"
   ]
  },
  {
   "cell_type": "code",
   "execution_count": 206,
   "metadata": {},
   "outputs": [
    {
     "name": "stdout",
     "output_type": "stream",
     "text": [
      "[0]\ttrain-merror:0.102982\ttest-merror:0.157638\n",
      "[1]\ttrain-merror:0.092921\ttest-merror:0.147425\n",
      "[2]\ttrain-merror:0.087617\ttest-merror:0.143872\n",
      "[3]\ttrain-merror:0.083958\ttest-merror:0.141208\n",
      "[4]\ttrain-merror:0.080666\ttest-merror:0.138099\n",
      "[5]\ttrain-merror:0.07591\ttest-merror:0.135435\n",
      "[6]\ttrain-merror:0.073166\ttest-merror:0.133659\n",
      "[7]\ttrain-merror:0.069325\ttest-merror:0.130107\n",
      "[8]\ttrain-merror:0.067679\ttest-merror:0.130107\n",
      "[9]\ttrain-merror:0.06585\ttest-merror:0.130551\n",
      "[10]\ttrain-merror:0.064569\ttest-merror:0.130995\n",
      "[11]\ttrain-merror:0.062374\ttest-merror:0.130551\n",
      "[12]\ttrain-merror:0.059813\ttest-merror:0.132771\n",
      "[13]\ttrain-merror:0.057984\ttest-merror:0.132771\n",
      "[14]\ttrain-merror:0.056338\ttest-merror:0.133215\n",
      "[15]\ttrain-merror:0.054509\ttest-merror:0.134103\n",
      "[16]\ttrain-merror:0.054326\ttest-merror:0.132771\n",
      "[17]\ttrain-merror:0.052131\ttest-merror:0.131883\n",
      "[18]\ttrain-merror:0.050119\ttest-merror:0.129218\n",
      "[19]\ttrain-merror:0.047741\ttest-merror:0.128774\n",
      "time: 282 ms\n"
     ]
    }
   ],
   "source": [
    "bst = xgb.train(param, xg_train, num_round, watchlist)"
   ]
  },
  {
   "cell_type": "code",
   "execution_count": 203,
   "metadata": {},
   "outputs": [
    {
     "name": "stdout",
     "output_type": "stream",
     "text": [
      "time: 1.7 ms\n"
     ]
    }
   ],
   "source": [
    "pred = bst.predict(xg_test)"
   ]
  },
  {
   "cell_type": "code",
   "execution_count": 204,
   "metadata": {},
   "outputs": [
    {
     "data": {
      "text/plain": [
       "0.12655417406749556"
      ]
     },
     "execution_count": 204,
     "metadata": {},
     "output_type": "execute_result"
    },
    {
     "name": "stdout",
     "output_type": "stream",
     "text": [
      "time: 2.9 ms\n"
     ]
    }
   ],
   "source": [
    "error_rate = np.sum(pred != test_Y) / test_Y.shape[0]\n",
    "error_rate"
   ]
  },
  {
   "cell_type": "code",
   "execution_count": 220,
   "metadata": {},
   "outputs": [
    {
     "name": "stdout",
     "output_type": "stream",
     "text": [
      "time: 2.88 s\n"
     ]
    }
   ],
   "source": [
    "exploded_pdf['5min_time_bin'] = exploded_pdf['ts'].apply(lambda x: int(np.floor(x/(60*5))))\n",
    "\n",
    "five_min_time_bin_pdf = exploded_pdf[['bytes','pkts','ip_bytes','MAC','category_id','5min_time_bin']].groupby(['MAC','category_id','5min_time_bin']).sum()\n",
    "five_min_time_bin_pdf = five_min_time_bin_pdf.reset_index()\n",
    "\n",
    "pdf_msk = np.random.rand(len(five_min_time_bin_pdf)) < 0.7\n",
    "\n",
    "train_pdf = five_min_time_bin_pdf[pdf_msk]\n",
    "test_pdf = five_min_time_bin_pdf[~pdf_msk]\n",
    "\n",
    "train_X = train_pdf[['pkts','ip_bytes']].values\n",
    "train_Y = train_pdf['category_id'].values\n",
    "\n",
    "test_X = test_pdf[['pkts','ip_bytes']].values\n",
    "test_Y = test_pdf['category_id'].values\n",
    "\n",
    "xg_train = xgb.DMatrix(train_X, label=train_Y)\n",
    "xg_test = xgb.DMatrix(test_X, label=test_Y)\n",
    "\n",
    "param = {}\n",
    "param['objective'] = 'multi:softmax'\n",
    "param['eta'] = 0.1\n",
    "param['max_depth'] = 13\n",
    "param['silent'] = 1\n",
    "param['nthread'] = 4\n",
    "param['num_class'] = int(len(exploded_pdf.groupby('category_id')['category_id'].nunique()))\n",
    "\n",
    "watchlist = [(xg_train, 'train'), (xg_test, 'test')]\n",
    "num_round = 20"
   ]
  },
  {
   "cell_type": "code",
   "execution_count": 221,
   "metadata": {},
   "outputs": [
    {
     "name": "stdout",
     "output_type": "stream",
     "text": [
      "[0]\ttrain-merror:0.079665\ttest-merror:0.091139\n",
      "[1]\ttrain-merror:0.077493\ttest-merror:0.089122\n",
      "[2]\ttrain-merror:0.075222\ttest-merror:0.087574\n",
      "[3]\ttrain-merror:0.072412\ttest-merror:0.087293\n",
      "[4]\ttrain-merror:0.07034\ttest-merror:0.085276\n",
      "[5]\ttrain-merror:0.069005\ttest-merror:0.084901\n",
      "[6]\ttrain-merror:0.06749\ttest-merror:0.084479\n",
      "[7]\ttrain-merror:0.066175\ttest-merror:0.084103\n",
      "[8]\ttrain-merror:0.064581\ttest-merror:0.083587\n",
      "[9]\ttrain-merror:0.063844\ttest-merror:0.082415\n",
      "[10]\ttrain-merror:0.062529\ttest-merror:0.082368\n",
      "[11]\ttrain-merror:0.061293\ttest-merror:0.081383\n",
      "[12]\ttrain-merror:0.060875\ttest-merror:0.081242\n",
      "[13]\ttrain-merror:0.059898\ttest-merror:0.08082\n",
      "[14]\ttrain-merror:0.05942\ttest-merror:0.080351\n",
      "[15]\ttrain-merror:0.058444\ttest-merror:0.080116\n",
      "[16]\ttrain-merror:0.058005\ttest-merror:0.079225\n",
      "[17]\ttrain-merror:0.057647\ttest-merror:0.079272\n",
      "[18]\ttrain-merror:0.056949\ttest-merror:0.078991\n",
      "[19]\ttrain-merror:0.056112\ttest-merror:0.078287\n",
      "time: 2.27 s\n"
     ]
    }
   ],
   "source": [
    "bst = xgb.train(param, xg_train, num_round, watchlist)"
   ]
  },
  {
   "cell_type": "code",
   "execution_count": 222,
   "metadata": {},
   "outputs": [
    {
     "data": {
      "text/plain": [
       "0.07828697406069703"
      ]
     },
     "execution_count": 222,
     "metadata": {},
     "output_type": "execute_result"
    },
    {
     "name": "stdout",
     "output_type": "stream",
     "text": [
      "time: 4.25 ms\n"
     ]
    }
   ],
   "source": [
    "pred = bst.predict(xg_test)\n",
    "error_rate = np.sum(pred != test_Y) / test_Y.shape[0]\n",
    "error_rate"
   ]
  },
  {
   "cell_type": "code",
   "execution_count": null,
   "metadata": {},
   "outputs": [],
   "source": [
    "exploded_pdf['5min_time_bin'] = exploded_pdf['ts'].apply(lambda x: int(np.floor(x/(60*5))))\n",
    "\n",
    "five_min_time_bin_pdf = exploded_pdf[['bytes','pkts','ip_bytes','MAC','category_id','5min_time_bin']].groupby(['MAC','category_id','5min_time_bin']).sum()\n",
    "five_min_time_bin_pdf = five_min_time_bin_pdf.reset_index()\n",
    "\n",
    "pdf_msk = np.random.rand(len(five_min_time_bin_pdf)) < 0.7\n",
    "\n",
    "train_pdf = five_min_time_bin_pdf[pdf_msk]\n",
    "test_pdf = five_min_time_bin_pdf[~pdf_msk]\n",
    "\n",
    "train_X = train_pdf[['pkts','ip_bytes']].values\n",
    "train_Y = train_pdf['category_id'].values\n",
    "\n",
    "test_X = test_pdf[['pkts','ip_bytes']].values\n",
    "test_Y = test_pdf['category_id'].values\n",
    "\n",
    "xg_train = xgb.DMatrix(train_X, label=train_Y)\n",
    "xg_test = xgb.DMatrix(test_X, label=test_Y)\n",
    "\n",
    "param = {}\n",
    "param['objective'] = 'multi:softmax'\n",
    "param['eta'] = 0.1\n",
    "param['max_depth'] = 13\n",
    "param['silent'] = 1\n",
    "param['nthread'] = 4\n",
    "param['num_class'] = int(len(exploded_pdf.groupby('category_id')['category_id'].nunique()))\n",
    "\n",
    "watchlist = [(xg_train, 'train'), (xg_test, 'test')]\n",
    "num_round = 20"
   ]
  }
 ],
 "metadata": {
  "kernelspec": {
   "display_name": "Python 3",
   "language": "python",
   "name": "python3"
  },
  "language_info": {
   "codemirror_mode": {
    "name": "ipython",
    "version": 3
   },
   "file_extension": ".py",
   "mimetype": "text/x-python",
   "name": "python",
   "nbconvert_exporter": "python",
   "pygments_lexer": "ipython3",
   "version": "3.5.5"
  }
 },
 "nbformat": 4,
 "nbformat_minor": 2
}
