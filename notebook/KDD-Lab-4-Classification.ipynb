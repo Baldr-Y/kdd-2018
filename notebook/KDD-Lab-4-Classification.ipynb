{
 "cells": [
  {
   "cell_type": "markdown",
   "metadata": {},
   "source": [
    "# Lab n: Classification"
   ]
  },
  {
   "cell_type": "code",
   "execution_count": 2,
   "metadata": {},
   "outputs": [
    {
     "name": "stdout",
     "output_type": "stream",
     "text": [
      "Requirement already satisfied: ipython-autotime in /opt/conda/envs/pygdf_dev/lib/python3.5/site-packages (0.1)\n"
     ]
    }
   ],
   "source": [
    "## Notebook Settings\n",
    "# Add autotime of each block\n",
    "!pip install ipython-autotime\n",
    "%load_ext autotime"
   ]
  },
  {
   "cell_type": "markdown",
   "metadata": {},
   "source": [
    "### Goals:\n",
    "- Learn the basics of cyber network data with respect to consumer IoT devices\n",
    "- Load network data into Pandas and a GDF (for comparison)\n",
    "- Explore network data and features\n",
    "- Use XGBoost to build a classification model\n",
    "- Test the model"
   ]
  },
  {
   "cell_type": "markdown",
   "metadata": {},
   "source": [
    "This lab builds on the previous labs and will utilize some of those skills."
   ]
  },
  {
   "cell_type": "markdown",
   "metadata": {},
   "source": [
    "### Background"
   ]
  },
  {
   "cell_type": "markdown",
   "metadata": {},
   "source": [
    "#### The Internet of Things and Data at a Massive Scale"
   ]
  },
  {
   "cell_type": "markdown",
   "metadata": {},
   "source": [
    "Gartner estimates there are currently over 8.4 billion Internet of Things (IoT) devices. By 2020, that number is [estimated to surpass 20 billion](https://www.zdnet.com/article/iot-devices-will-outnumber-the-worlds-population-this-year-for-the-first-time/). These types of devices range from consumer devices (e.g., Amazon Echo, smart TVs, smart cameras, door bells) to commercial devices (e.g., building automation systems, keycard entry). All of these devices exhibit behavior on the Internet as they communicate back with their own clouds and user-specified integrations."
   ]
  },
  {
   "cell_type": "markdown",
   "metadata": {},
   "source": [
    "#### Types of Network Data"
   ]
  },
  {
   "cell_type": "markdown",
   "metadata": {},
   "source": [
    "The most detailed type of data that is typically collected on a network is full Packet CAPture (PCAP) data. This information is detailed and contains everything about the communication, including: source address, destination address, protocols used, bytes transferred, and even the raw data (e.g., image, audio file, executable). PCAP data is fine-grained, meaning that there is a record for each frame being transmitted. A typical communication is composed of many individual packets/frames.\n",
    "\n",
    "If we aggregate PCAP data so that there is one row of data per communication session, we call that flow level data. A simplified example of this relationship is shown in the figure below.\n",
    "\n",
    "![PCAP_flow_relationship](pcap_vs_flow.png)"
   ]
  },
  {
   "cell_type": "markdown",
   "metadata": {},
   "source": [
    "For this tutorial, we use data from the University of New South Wales. In a lab environment, they [collected nearly three weeks of IoT data from 21 IoT devices](http://149.171.189.1). They also kept a detailed [list of devices by MAC address](http://149.171.189.1/resources/List_Of_Devices.txt), so we have ground-truth with respect to each IoT device's behavior on the network.\n",
    "\n",
    "**Our goal is to utilize the behavior exhibited in the network data to classify IoT devices.**"
   ]
  },
  {
   "cell_type": "markdown",
   "metadata": {},
   "source": [
    "### Data Investigation"
   ]
  },
  {
   "cell_type": "markdown",
   "metadata": {},
   "source": [
    "Let's first see some of the data. We'll load a PCAP file in using PyShark (a Python wrapper for Tshark)."
   ]
  },
  {
   "cell_type": "code",
   "execution_count": 4,
   "metadata": {},
   "outputs": [
    {
     "name": "stdout",
     "output_type": "stream",
     "text": [
      "time: 1.94 ms\n"
     ]
    }
   ],
   "source": [
    "import pyshark\n",
    "cap = pyshark.FileCapture(\"/cwshare/unsw_iot/16-09-27.pcap\")"
   ]
  },
  {
   "cell_type": "code",
   "execution_count": 5,
   "metadata": {},
   "outputs": [
    {
     "name": "stdout",
     "output_type": "stream",
     "text": [
      "Packet (Length: 156)\n",
      "Layer ETH:\n",
      "\tDestination: 14:cc:20:51:33:ea\n",
      "\t.... ...0 .... .... .... .... = IG bit: Individual address (unicast)\n",
      "\tSource: 30:8c:fb:2f:e4:b2\n",
      "\t.... ..0. .... .... .... .... = LG bit: Globally unique address (factory default)\n",
      "\tType: IPv4 (0x0800)\n",
      "\tAddress: 14:cc:20:51:33:ea\n",
      "\t.... ...0 .... .... .... .... = IG bit: Individual address (unicast)\n",
      "\t.... ..0. .... .... .... .... = LG bit: Globally unique address (factory default)\n",
      "\tAddress: 30:8c:fb:2f:e4:b2\n",
      "Layer IP:\n",
      "\tSource GeoIP: Unknown\n",
      "\t0000 00.. = Differentiated Services Codepoint: Default (0)\n",
      "\tProtocol: TCP (6)\n",
      "\tDestination GeoIP Country: United States\n",
      "\tTotal Length: 142\n",
      "\tDestination: 52.87.241.159\n",
      "\tHeader checksum status: Unverified\n",
      "\tFragment offset: 0\n",
      "\tDestination GeoIP City: Ashburn, VA\n",
      "\tDestination GeoIP Latitude: 39.033501\n",
      "\t.... 0101 = Header Length: 20 bytes (5)\n",
      "\t..0. .... = More fragments: Not set\n",
      "\tHeader checksum: 0x7fc2 [validation disabled]\n",
      "\tDestination GeoIP AS Number: AS14618 Amazon.com, Inc.\n",
      "\tSource: 192.168.1.106\n",
      "\t.... ..00 = Explicit Congestion Notification: Not ECN-Capable Transport (0)\n",
      "\tTime to live: 64\n",
      "\t0100 .... = Version: 4\n",
      "\t0... .... = Reserved bit: Not set\n",
      "\tFlags: 0x02 (Don't Fragment)\n",
      "\tDifferentiated Services Field: 0x00 (DSCP: CS0, ECN: Not-ECT)\n",
      "\tIdentification: 0xd29e (53918)\n",
      "\t.1.. .... = Don't fragment: Set\n",
      "\tDestination GeoIP Longitude: -77.483803\n",
      "\tDestination GeoIP: Ashburn, VA, United States, AS14618 Amazon.com, Inc., 39.033501, -77.483803\n",
      "Layer TCP:\n",
      "\tNo-Operation (NOP)\n",
      "\tCalculated window size: 2549\n",
      "\tLength: 10\n",
      "\tKind: Time Stamp Option (8)\n",
      "\t.... .0.. .... = ECN-Echo: Not set\n",
      "\tType: 1\n",
      "\t.... ..0. .... = Urgent: Not set\n",
      "\tSEQ/ACK analysis\n",
      "\tBytes sent since last PSH flag: 90\n",
      "\t.... 0... .... = Congestion Window Reduced (CWR): Not set\n",
      "\tHeader Length: 32 bytes\n",
      "\tWindow size value: 2549\n",
      "\tBytes in flight: 90\n",
      "\tUrgent pointer: 0\n",
      "\t.... .... ..0. = Syn: Not set\n",
      "\t.... .... 1... = Push: Set\n",
      "\tStream index: 0\n",
      "\tDestination Port: 443\n",
      "\tWindow size scaling factor: -1 (unknown)\n",
      "\t000. .... .... = Reserved: Not set\n",
      "\tNext sequence number: 91    (relative sequence number)\n",
      "\t...0 0001 = Number: No-Operation (NOP) (1)\n",
      "\t0... .... = Copy on fragmentation: No\n",
      "\t.... .... .0.. = Reset: Not set\n",
      "\tFlags: 0x018 (PSH, ACK)\n",
      "\t.00. .... = Class: Control (0)\n",
      "\tChecksum Status: Unverified\n",
      "\tTCP Segment Len: 90\n",
      "\t...0 .... .... = Nonce: Not set\n",
      "\tChecksum: 0x9017 [unverified]\n",
      "\tTimestamp value: 23189159\n",
      "\tTCP Flags: \\xc2\\xb7\\xc2\\xb7\\xc2\\xb7\\xc2\\xb7\\xc2\\xb7\\xc2\\xb7\\xc2\\xb7AP\\xc2\\xb7\\xc2\\xb7\\xc2\\xb7\n",
      "\tTimestamp echo reply: 4049397467\n",
      "\t.... .... ...0 = Fin: Not set\n",
      "\tOptions: (12 bytes), No-Operation (NOP), No-Operation (NOP), Timestamps\n",
      "\tSequence number: 1    (relative sequence number)\n",
      "\t.... ...1 .... = Acknowledgment: Set\n",
      "\tSource Port: 40767\n",
      "\tAcknowledgment number: 1    (relative ack number)\n",
      "\tNo-Operation (NOP)\n",
      "\tTimestamps: TSval 23189159, TSecr 4049397467\n",
      "\tType: 1\n",
      "\t...0 0001 = Number: No-Operation (NOP) (1)\n",
      "\t0... .... = Copy on fragmentation: No\n",
      "\t.00. .... = Class: Control (0)\n",
      "Layer SSL:\n",
      "\tEncrypted Application Data: 6a76fcc7ffecfada26925c0c672dd6a7d8b5abf63eb82e0a...\n",
      "\tVersion: TLS 1.0 (0x0301)\n",
      "\tLength: 32\n",
      "\tContent Type: Application Data (23)\n",
      "\tTLSv1 Record Layer: Application Data Protocol: http-over-tls\n",
      "\tEncrypted Application Data: b0c3d18139d1e5e8da5feb754730c26613d3e8ea22eac198...\n",
      "\tVersion: TLS 1.0 (0x0301)\n",
      "\tLength: 48\n",
      "\tContent Type: Application Data (23)\n",
      "\tTLSv1 Record Layer: Application Data Protocol: http-over-tls\n",
      "\n",
      "time: 193 ms\n"
     ]
    }
   ],
   "source": [
    "print(cap[0])"
   ]
  },
  {
   "cell_type": "markdown",
   "metadata": {},
   "source": [
    "There's really a lot of features there! In addition to having multiple layers (which may differ between packets), there are a number of other issues with working directly with PCAP. Often the payload is encrypted (note the SSL layer in the above example), rendering it useless. The lack of aggregation also makes it difficult to differentiate between packets. What we really care about for this application is what a *session* looks like. In other words, how a Roku interacts with the network is likely quite different than how a Google Home interacts. \n",
    "\n",
    "To save time for the tutorial, all three weeks of PCAP data have already been transformed to flow data, and we can load that in to a typical Pandas dataframe. Due to how the data was created, we have a header row (with column names) as well as a footer row. We want to use the header but will skip the footer."
   ]
  },
  {
   "cell_type": "code",
   "execution_count": 6,
   "metadata": {},
   "outputs": [
    {
     "name": "stderr",
     "output_type": "stream",
     "text": [
      "/opt/conda/envs/pygdf_dev/lib/python3.5/site-packages/ipykernel_launcher.py:2: ParserWarning: Falling back to the 'python' engine because the 'c' engine does not support skipfooter; you can avoid this warning by specifying engine='python'.\n",
      "  \n"
     ]
    },
    {
     "name": "stdout",
     "output_type": "stream",
     "text": [
      "==> pdf shape:  (950384, 23)\n",
      "time: 12.1 s\n"
     ]
    }
   ],
   "source": [
    "import pandas as pd\n",
    "pdf = pd.read_csv(\"/cwshare/unsw_iot/bro/conn.log\", sep='\\t', skipfooter=1)\n",
    "print(\"==> pdf shape: \",pdf.shape)"
   ]
  },
  {
   "cell_type": "markdown",
   "metadata": {},
   "source": [
    "We can look at what this new aggregated data looks like, and get a better sense of the columns and their data types."
   ]
  },
  {
   "cell_type": "code",
   "execution_count": 7,
   "metadata": {},
   "outputs": [
    {
     "data": {
      "text/html": [
       "<div>\n",
       "<style>\n",
       "    .dataframe thead tr:only-child th {\n",
       "        text-align: right;\n",
       "    }\n",
       "\n",
       "    .dataframe thead th {\n",
       "        text-align: left;\n",
       "    }\n",
       "\n",
       "    .dataframe tbody tr th {\n",
       "        vertical-align: top;\n",
       "    }\n",
       "</style>\n",
       "<table border=\"1\" class=\"dataframe\">\n",
       "  <thead>\n",
       "    <tr style=\"text-align: right;\">\n",
       "      <th></th>\n",
       "      <th>ts</th>\n",
       "      <th>uid</th>\n",
       "      <th>id.orig_h</th>\n",
       "      <th>id.orig_p</th>\n",
       "      <th>id.resp_h</th>\n",
       "      <th>id.resp_p</th>\n",
       "      <th>proto</th>\n",
       "      <th>service</th>\n",
       "      <th>duration</th>\n",
       "      <th>orig_bytes</th>\n",
       "      <th>...</th>\n",
       "      <th>local_resp</th>\n",
       "      <th>missed_bytes</th>\n",
       "      <th>history</th>\n",
       "      <th>orig_pkts</th>\n",
       "      <th>orig_ip_bytes</th>\n",
       "      <th>resp_pkts</th>\n",
       "      <th>resp_ip_bytes</th>\n",
       "      <th>tunnel_parents</th>\n",
       "      <th>orig_l2_addr</th>\n",
       "      <th>resp_l2_addr</th>\n",
       "    </tr>\n",
       "  </thead>\n",
       "  <tbody>\n",
       "    <tr>\n",
       "      <th>0</th>\n",
       "      <td>1.474553e+09</td>\n",
       "      <td>CIlOTU4kRBDOEJ2zf</td>\n",
       "      <td>192.168.1.241</td>\n",
       "      <td>61725</td>\n",
       "      <td>192.168.1.1</td>\n",
       "      <td>53</td>\n",
       "      <td>udp</td>\n",
       "      <td>dns</td>\n",
       "      <td>-</td>\n",
       "      <td>-</td>\n",
       "      <td>...</td>\n",
       "      <td>-</td>\n",
       "      <td>0</td>\n",
       "      <td>Dc</td>\n",
       "      <td>1</td>\n",
       "      <td>74</td>\n",
       "      <td>0</td>\n",
       "      <td>0</td>\n",
       "      <td>-</td>\n",
       "      <td>70:ee:50:18:34:43</td>\n",
       "      <td>14:cc:20:51:33:ea</td>\n",
       "    </tr>\n",
       "    <tr>\n",
       "      <th>1</th>\n",
       "      <td>1.474553e+09</td>\n",
       "      <td>CmV0US1aCCPzrVRz36</td>\n",
       "      <td>192.168.1.193</td>\n",
       "      <td>4425</td>\n",
       "      <td>192.168.1.223</td>\n",
       "      <td>49153</td>\n",
       "      <td>tcp</td>\n",
       "      <td>http</td>\n",
       "      <td>0.008820</td>\n",
       "      <td>196</td>\n",
       "      <td>...</td>\n",
       "      <td>-</td>\n",
       "      <td>0</td>\n",
       "      <td>ShADadfF</td>\n",
       "      <td>5</td>\n",
       "      <td>464</td>\n",
       "      <td>5</td>\n",
       "      <td>461</td>\n",
       "      <td>-</td>\n",
       "      <td>ec:1a:59:83:28:11</td>\n",
       "      <td>ec:1a:59:79:f4:89</td>\n",
       "    </tr>\n",
       "    <tr>\n",
       "      <th>2</th>\n",
       "      <td>1.474553e+09</td>\n",
       "      <td>CEXvDL2UPDYnBDtd6h</td>\n",
       "      <td>192.168.1.193</td>\n",
       "      <td>4426</td>\n",
       "      <td>192.168.1.223</td>\n",
       "      <td>49153</td>\n",
       "      <td>tcp</td>\n",
       "      <td>http</td>\n",
       "      <td>0.008664</td>\n",
       "      <td>198</td>\n",
       "      <td>...</td>\n",
       "      <td>-</td>\n",
       "      <td>0</td>\n",
       "      <td>ShADadfF</td>\n",
       "      <td>5</td>\n",
       "      <td>466</td>\n",
       "      <td>5</td>\n",
       "      <td>461</td>\n",
       "      <td>-</td>\n",
       "      <td>ec:1a:59:83:28:11</td>\n",
       "      <td>ec:1a:59:79:f4:89</td>\n",
       "    </tr>\n",
       "    <tr>\n",
       "      <th>3</th>\n",
       "      <td>1.474553e+09</td>\n",
       "      <td>CEXDAD42Irgl4M5go8</td>\n",
       "      <td>192.168.1.193</td>\n",
       "      <td>4977</td>\n",
       "      <td>192.168.1.249</td>\n",
       "      <td>49152</td>\n",
       "      <td>tcp</td>\n",
       "      <td>http</td>\n",
       "      <td>0.020995</td>\n",
       "      <td>186</td>\n",
       "      <td>...</td>\n",
       "      <td>-</td>\n",
       "      <td>0</td>\n",
       "      <td>ShADadfF</td>\n",
       "      <td>5</td>\n",
       "      <td>454</td>\n",
       "      <td>5</td>\n",
       "      <td>1438</td>\n",
       "      <td>-</td>\n",
       "      <td>ec:1a:59:83:28:11</td>\n",
       "      <td>00:16:6c:ab:6b:88</td>\n",
       "    </tr>\n",
       "    <tr>\n",
       "      <th>4</th>\n",
       "      <td>1.474553e+09</td>\n",
       "      <td>CW1YbA2fZzHrztJ0rl</td>\n",
       "      <td>192.168.1.193</td>\n",
       "      <td>4978</td>\n",
       "      <td>192.168.1.249</td>\n",
       "      <td>49152</td>\n",
       "      <td>tcp</td>\n",
       "      <td>http</td>\n",
       "      <td>0.018730</td>\n",
       "      <td>186</td>\n",
       "      <td>...</td>\n",
       "      <td>-</td>\n",
       "      <td>0</td>\n",
       "      <td>ShADadfF</td>\n",
       "      <td>5</td>\n",
       "      <td>454</td>\n",
       "      <td>5</td>\n",
       "      <td>1438</td>\n",
       "      <td>-</td>\n",
       "      <td>ec:1a:59:83:28:11</td>\n",
       "      <td>00:16:6c:ab:6b:88</td>\n",
       "    </tr>\n",
       "  </tbody>\n",
       "</table>\n",
       "<p>5 rows × 23 columns</p>\n",
       "</div>"
      ],
      "text/plain": [
       "             ts                 uid      id.orig_h  id.orig_p      id.resp_h  \\\n",
       "0  1.474553e+09   CIlOTU4kRBDOEJ2zf  192.168.1.241      61725    192.168.1.1   \n",
       "1  1.474553e+09  CmV0US1aCCPzrVRz36  192.168.1.193       4425  192.168.1.223   \n",
       "2  1.474553e+09  CEXvDL2UPDYnBDtd6h  192.168.1.193       4426  192.168.1.223   \n",
       "3  1.474553e+09  CEXDAD42Irgl4M5go8  192.168.1.193       4977  192.168.1.249   \n",
       "4  1.474553e+09  CW1YbA2fZzHrztJ0rl  192.168.1.193       4978  192.168.1.249   \n",
       "\n",
       "   id.resp_p proto service  duration orig_bytes        ...         local_resp  \\\n",
       "0         53   udp     dns         -          -        ...                  -   \n",
       "1      49153   tcp    http  0.008820        196        ...                  -   \n",
       "2      49153   tcp    http  0.008664        198        ...                  -   \n",
       "3      49152   tcp    http  0.020995        186        ...                  -   \n",
       "4      49152   tcp    http  0.018730        186        ...                  -   \n",
       "\n",
       "  missed_bytes   history orig_pkts  orig_ip_bytes resp_pkts  resp_ip_bytes  \\\n",
       "0            0        Dc         1             74         0              0   \n",
       "1            0  ShADadfF         5            464         5            461   \n",
       "2            0  ShADadfF         5            466         5            461   \n",
       "3            0  ShADadfF         5            454         5           1438   \n",
       "4            0  ShADadfF         5            454         5           1438   \n",
       "\n",
       "   tunnel_parents       orig_l2_addr       resp_l2_addr  \n",
       "0               -  70:ee:50:18:34:43  14:cc:20:51:33:ea  \n",
       "1               -  ec:1a:59:83:28:11  ec:1a:59:79:f4:89  \n",
       "2               -  ec:1a:59:83:28:11  ec:1a:59:79:f4:89  \n",
       "3               -  ec:1a:59:83:28:11  00:16:6c:ab:6b:88  \n",
       "4               -  ec:1a:59:83:28:11  00:16:6c:ab:6b:88  \n",
       "\n",
       "[5 rows x 23 columns]"
      ]
     },
     "execution_count": 7,
     "metadata": {},
     "output_type": "execute_result"
    },
    {
     "name": "stdout",
     "output_type": "stream",
     "text": [
      "time: 39.2 ms\n"
     ]
    }
   ],
   "source": [
    "pdf.head()"
   ]
  },
  {
   "cell_type": "code",
   "execution_count": 8,
   "metadata": {},
   "outputs": [
    {
     "data": {
      "text/plain": [
       "ts                float64\n",
       "uid                object\n",
       "id.orig_h          object\n",
       "id.orig_p           int64\n",
       "id.resp_h          object\n",
       "id.resp_p           int64\n",
       "proto              object\n",
       "service            object\n",
       "duration           object\n",
       "orig_bytes         object\n",
       "resp_bytes         object\n",
       "conn_state         object\n",
       "local_orig         object\n",
       "local_resp         object\n",
       "missed_bytes        int64\n",
       "history            object\n",
       "orig_pkts           int64\n",
       "orig_ip_bytes       int64\n",
       "resp_pkts           int64\n",
       "resp_ip_bytes       int64\n",
       "tunnel_parents     object\n",
       "orig_l2_addr       object\n",
       "resp_l2_addr       object\n",
       "dtype: object"
      ]
     },
     "execution_count": 8,
     "metadata": {},
     "output_type": "execute_result"
    },
    {
     "name": "stdout",
     "output_type": "stream",
     "text": [
      "time: 3.95 ms\n"
     ]
    }
   ],
   "source": [
    "pdf.dtypes"
   ]
  },
  {
   "cell_type": "code",
   "execution_count": 15,
   "metadata": {},
   "outputs": [
    {
     "name": "stdout",
     "output_type": "stream",
     "text": [
      "time: 507 µs\n"
     ]
    }
   ],
   "source": [
    "# maybe we rename the columns"
   ]
  },
  {
   "cell_type": "code",
   "execution_count": null,
   "metadata": {},
   "outputs": [],
   "source": [
    "# convert to GDF"
   ]
  },
  {
   "cell_type": "code",
   "execution_count": 23,
   "metadata": {},
   "outputs": [
    {
     "name": "stdout",
     "output_type": "stream",
     "text": [
      "time: 1.11 ms\n"
     ]
    }
   ],
   "source": [
    "import pygdf"
   ]
  },
  {
   "cell_type": "code",
   "execution_count": 24,
   "metadata": {},
   "outputs": [
    {
     "name": "stdout",
     "output_type": "stream",
     "text": [
      "time: 250 ms\n"
     ]
    }
   ],
   "source": [
    "gdf = pygdf.DataFrame.from_pandas(pdf)"
   ]
  },
  {
   "cell_type": "code",
   "execution_count": 21,
   "metadata": {},
   "outputs": [
    {
     "data": {
      "text/plain": [
       "ts                float64\n",
       "uid                object\n",
       "id.orig_h          object\n",
       "id.orig_p           int64\n",
       "id.resp_h          object\n",
       "id.resp_p           int64\n",
       "proto              object\n",
       "service            object\n",
       "duration           object\n",
       "orig_bytes         object\n",
       "resp_bytes         object\n",
       "conn_state         object\n",
       "local_orig         object\n",
       "local_resp         object\n",
       "missed_bytes        int64\n",
       "history            object\n",
       "orig_pkts           int64\n",
       "orig_ip_bytes       int64\n",
       "resp_pkts           int64\n",
       "resp_ip_bytes       int64\n",
       "tunnel_parents     object\n",
       "orig_l2_addr       object\n",
       "resp_l2_addr       object\n",
       "dtype: object"
      ]
     },
     "execution_count": 21,
     "metadata": {},
     "output_type": "execute_result"
    },
    {
     "name": "stdout",
     "output_type": "stream",
     "text": [
      "time: 5.14 ms\n"
     ]
    }
   ],
   "source": [
    "gdf.dtypes"
   ]
  },
  {
   "cell_type": "code",
   "execution_count": 29,
   "metadata": {},
   "outputs": [
    {
     "name": "stdout",
     "output_type": "stream",
     "text": [
      "time: 4.7 ms\n"
     ]
    }
   ],
   "source": [
    "labels_pdf = pd.read_csv(\"/cyshare/KDD2018/lab_mac_labels.tab\", sep='\\t')"
   ]
  },
  {
   "cell_type": "code",
   "execution_count": 34,
   "metadata": {},
   "outputs": [
    {
     "data": {
      "text/html": [
       "<div>\n",
       "<style>\n",
       "    .dataframe thead tr:only-child th {\n",
       "        text-align: right;\n",
       "    }\n",
       "\n",
       "    .dataframe thead th {\n",
       "        text-align: left;\n",
       "    }\n",
       "\n",
       "    .dataframe tbody tr th {\n",
       "        vertical-align: top;\n",
       "    }\n",
       "</style>\n",
       "<table border=\"1\" class=\"dataframe\">\n",
       "  <thead>\n",
       "    <tr style=\"text-align: right;\">\n",
       "      <th></th>\n",
       "      <th>Device</th>\n",
       "      <th>MAC</th>\n",
       "      <th>Connection</th>\n",
       "    </tr>\n",
       "  </thead>\n",
       "  <tbody>\n",
       "    <tr>\n",
       "      <th>0</th>\n",
       "      <td>Smart Things</td>\n",
       "      <td>d0:52:a8:00:67:5e</td>\n",
       "      <td>Wired</td>\n",
       "    </tr>\n",
       "    <tr>\n",
       "      <th>1</th>\n",
       "      <td>Amazon Echo</td>\n",
       "      <td>44:65:0d:56:cc:d3</td>\n",
       "      <td>Wireless</td>\n",
       "    </tr>\n",
       "    <tr>\n",
       "      <th>2</th>\n",
       "      <td>Netatmo Welcome</td>\n",
       "      <td>70:ee:50:18:34:43</td>\n",
       "      <td>Wireless</td>\n",
       "    </tr>\n",
       "    <tr>\n",
       "      <th>3</th>\n",
       "      <td>TP-Link Day Night Cloud camera</td>\n",
       "      <td>f4:f2:6d:93:51:f1</td>\n",
       "      <td>Wireless</td>\n",
       "    </tr>\n",
       "    <tr>\n",
       "      <th>4</th>\n",
       "      <td>Samsung SmartCam</td>\n",
       "      <td>00:16:6c:ab:6b:88</td>\n",
       "      <td>Wireless</td>\n",
       "    </tr>\n",
       "  </tbody>\n",
       "</table>\n",
       "</div>"
      ],
      "text/plain": [
       "                           Device                MAC Connection\n",
       "0                    Smart Things  d0:52:a8:00:67:5e      Wired\n",
       "1                     Amazon Echo  44:65:0d:56:cc:d3   Wireless\n",
       "2                 Netatmo Welcome  70:ee:50:18:34:43   Wireless\n",
       "3  TP-Link Day Night Cloud camera  f4:f2:6d:93:51:f1   Wireless\n",
       "4                Samsung SmartCam  00:16:6c:ab:6b:88   Wireless"
      ]
     },
     "execution_count": 34,
     "metadata": {},
     "output_type": "execute_result"
    },
    {
     "name": "stdout",
     "output_type": "stream",
     "text": [
      "time: 9.93 ms\n"
     ]
    }
   ],
   "source": [
    "labels_pdf.head()"
   ]
  },
  {
   "cell_type": "code",
   "execution_count": 43,
   "metadata": {},
   "outputs": [
    {
     "name": "stdout",
     "output_type": "stream",
     "text": [
      "time: 9.27 ms\n"
     ]
    }
   ],
   "source": [
    "labels_gdf = pygdf.DataFrame.from_pandas(labels_pdf)"
   ]
  },
  {
   "cell_type": "code",
   "execution_count": 48,
   "metadata": {},
   "outputs": [
    {
     "ename": "KeyError",
     "evalue": "<class 'numpy.object_'>",
     "output_type": "error",
     "traceback": [
      "\u001b[0;31m---------------------------------------------------------------------------\u001b[0m",
      "\u001b[0;31mKeyError\u001b[0m                                  Traceback (most recent call last)",
      "\u001b[0;32m<ipython-input-48-5058a461ca52>\u001b[0m in \u001b[0;36m<module>\u001b[0;34m()\u001b[0m\n\u001b[0;32m----> 1\u001b[0;31m \u001b[0mlabels_gdf\u001b[0m\u001b[0;34m.\u001b[0m\u001b[0mset_index\u001b[0m\u001b[0;34m(\u001b[0m\u001b[0;34m'MAC'\u001b[0m\u001b[0;34m)\u001b[0m\u001b[0;34m\u001b[0m\u001b[0m\n\u001b[0m",
      "\u001b[0;32m/opt/conda/envs/pygdf_dev/lib/python3.5/site-packages/pygdf/dataframe.py\u001b[0m in \u001b[0;36mset_index\u001b[0;34m(self, index)\u001b[0m\n\u001b[1;32m    298\u001b[0m             \u001b[0mdf\u001b[0m \u001b[0;34m=\u001b[0m \u001b[0mself\u001b[0m\u001b[0;34m.\u001b[0m\u001b[0mcopy\u001b[0m\u001b[0;34m(\u001b[0m\u001b[0;34m)\u001b[0m\u001b[0;34m\u001b[0m\u001b[0m\n\u001b[1;32m    299\u001b[0m             \u001b[0mdf\u001b[0m\u001b[0;34m.\u001b[0m\u001b[0mdrop_column\u001b[0m\u001b[0;34m(\u001b[0m\u001b[0mindex\u001b[0m\u001b[0;34m)\u001b[0m\u001b[0;34m\u001b[0m\u001b[0m\n\u001b[0;32m--> 300\u001b[0;31m             \u001b[0;32mreturn\u001b[0m \u001b[0mdf\u001b[0m\u001b[0;34m.\u001b[0m\u001b[0mset_index\u001b[0m\u001b[0;34m(\u001b[0m\u001b[0mself\u001b[0m\u001b[0;34m[\u001b[0m\u001b[0mindex\u001b[0m\u001b[0;34m]\u001b[0m\u001b[0;34m)\u001b[0m\u001b[0;34m\u001b[0m\u001b[0m\n\u001b[0m\u001b[1;32m    301\u001b[0m         \u001b[0;31m# Otherwise\u001b[0m\u001b[0;34m\u001b[0m\u001b[0;34m\u001b[0m\u001b[0m\n\u001b[1;32m    302\u001b[0m         \u001b[0;32melse\u001b[0m\u001b[0;34m:\u001b[0m\u001b[0;34m\u001b[0m\u001b[0m\n",
      "\u001b[0;32m/opt/conda/envs/pygdf_dev/lib/python3.5/site-packages/pygdf/dataframe.py\u001b[0m in \u001b[0;36mset_index\u001b[0;34m(self, index)\u001b[0m\n\u001b[1;32m    304\u001b[0m             \u001b[0mdf\u001b[0m \u001b[0;34m=\u001b[0m \u001b[0mDataFrame\u001b[0m\u001b[0;34m(\u001b[0m\u001b[0;34m)\u001b[0m\u001b[0;34m\u001b[0m\u001b[0m\n\u001b[1;32m    305\u001b[0m             \u001b[0;32mfor\u001b[0m \u001b[0mk\u001b[0m \u001b[0;32min\u001b[0m \u001b[0mself\u001b[0m\u001b[0;34m.\u001b[0m\u001b[0mcolumns\u001b[0m\u001b[0;34m:\u001b[0m\u001b[0;34m\u001b[0m\u001b[0m\n\u001b[0;32m--> 306\u001b[0;31m                 \u001b[0mdf\u001b[0m\u001b[0;34m[\u001b[0m\u001b[0mk\u001b[0m\u001b[0;34m]\u001b[0m \u001b[0;34m=\u001b[0m \u001b[0mself\u001b[0m\u001b[0;34m[\u001b[0m\u001b[0mk\u001b[0m\u001b[0;34m]\u001b[0m\u001b[0;34m.\u001b[0m\u001b[0mset_index\u001b[0m\u001b[0;34m(\u001b[0m\u001b[0mindex\u001b[0m\u001b[0;34m)\u001b[0m\u001b[0;34m\u001b[0m\u001b[0m\n\u001b[0m\u001b[1;32m    307\u001b[0m             \u001b[0;32mreturn\u001b[0m \u001b[0mdf\u001b[0m\u001b[0;34m\u001b[0m\u001b[0m\n\u001b[1;32m    308\u001b[0m \u001b[0;34m\u001b[0m\u001b[0m\n",
      "\u001b[0;32m/opt/conda/envs/pygdf_dev/lib/python3.5/site-packages/pygdf/dataframe.py\u001b[0m in \u001b[0;36m__setitem__\u001b[0;34m(self, name, col)\u001b[0m\n\u001b[1;32m    185\u001b[0m             \u001b[0mself\u001b[0m\u001b[0;34m.\u001b[0m\u001b[0m_cols\u001b[0m\u001b[0;34m[\u001b[0m\u001b[0mname\u001b[0m\u001b[0;34m]\u001b[0m \u001b[0;34m=\u001b[0m \u001b[0mself\u001b[0m\u001b[0;34m.\u001b[0m\u001b[0m_prepare_series_for_add\u001b[0m\u001b[0;34m(\u001b[0m\u001b[0mcol\u001b[0m\u001b[0;34m)\u001b[0m\u001b[0;34m\u001b[0m\u001b[0m\n\u001b[1;32m    186\u001b[0m         \u001b[0;32melse\u001b[0m\u001b[0;34m:\u001b[0m\u001b[0;34m\u001b[0m\u001b[0m\n\u001b[0;32m--> 187\u001b[0;31m             \u001b[0mself\u001b[0m\u001b[0;34m.\u001b[0m\u001b[0madd_column\u001b[0m\u001b[0;34m(\u001b[0m\u001b[0mname\u001b[0m\u001b[0;34m,\u001b[0m \u001b[0mcol\u001b[0m\u001b[0;34m)\u001b[0m\u001b[0;34m\u001b[0m\u001b[0m\n\u001b[0m\u001b[1;32m    188\u001b[0m \u001b[0;34m\u001b[0m\u001b[0m\n\u001b[1;32m    189\u001b[0m     \u001b[0;32mdef\u001b[0m \u001b[0m__delitem__\u001b[0m\u001b[0;34m(\u001b[0m\u001b[0mself\u001b[0m\u001b[0;34m,\u001b[0m \u001b[0mname\u001b[0m\u001b[0;34m)\u001b[0m\u001b[0;34m:\u001b[0m\u001b[0;34m\u001b[0m\u001b[0m\n",
      "\u001b[0;32m/opt/conda/envs/pygdf_dev/lib/python3.5/site-packages/pygdf/dataframe.py\u001b[0m in \u001b[0;36madd_column\u001b[0;34m(self, name, data, forceindex)\u001b[0m\n\u001b[1;32m    397\u001b[0m             \u001b[0;32mraise\u001b[0m \u001b[0mNameError\u001b[0m\u001b[0;34m(\u001b[0m\u001b[0;34m'duplicated column name {!r}'\u001b[0m\u001b[0;34m.\u001b[0m\u001b[0mformat\u001b[0m\u001b[0;34m(\u001b[0m\u001b[0mname\u001b[0m\u001b[0;34m)\u001b[0m\u001b[0;34m)\u001b[0m\u001b[0;34m\u001b[0m\u001b[0m\n\u001b[1;32m    398\u001b[0m \u001b[0;34m\u001b[0m\u001b[0m\n\u001b[0;32m--> 399\u001b[0;31m         \u001b[0mseries\u001b[0m \u001b[0;34m=\u001b[0m \u001b[0mself\u001b[0m\u001b[0;34m.\u001b[0m\u001b[0m_prepare_series_for_add\u001b[0m\u001b[0;34m(\u001b[0m\u001b[0mdata\u001b[0m\u001b[0;34m,\u001b[0m \u001b[0mforceindex\u001b[0m\u001b[0;34m=\u001b[0m\u001b[0mforceindex\u001b[0m\u001b[0;34m)\u001b[0m\u001b[0;34m\u001b[0m\u001b[0m\n\u001b[0m\u001b[1;32m    400\u001b[0m         \u001b[0mself\u001b[0m\u001b[0;34m.\u001b[0m\u001b[0m_cols\u001b[0m\u001b[0;34m[\u001b[0m\u001b[0mname\u001b[0m\u001b[0;34m]\u001b[0m \u001b[0;34m=\u001b[0m \u001b[0mseries\u001b[0m\u001b[0;34m\u001b[0m\u001b[0m\n\u001b[1;32m    401\u001b[0m \u001b[0;34m\u001b[0m\u001b[0m\n",
      "\u001b[0;32m/opt/conda/envs/pygdf_dev/lib/python3.5/site-packages/pygdf/dataframe.py\u001b[0m in \u001b[0;36m_prepare_series_for_add\u001b[0;34m(self, col, forceindex)\u001b[0m\n\u001b[1;32m    375\u001b[0m         \u001b[0mempty_index\u001b[0m \u001b[0;34m=\u001b[0m \u001b[0misinstance\u001b[0m\u001b[0;34m(\u001b[0m\u001b[0mself\u001b[0m\u001b[0;34m.\u001b[0m\u001b[0m_index\u001b[0m\u001b[0;34m,\u001b[0m \u001b[0mEmptyIndex\u001b[0m\u001b[0;34m)\u001b[0m\u001b[0;34m\u001b[0m\u001b[0m\n\u001b[1;32m    376\u001b[0m         \u001b[0mseries\u001b[0m \u001b[0;34m=\u001b[0m \u001b[0mSeries\u001b[0m\u001b[0;34m(\u001b[0m\u001b[0mcol\u001b[0m\u001b[0;34m)\u001b[0m\u001b[0;34m\u001b[0m\u001b[0m\n\u001b[0;32m--> 377\u001b[0;31m         \u001b[0;32mif\u001b[0m \u001b[0mforceindex\u001b[0m \u001b[0;32mor\u001b[0m \u001b[0mempty_index\u001b[0m \u001b[0;32mor\u001b[0m \u001b[0mself\u001b[0m\u001b[0;34m.\u001b[0m\u001b[0m_index\u001b[0m \u001b[0;34m==\u001b[0m \u001b[0mseries\u001b[0m\u001b[0;34m.\u001b[0m\u001b[0mindex\u001b[0m\u001b[0;34m:\u001b[0m\u001b[0;34m\u001b[0m\u001b[0m\n\u001b[0m\u001b[1;32m    378\u001b[0m             \u001b[0;32mif\u001b[0m \u001b[0mempty_index\u001b[0m\u001b[0;34m:\u001b[0m\u001b[0;34m\u001b[0m\u001b[0m\n\u001b[1;32m    379\u001b[0m                 \u001b[0mself\u001b[0m\u001b[0;34m.\u001b[0m\u001b[0m_index\u001b[0m \u001b[0;34m=\u001b[0m \u001b[0mseries\u001b[0m\u001b[0;34m.\u001b[0m\u001b[0mindex\u001b[0m\u001b[0;34m\u001b[0m\u001b[0m\n",
      "\u001b[0;32m/opt/conda/envs/pygdf_dev/lib/python3.5/site-packages/pygdf/index.py\u001b[0m in \u001b[0;36m__eq__\u001b[0;34m(self, other)\u001b[0m\n\u001b[1;32m     83\u001b[0m         \u001b[0mlhs\u001b[0m \u001b[0;34m=\u001b[0m \u001b[0mself\u001b[0m\u001b[0;34m.\u001b[0m\u001b[0mas_column\u001b[0m\u001b[0;34m(\u001b[0m\u001b[0;34m)\u001b[0m\u001b[0;34m\u001b[0m\u001b[0m\n\u001b[1;32m     84\u001b[0m         \u001b[0mrhs\u001b[0m \u001b[0;34m=\u001b[0m \u001b[0mother\u001b[0m\u001b[0;34m.\u001b[0m\u001b[0mas_column\u001b[0m\u001b[0;34m(\u001b[0m\u001b[0;34m)\u001b[0m\u001b[0;34m\u001b[0m\u001b[0m\n\u001b[0;32m---> 85\u001b[0;31m         \u001b[0mres\u001b[0m \u001b[0;34m=\u001b[0m \u001b[0mlhs\u001b[0m\u001b[0;34m.\u001b[0m\u001b[0munordered_compare\u001b[0m\u001b[0;34m(\u001b[0m\u001b[0;34m'eq'\u001b[0m\u001b[0;34m,\u001b[0m \u001b[0mrhs\u001b[0m\u001b[0;34m)\u001b[0m\u001b[0;34m.\u001b[0m\u001b[0mall\u001b[0m\u001b[0;34m(\u001b[0m\u001b[0;34m)\u001b[0m\u001b[0;34m\u001b[0m\u001b[0m\n\u001b[0m\u001b[1;32m     86\u001b[0m         \u001b[0;32mreturn\u001b[0m \u001b[0mres\u001b[0m\u001b[0;34m\u001b[0m\u001b[0m\n\u001b[1;32m     87\u001b[0m \u001b[0;34m\u001b[0m\u001b[0m\n",
      "\u001b[0;32m/opt/conda/envs/pygdf_dev/lib/python3.5/site-packages/pygdf/numerical.py\u001b[0m in \u001b[0;36munordered_compare\u001b[0;34m(self, cmpop, rhs)\u001b[0m\n\u001b[1;32m     92\u001b[0m     \u001b[0;32mdef\u001b[0m \u001b[0munordered_compare\u001b[0m\u001b[0;34m(\u001b[0m\u001b[0mself\u001b[0m\u001b[0;34m,\u001b[0m \u001b[0mcmpop\u001b[0m\u001b[0;34m,\u001b[0m \u001b[0mrhs\u001b[0m\u001b[0;34m)\u001b[0m\u001b[0;34m:\u001b[0m\u001b[0;34m\u001b[0m\u001b[0m\n\u001b[1;32m     93\u001b[0m         \u001b[0mlhs\u001b[0m\u001b[0;34m,\u001b[0m \u001b[0mrhs\u001b[0m \u001b[0;34m=\u001b[0m \u001b[0mnumeric_normalize_types\u001b[0m\u001b[0;34m(\u001b[0m\u001b[0mself\u001b[0m\u001b[0;34m,\u001b[0m \u001b[0mrhs\u001b[0m\u001b[0;34m)\u001b[0m\u001b[0;34m\u001b[0m\u001b[0m\n\u001b[0;32m---> 94\u001b[0;31m         \u001b[0;32mreturn\u001b[0m \u001b[0mnumeric_column_compare\u001b[0m\u001b[0;34m(\u001b[0m\u001b[0mlhs\u001b[0m\u001b[0;34m,\u001b[0m \u001b[0mrhs\u001b[0m\u001b[0;34m,\u001b[0m \u001b[0mop\u001b[0m\u001b[0;34m=\u001b[0m\u001b[0m_unordered_impl\u001b[0m\u001b[0;34m[\u001b[0m\u001b[0mcmpop\u001b[0m\u001b[0;34m]\u001b[0m\u001b[0;34m)\u001b[0m\u001b[0;34m\u001b[0m\u001b[0m\n\u001b[0m\u001b[1;32m     95\u001b[0m \u001b[0;34m\u001b[0m\u001b[0m\n\u001b[1;32m     96\u001b[0m     \u001b[0;32mdef\u001b[0m \u001b[0mordered_compare\u001b[0m\u001b[0;34m(\u001b[0m\u001b[0mself\u001b[0m\u001b[0;34m,\u001b[0m \u001b[0mcmpop\u001b[0m\u001b[0;34m,\u001b[0m \u001b[0mrhs\u001b[0m\u001b[0;34m)\u001b[0m\u001b[0;34m:\u001b[0m\u001b[0;34m\u001b[0m\u001b[0m\n",
      "\u001b[0;32m/opt/conda/envs/pygdf_dev/lib/python3.5/site-packages/pygdf/numerical.py\u001b[0m in \u001b[0;36mnumeric_column_compare\u001b[0;34m(lhs, rhs, op)\u001b[0m\n\u001b[1;32m    323\u001b[0m \u001b[0;34m\u001b[0m\u001b[0m\n\u001b[1;32m    324\u001b[0m \u001b[0;32mdef\u001b[0m \u001b[0mnumeric_column_compare\u001b[0m\u001b[0;34m(\u001b[0m\u001b[0mlhs\u001b[0m\u001b[0;34m,\u001b[0m \u001b[0mrhs\u001b[0m\u001b[0;34m,\u001b[0m \u001b[0mop\u001b[0m\u001b[0;34m)\u001b[0m\u001b[0;34m:\u001b[0m\u001b[0;34m\u001b[0m\u001b[0m\n\u001b[0;32m--> 325\u001b[0;31m     \u001b[0;32mreturn\u001b[0m \u001b[0mnumeric_column_binop\u001b[0m\u001b[0;34m(\u001b[0m\u001b[0mlhs\u001b[0m\u001b[0;34m,\u001b[0m \u001b[0mrhs\u001b[0m\u001b[0;34m,\u001b[0m \u001b[0mop\u001b[0m\u001b[0;34m,\u001b[0m \u001b[0mout_dtype\u001b[0m\u001b[0;34m=\u001b[0m\u001b[0mnp\u001b[0m\u001b[0;34m.\u001b[0m\u001b[0mbool_\u001b[0m\u001b[0;34m)\u001b[0m\u001b[0;34m\u001b[0m\u001b[0m\n\u001b[0m\u001b[1;32m    326\u001b[0m \u001b[0;34m\u001b[0m\u001b[0m\n\u001b[1;32m    327\u001b[0m \u001b[0;34m\u001b[0m\u001b[0m\n",
      "\u001b[0;32m/opt/conda/envs/pygdf_dev/lib/python3.5/site-packages/pygdf/numerical.py\u001b[0m in \u001b[0;36mnumeric_column_binop\u001b[0;34m(lhs, rhs, op, out_dtype)\u001b[0m\n\u001b[1;32m    311\u001b[0m     \u001b[0mout\u001b[0m \u001b[0;34m=\u001b[0m \u001b[0mcolumnops\u001b[0m\u001b[0;34m.\u001b[0m\u001b[0mcolumn_empty_like\u001b[0m\u001b[0;34m(\u001b[0m\u001b[0mlhs\u001b[0m\u001b[0;34m,\u001b[0m \u001b[0mdtype\u001b[0m\u001b[0;34m=\u001b[0m\u001b[0mout_dtype\u001b[0m\u001b[0;34m,\u001b[0m \u001b[0mmasked\u001b[0m\u001b[0;34m=\u001b[0m\u001b[0mmasked\u001b[0m\u001b[0;34m)\u001b[0m\u001b[0;34m\u001b[0m\u001b[0m\n\u001b[1;32m    312\u001b[0m     \u001b[0;31m# Call and fix null_count\u001b[0m\u001b[0;34m\u001b[0m\u001b[0;34m\u001b[0m\u001b[0m\n\u001b[0;32m--> 313\u001b[0;31m     \u001b[0mnull_count\u001b[0m \u001b[0;34m=\u001b[0m \u001b[0m_gdf\u001b[0m\u001b[0;34m.\u001b[0m\u001b[0mapply_binaryop\u001b[0m\u001b[0;34m(\u001b[0m\u001b[0mop\u001b[0m\u001b[0;34m,\u001b[0m \u001b[0mlhs\u001b[0m\u001b[0;34m,\u001b[0m \u001b[0mrhs\u001b[0m\u001b[0;34m,\u001b[0m \u001b[0mout\u001b[0m\u001b[0;34m)\u001b[0m\u001b[0;34m\u001b[0m\u001b[0m\n\u001b[0m\u001b[1;32m    314\u001b[0m     \u001b[0mout\u001b[0m \u001b[0;34m=\u001b[0m \u001b[0mout\u001b[0m\u001b[0;34m.\u001b[0m\u001b[0mreplace\u001b[0m\u001b[0;34m(\u001b[0m\u001b[0mnull_count\u001b[0m\u001b[0;34m=\u001b[0m\u001b[0mnull_count\u001b[0m\u001b[0;34m)\u001b[0m\u001b[0;34m\u001b[0m\u001b[0m\n\u001b[1;32m    315\u001b[0m     \u001b[0;32mreturn\u001b[0m \u001b[0mout\u001b[0m\u001b[0;34m.\u001b[0m\u001b[0mview\u001b[0m\u001b[0;34m(\u001b[0m\u001b[0mNumericalColumn\u001b[0m\u001b[0;34m,\u001b[0m \u001b[0mdtype\u001b[0m\u001b[0;34m=\u001b[0m\u001b[0mout_dtype\u001b[0m\u001b[0;34m)\u001b[0m\u001b[0;34m\u001b[0m\u001b[0m\n",
      "\u001b[0;32m/opt/conda/envs/pygdf_dev/lib/python3.5/site-packages/pygdf/_gdf.py\u001b[0m in \u001b[0;36mapply_binaryop\u001b[0;34m(binop, lhs, rhs, out)\u001b[0m\n\u001b[1;32m     65\u001b[0m     \u001b[0mReturns\u001b[0m \u001b[0mthe\u001b[0m \u001b[0mnumber\u001b[0m \u001b[0mof\u001b[0m \u001b[0mnull\u001b[0m \u001b[0mvalues\u001b[0m\u001b[0;34m.\u001b[0m\u001b[0;34m\u001b[0m\u001b[0m\n\u001b[1;32m     66\u001b[0m     \"\"\"\n\u001b[0;32m---> 67\u001b[0;31m     \u001b[0margs\u001b[0m \u001b[0;34m=\u001b[0m \u001b[0;34m(\u001b[0m\u001b[0mlhs\u001b[0m\u001b[0;34m.\u001b[0m\u001b[0mcffi_view\u001b[0m\u001b[0;34m,\u001b[0m \u001b[0mrhs\u001b[0m\u001b[0;34m.\u001b[0m\u001b[0mcffi_view\u001b[0m\u001b[0;34m,\u001b[0m \u001b[0mout\u001b[0m\u001b[0;34m.\u001b[0m\u001b[0mcffi_view\u001b[0m\u001b[0;34m)\u001b[0m\u001b[0;34m\u001b[0m\u001b[0m\n\u001b[0m\u001b[1;32m     68\u001b[0m     \u001b[0;31m# apply binary operator\u001b[0m\u001b[0;34m\u001b[0m\u001b[0;34m\u001b[0m\u001b[0m\n\u001b[1;32m     69\u001b[0m     \u001b[0mbinop\u001b[0m\u001b[0;34m(\u001b[0m\u001b[0;34m*\u001b[0m\u001b[0margs\u001b[0m\u001b[0;34m)\u001b[0m\u001b[0;34m\u001b[0m\u001b[0m\n",
      "\u001b[0;32m/opt/conda/envs/pygdf_dev/lib/python3.5/site-packages/pygdf/column.py\u001b[0m in \u001b[0;36mcffi_view\u001b[0;34m(self)\u001b[0m\n\u001b[1;32m    177\u001b[0m                                \u001b[0mdata\u001b[0m\u001b[0;34m=\u001b[0m\u001b[0mself\u001b[0m\u001b[0;34m.\u001b[0m\u001b[0m_data\u001b[0m\u001b[0;34m,\u001b[0m\u001b[0;34m\u001b[0m\u001b[0m\n\u001b[1;32m    178\u001b[0m                                \u001b[0mmask\u001b[0m\u001b[0;34m=\u001b[0m\u001b[0mself\u001b[0m\u001b[0;34m.\u001b[0m\u001b[0m_mask\u001b[0m\u001b[0;34m,\u001b[0m\u001b[0;34m\u001b[0m\u001b[0m\n\u001b[0;32m--> 179\u001b[0;31m                                dtype=self.dtype)\n\u001b[0m\u001b[1;32m    180\u001b[0m \u001b[0;34m\u001b[0m\u001b[0m\n\u001b[1;32m    181\u001b[0m     \u001b[0;32mdef\u001b[0m \u001b[0mset_mask\u001b[0m\u001b[0;34m(\u001b[0m\u001b[0mself\u001b[0m\u001b[0;34m,\u001b[0m \u001b[0mmask\u001b[0m\u001b[0;34m,\u001b[0m \u001b[0mnull_count\u001b[0m\u001b[0;34m=\u001b[0m\u001b[0;32mNone\u001b[0m\u001b[0;34m)\u001b[0m\u001b[0;34m:\u001b[0m\u001b[0;34m\u001b[0m\u001b[0m\n",
      "\u001b[0;32m/opt/conda/envs/pygdf_dev/lib/python3.5/site-packages/pygdf/_gdf.py\u001b[0m in \u001b[0;36mcolumnview\u001b[0;34m(size, data, mask, dtype)\u001b[0m\n\u001b[1;32m     56\u001b[0m     \u001b[0mdtype\u001b[0m \u001b[0;34m=\u001b[0m \u001b[0mdtype\u001b[0m \u001b[0;32mor\u001b[0m \u001b[0mdata\u001b[0m\u001b[0;34m.\u001b[0m\u001b[0mdtype\u001b[0m\u001b[0;34m\u001b[0m\u001b[0m\n\u001b[1;32m     57\u001b[0m     return _columnview(size=size, data=unwrap(data), mask=unwrap(mask),\n\u001b[0;32m---> 58\u001b[0;31m                        dtype=dtype)\n\u001b[0m\u001b[1;32m     59\u001b[0m \u001b[0;34m\u001b[0m\u001b[0m\n\u001b[1;32m     60\u001b[0m \u001b[0;34m\u001b[0m\u001b[0m\n",
      "\u001b[0;32m/opt/conda/envs/pygdf_dev/lib/python3.5/site-packages/pygdf/_gdf.py\u001b[0m in \u001b[0;36m_columnview\u001b[0;34m(size, data, mask, dtype)\u001b[0m\n\u001b[1;32m     28\u001b[0m     \u001b[0mcolview\u001b[0m \u001b[0;34m=\u001b[0m \u001b[0mffi\u001b[0m\u001b[0;34m.\u001b[0m\u001b[0mnew\u001b[0m\u001b[0;34m(\u001b[0m\u001b[0;34m'gdf_column*'\u001b[0m\u001b[0;34m)\u001b[0m\u001b[0;34m\u001b[0m\u001b[0m\n\u001b[1;32m     29\u001b[0m     libgdf.gdf_column_view(colview, data, mask, size,\n\u001b[0;32m---> 30\u001b[0;31m                            np_to_gdf_dtype(dtype))\n\u001b[0m\u001b[1;32m     31\u001b[0m     \u001b[0;32mreturn\u001b[0m \u001b[0mcolview\u001b[0m\u001b[0;34m\u001b[0m\u001b[0m\n\u001b[1;32m     32\u001b[0m \u001b[0;34m\u001b[0m\u001b[0m\n",
      "\u001b[0;32m/opt/conda/envs/pygdf_dev/lib/python3.5/site-packages/pygdf/_gdf.py\u001b[0m in \u001b[0;36mnp_to_gdf_dtype\u001b[0;34m(dtype)\u001b[0m\n\u001b[1;32m    103\u001b[0m         \u001b[0mnp\u001b[0m\u001b[0;34m.\u001b[0m\u001b[0mbool_\u001b[0m\u001b[0;34m:\u001b[0m   \u001b[0mlibgdf\u001b[0m\u001b[0;34m.\u001b[0m\u001b[0mGDF_INT8\u001b[0m\u001b[0;34m,\u001b[0m\u001b[0;34m\u001b[0m\u001b[0m\n\u001b[1;32m    104\u001b[0m         \u001b[0mnp\u001b[0m\u001b[0;34m.\u001b[0m\u001b[0mdatetime64\u001b[0m\u001b[0;34m:\u001b[0m \u001b[0mlibgdf\u001b[0m\u001b[0;34m.\u001b[0m\u001b[0mGDF_DATE64\u001b[0m\u001b[0;34m,\u001b[0m\u001b[0;34m\u001b[0m\u001b[0m\n\u001b[0;32m--> 105\u001b[0;31m     }[np.dtype(dtype).type]\n\u001b[0m\u001b[1;32m    106\u001b[0m \u001b[0;34m\u001b[0m\u001b[0m\n\u001b[1;32m    107\u001b[0m \u001b[0;34m\u001b[0m\u001b[0m\n",
      "\u001b[0;31mKeyError\u001b[0m: <class 'numpy.object_'>"
     ]
    },
    {
     "name": "stdout",
     "output_type": "stream",
     "text": [
      "time: 22 ms\n"
     ]
    }
   ],
   "source": [
    "labels_gdf.set_index('MAC')"
   ]
  },
  {
   "cell_type": "code",
   "execution_count": 40,
   "metadata": {},
   "outputs": [
    {
     "data": {
      "text/html": [
       "<div>\n",
       "<style>\n",
       "    .dataframe thead tr:only-child th {\n",
       "        text-align: right;\n",
       "    }\n",
       "\n",
       "    .dataframe thead th {\n",
       "        text-align: left;\n",
       "    }\n",
       "\n",
       "    .dataframe tbody tr th {\n",
       "        vertical-align: top;\n",
       "    }\n",
       "</style>\n",
       "<table border=\"1\" class=\"dataframe\">\n",
       "  <thead>\n",
       "    <tr style=\"text-align: right;\">\n",
       "      <th></th>\n",
       "      <th>Device</th>\n",
       "      <th>Connection</th>\n",
       "    </tr>\n",
       "    <tr>\n",
       "      <th>MAC</th>\n",
       "      <th></th>\n",
       "      <th></th>\n",
       "    </tr>\n",
       "  </thead>\n",
       "  <tbody>\n",
       "    <tr>\n",
       "      <th>d0:52:a8:00:67:5e</th>\n",
       "      <td>Smart Things</td>\n",
       "      <td>Wired</td>\n",
       "    </tr>\n",
       "    <tr>\n",
       "      <th>44:65:0d:56:cc:d3</th>\n",
       "      <td>Amazon Echo</td>\n",
       "      <td>Wireless</td>\n",
       "    </tr>\n",
       "    <tr>\n",
       "      <th>70:ee:50:18:34:43</th>\n",
       "      <td>Netatmo Welcome</td>\n",
       "      <td>Wireless</td>\n",
       "    </tr>\n",
       "    <tr>\n",
       "      <th>f4:f2:6d:93:51:f1</th>\n",
       "      <td>TP-Link Day Night Cloud camera</td>\n",
       "      <td>Wireless</td>\n",
       "    </tr>\n",
       "    <tr>\n",
       "      <th>00:16:6c:ab:6b:88</th>\n",
       "      <td>Samsung SmartCam</td>\n",
       "      <td>Wireless</td>\n",
       "    </tr>\n",
       "    <tr>\n",
       "      <th>30:8c:fb:2f:e4:b2</th>\n",
       "      <td>Dropcam</td>\n",
       "      <td>Wireless</td>\n",
       "    </tr>\n",
       "    <tr>\n",
       "      <th>00:62:6e:51:27:2e</th>\n",
       "      <td>Insteon Camera</td>\n",
       "      <td>Wired</td>\n",
       "    </tr>\n",
       "    <tr>\n",
       "      <th>e8:ab:fa:19:de:4f</th>\n",
       "      <td>unknown device 1</td>\n",
       "      <td>Wireless</td>\n",
       "    </tr>\n",
       "    <tr>\n",
       "      <th>00:24:e4:11:18:a8</th>\n",
       "      <td>Withings Smart Baby Monitor</td>\n",
       "      <td>Wired</td>\n",
       "    </tr>\n",
       "    <tr>\n",
       "      <th>ec:1a:59:79:f4:89</th>\n",
       "      <td>Belkin Wemo switch</td>\n",
       "      <td>Wireless</td>\n",
       "    </tr>\n",
       "    <tr>\n",
       "      <th>50:c7:bf:00:56:39</th>\n",
       "      <td>TP-Link Smart plug</td>\n",
       "      <td>Wireless</td>\n",
       "    </tr>\n",
       "    <tr>\n",
       "      <th>74:c6:3b:29:d7:1d</th>\n",
       "      <td>iHome</td>\n",
       "      <td>Wireless</td>\n",
       "    </tr>\n",
       "    <tr>\n",
       "      <th>ec:1a:59:83:28:11</th>\n",
       "      <td>Belkin wemo motion sensor</td>\n",
       "      <td>Wireless</td>\n",
       "    </tr>\n",
       "    <tr>\n",
       "      <th>18:b4:30:25:be:e4</th>\n",
       "      <td>NEST Protect smoke alarm</td>\n",
       "      <td>Wireless</td>\n",
       "    </tr>\n",
       "    <tr>\n",
       "      <th>70:ee:50:03:b8:ac</th>\n",
       "      <td>Netatmo weather station</td>\n",
       "      <td>Wireless</td>\n",
       "    </tr>\n",
       "    <tr>\n",
       "      <th>00:24:e4:1b:6f:96</th>\n",
       "      <td>Withings Smart scale</td>\n",
       "      <td>Wireless</td>\n",
       "    </tr>\n",
       "    <tr>\n",
       "      <th>74:6a:89:00:2e:25</th>\n",
       "      <td>Blipcare Blood Pressure meter</td>\n",
       "      <td>Wireless</td>\n",
       "    </tr>\n",
       "    <tr>\n",
       "      <th>00:24:e4:20:28:c6</th>\n",
       "      <td>Withings Aura smart sleep sensor</td>\n",
       "      <td>Wireless</td>\n",
       "    </tr>\n",
       "    <tr>\n",
       "      <th>d0:73:d5:01:83:08</th>\n",
       "      <td>Light Bulbs LiFX Smart Bulb</td>\n",
       "      <td>Wireless</td>\n",
       "    </tr>\n",
       "    <tr>\n",
       "      <th>18:b7:9e:02:20:44</th>\n",
       "      <td>Triby Speaker</td>\n",
       "      <td>Wireless</td>\n",
       "    </tr>\n",
       "    <tr>\n",
       "      <th>e0:76:d0:33:bb:85</th>\n",
       "      <td>PIX-STAR Photo-frame</td>\n",
       "      <td>Wireless</td>\n",
       "    </tr>\n",
       "    <tr>\n",
       "      <th>70:5a:0f:e4:9b:c0</th>\n",
       "      <td>HP Printer</td>\n",
       "      <td>Wireless</td>\n",
       "    </tr>\n",
       "    <tr>\n",
       "      <th>08:21:ef:3b:fc:e3</th>\n",
       "      <td>Samsung Galaxy Tab</td>\n",
       "      <td>Wireless</td>\n",
       "    </tr>\n",
       "    <tr>\n",
       "      <th>30:8c:fb:b6:ea:45</th>\n",
       "      <td>Nest Dropcam</td>\n",
       "      <td>Wireless</td>\n",
       "    </tr>\n",
       "    <tr>\n",
       "      <th>40:f3:08:ff:1e:da</th>\n",
       "      <td>Android Phone</td>\n",
       "      <td>Wireless</td>\n",
       "    </tr>\n",
       "    <tr>\n",
       "      <th>74:2f:68:81:69:42</th>\n",
       "      <td>Laptop</td>\n",
       "      <td>Wireless</td>\n",
       "    </tr>\n",
       "    <tr>\n",
       "      <th>ac:bc:32:d4:6f:2f</th>\n",
       "      <td>MacBook</td>\n",
       "      <td>Wireless</td>\n",
       "    </tr>\n",
       "    <tr>\n",
       "      <th>b4:ce:f6:a7:a3:c2</th>\n",
       "      <td>Android Phone</td>\n",
       "      <td>Wireless</td>\n",
       "    </tr>\n",
       "    <tr>\n",
       "      <th>d0:a6:37:df:a1:e1</th>\n",
       "      <td>IPhone</td>\n",
       "      <td>Wireless</td>\n",
       "    </tr>\n",
       "    <tr>\n",
       "      <th>f4:5c:89:93:cc:85</th>\n",
       "      <td>MacBook/Iphone</td>\n",
       "      <td>Wireless</td>\n",
       "    </tr>\n",
       "    <tr>\n",
       "      <th>14:cc:20:51:33:ea</th>\n",
       "      <td>TPLink Router Bridge LAN (Gateway</td>\n",
       "      <td>Wired</td>\n",
       "    </tr>\n",
       "  </tbody>\n",
       "</table>\n",
       "</div>"
      ],
      "text/plain": [
       "                                              Device Connection\n",
       "MAC                                                            \n",
       "d0:52:a8:00:67:5e                       Smart Things      Wired\n",
       "44:65:0d:56:cc:d3                        Amazon Echo   Wireless\n",
       "70:ee:50:18:34:43                    Netatmo Welcome   Wireless\n",
       "f4:f2:6d:93:51:f1     TP-Link Day Night Cloud camera   Wireless\n",
       "00:16:6c:ab:6b:88                   Samsung SmartCam   Wireless\n",
       "30:8c:fb:2f:e4:b2                            Dropcam   Wireless\n",
       "00:62:6e:51:27:2e                     Insteon Camera     Wired \n",
       "e8:ab:fa:19:de:4f                   unknown device 1   Wireless\n",
       "00:24:e4:11:18:a8        Withings Smart Baby Monitor      Wired\n",
       "ec:1a:59:79:f4:89                 Belkin Wemo switch   Wireless\n",
       "50:c7:bf:00:56:39                 TP-Link Smart plug   Wireless\n",
       "74:c6:3b:29:d7:1d                              iHome   Wireless\n",
       "ec:1a:59:83:28:11          Belkin wemo motion sensor   Wireless\n",
       "18:b4:30:25:be:e4           NEST Protect smoke alarm   Wireless\n",
       "70:ee:50:03:b8:ac            Netatmo weather station   Wireless\n",
       "00:24:e4:1b:6f:96               Withings Smart scale   Wireless\n",
       "74:6a:89:00:2e:25      Blipcare Blood Pressure meter   Wireless\n",
       "00:24:e4:20:28:c6   Withings Aura smart sleep sensor   Wireless\n",
       "d0:73:d5:01:83:08        Light Bulbs LiFX Smart Bulb   Wireless\n",
       "18:b7:9e:02:20:44                      Triby Speaker   Wireless\n",
       "e0:76:d0:33:bb:85               PIX-STAR Photo-frame   Wireless\n",
       "70:5a:0f:e4:9b:c0                         HP Printer   Wireless\n",
       "08:21:ef:3b:fc:e3                 Samsung Galaxy Tab   Wireless\n",
       "30:8c:fb:b6:ea:45                       Nest Dropcam   Wireless\n",
       "40:f3:08:ff:1e:da                      Android Phone   Wireless\n",
       "74:2f:68:81:69:42                             Laptop   Wireless\n",
       "ac:bc:32:d4:6f:2f                            MacBook   Wireless\n",
       "b4:ce:f6:a7:a3:c2                      Android Phone   Wireless\n",
       "d0:a6:37:df:a1:e1                             IPhone   Wireless\n",
       "f4:5c:89:93:cc:85                     MacBook/Iphone   Wireless\n",
       "14:cc:20:51:33:ea  TPLink Router Bridge LAN (Gateway      Wired"
      ]
     },
     "execution_count": 40,
     "metadata": {},
     "output_type": "execute_result"
    },
    {
     "name": "stdout",
     "output_type": "stream",
     "text": [
      "time: 9.41 ms\n"
     ]
    }
   ],
   "source": [
    "labels_pdf.set_index('MAC')"
   ]
  },
  {
   "cell_type": "code",
   "execution_count": 35,
   "metadata": {},
   "outputs": [
    {
     "name": "stdout",
     "output_type": "stream",
     "text": [
      "time: 8.57 ms\n"
     ]
    }
   ],
   "source": [
    "labels_gdf = pygdf.DataFrame.from_pandas(labels_pdf)"
   ]
  },
  {
   "cell_type": "code",
   "execution_count": null,
   "metadata": {},
   "outputs": [],
   "source": [
    "gdf.set_index('orig_l2_addr').join()"
   ]
  }
 ],
 "metadata": {
  "kernelspec": {
   "display_name": "Python 3",
   "language": "python",
   "name": "python3"
  },
  "language_info": {
   "codemirror_mode": {
    "name": "ipython",
    "version": 3
   },
   "file_extension": ".py",
   "mimetype": "text/x-python",
   "name": "python",
   "nbconvert_exporter": "python",
   "pygments_lexer": "ipython3",
   "version": "3.5.5"
  }
 },
 "nbformat": 4,
 "nbformat_minor": 2
}
