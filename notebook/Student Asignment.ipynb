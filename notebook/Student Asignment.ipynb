{
 "cells": [
  {
   "cell_type": "markdown",
   "metadata": {},
   "source": [
    "# Hands-on Lab: Student Assignments"
   ]
  },
  {
   "cell_type": "code",
   "execution_count": null,
   "metadata": {},
   "outputs": [],
   "source": [
    "# load modules\n",
    "import pandas as pd\n",
    "import numpy as np\n",
    "import pygdf "
   ]
  },
  {
   "cell_type": "code",
   "execution_count": null,
   "metadata": {},
   "outputs": [],
   "source": [
    "from numba import jit"
   ]
  },
  {
   "cell_type": "code",
   "execution_count": null,
   "metadata": {},
   "outputs": [],
   "source": [
    "%load_ext autotime"
   ]
  },
  {
   "cell_type": "code",
   "execution_count": null,
   "metadata": {},
   "outputs": [],
   "source": [
    "# Yellow Cab Taxi data.  \n",
    "taxi_file_1 = '../data/nytaxi/yellow_tripdata_2009-01.csv'\n",
    "taxi_file_2 = '../data/nytaxi/yellow_tripdata_2009-02.csv'\n",
    "taxi_file_3 = '../data/nytaxi/yellow_tripdata_2009-03.csv'\n",
    "taxi_file_4 = '../data/nytaxi/yellow_tripdata_2009-04.csv'\n",
    "taxi_file_5 = '../data/nytaxi/yellow_tripdata_2009-05.csv'\n",
    "taxi_file_6 = '../data/nytaxi/yellow_tripdata_2009-06.csv'\n",
    "taxi_file_7 = '../data/nytaxi/yellow_tripdata_2009-07.csv'"
   ]
  },
  {
   "cell_type": "code",
   "execution_count": null,
   "metadata": {},
   "outputs": [],
   "source": [
    "# Define the data\n",
    "cols = [\n",
    "    \"vendor_name\",\n",
    "    \"Trip_Pickup_DateTime\",\n",
    "    \"Trip_Dropoff_DateTime\",\n",
    "    \"Passenger_Count\",\n",
    "    \"Trip_Distance\",\n",
    "    \"Start_Lon\",\n",
    "    \"Start_Lat\",\n",
    "    \"Rate_Code\",\n",
    "    \"store_and_forward\",\n",
    "    \"End_Lon\",\n",
    "    \"End_Lat\",\n",
    "    \"Payment_Type\",\n",
    "    \"Fare_Amt\",\n",
    "    \"surcharge\",\n",
    "    \"mta_tax\",\n",
    "    \"Tip_Amt\",\n",
    "    \"Tolls_Amt\",\n",
    "    \"Total_Amt\"\n",
    "]\n",
    "\n",
    "\n",
    "dtypes = {    \n",
    "    \"vendor_name\"           : str,\n",
    "    \"Trip_Pickup_DateTime\"  : str,\n",
    "    \"Trip_Dropoff_DateTime\" : str,\n",
    "    \"Passenger_Count\"       : \"int8\",\n",
    "    \"Trip_Distance\"         : \"float16\",\n",
    "    \"Start_Lon\"             : float,\n",
    "    \"Start_Lat\"             : float,\n",
    "    \"Rate_Code\"             : float,\n",
    "    \"store_and_forward\"     : float,\n",
    "    \"End_Lon\"               : float,\n",
    "    \"End_Lat\"               : float,\n",
    "    \"Payment_Type\"          : str,\n",
    "    \"Fare_Amt\"              : \"float32\",\n",
    "    \"surcharge\"             : \"float16\",\n",
    "    \"mta_tax\"               : float,\n",
    "    \"Tip_Amt\"               : \"float16\",\n",
    "    \"Tolls_Amt\"             : \"float16\",\n",
    "    \"Total_Amt\"             : \"float16\"\n",
    "\n",
    "}"
   ]
  },
  {
   "cell_type": "code",
   "execution_count": null,
   "metadata": {},
   "outputs": [],
   "source": [
    "# the data file contains a header line that needs to be skipped\n",
    "df1 = pd.read_csv(taxi_file_1,  names=cols, dtype=dtypes, skiprows=1)\n",
    "#df2 = pd.read_csv(taxi_file_2,  names=cols, dtype=dtypes, skiprows=1)\n",
    "#df3 = pd.read_csv(taxi_file_3,  names=cols, dtype=dtypes, skiprows=1)\n",
    "#df4 = pd.read_csv(taxi_file_4,  names=cols, dtype=dtypes, skiprows=1)\n",
    "#df5 = pd.read_csv(taxi_file_5,  names=cols, dtype=dtypes, skiprows=1)\n",
    "#df6 = pd.read_csv(taxi_file_6,  names=cols, dtype=dtypes, skiprows=1)\n",
    "#df7 = pd.read_csv(taxi_file_7,  names=cols, dtype=dtypes, skiprows=1)\n",
    "\n",
    "df = pd.concat([df1])\n"
   ]
  },
  {
   "cell_type": "code",
   "execution_count": null,
   "metadata": {},
   "outputs": [],
   "source": [
    "df.dtypes"
   ]
  },
  {
   "cell_type": "markdown",
   "metadata": {},
   "source": [
    "# Clean-up the data (on CPU since we are using Strings)"
   ]
  },
  {
   "cell_type": "code",
   "execution_count": null,
   "metadata": {},
   "outputs": [],
   "source": [
    "# Followiong fields are typically blank, so drop\n",
    "df = df.drop(columns=['Rate_Code', 'store_and_forward','mta_tax'])"
   ]
  },
  {
   "cell_type": "code",
   "execution_count": null,
   "metadata": {},
   "outputs": [],
   "source": [
    "def Convert_to_Category (df, columns):\n",
    "    for column in columns:\n",
    "        df[column] = df[column].str.upper()\n",
    "        df[column] = df[column].astype('category')\n",
    "    \n",
    "    return df"
   ]
  },
  {
   "cell_type": "code",
   "execution_count": null,
   "metadata": {},
   "outputs": [],
   "source": [
    "df = Convert_to_Category(df, ['vendor_name', 'Payment_Type'])"
   ]
  },
  {
   "cell_type": "markdown",
   "metadata": {},
   "source": [
    "###  Convert categories to integer -  Note please remember the category mappings"
   ]
  },
  {
   "cell_type": "code",
   "execution_count": null,
   "metadata": {},
   "outputs": [],
   "source": [
    "df['vendor_name'].cat.categories"
   ]
  },
  {
   "cell_type": "code",
   "execution_count": null,
   "metadata": {},
   "outputs": [],
   "source": [
    "df['vendor_name'] = df['vendor_name'].cat.codes"
   ]
  },
  {
   "cell_type": "code",
   "execution_count": null,
   "metadata": {},
   "outputs": [],
   "source": [
    "df['Payment_Type'].cat.categories"
   ]
  },
  {
   "cell_type": "code",
   "execution_count": null,
   "metadata": {},
   "outputs": [],
   "source": [
    "df['Payment_Type'] = df['Payment_Type'].cat.codes"
   ]
  },
  {
   "cell_type": "code",
   "execution_count": null,
   "metadata": {},
   "outputs": [],
   "source": [
    "df.dtypes"
   ]
  },
  {
   "cell_type": "code",
   "execution_count": null,
   "metadata": {},
   "outputs": [],
   "source": [
    "def ExtractHour (time_col) :\n",
    "    date   = pd.to_datetime(time_col, format='%Y-%m-%d %H:%M:%S')\n",
    "    hour   = date.dt.hour\n",
    "    \n",
    "    return hour"
   ]
  },
  {
   "cell_type": "code",
   "execution_count": null,
   "metadata": {},
   "outputs": [],
   "source": [
    "def ExtractDayOfWeek (time_col) :\n",
    "    date   = pd.to_datetime(time_col, format='%Y-%m-%d %H:%M:%S')\n",
    "    dow   = date.dt.dayofweek\n",
    "    \n",
    "    return dow"
   ]
  },
  {
   "cell_type": "code",
   "execution_count": null,
   "metadata": {},
   "outputs": [],
   "source": [
    "df['Pickup_Hour'] = ExtractHour(df['Trip_Pickup_DateTime'])\n",
    "df['Dropoff_Hour'] = ExtractHour(df['Trip_Dropoff_DateTime'])"
   ]
  },
  {
   "cell_type": "code",
   "execution_count": null,
   "metadata": {},
   "outputs": [],
   "source": [
    "# Only needed if doing multiple files since each file is one day\n",
    "df['Pickup_DayOfWeek'] = ExtractDayOfWeek(df['Trip_Pickup_DateTime'])\n",
    "df['Dropoff_DayOfWeek'] = ExtractDayOfWeek(df['Trip_Dropoff_DateTime'])"
   ]
  },
  {
   "cell_type": "code",
   "execution_count": null,
   "metadata": {},
   "outputs": [],
   "source": [
    "# drop the dates columns, the following questions just need the hour\n",
    "df = df.drop(columns=['Trip_Pickup_DateTime', 'Trip_Dropoff_DateTime'])"
   ]
  },
  {
   "cell_type": "markdown",
   "metadata": {},
   "source": [
    "## Create the GDF and start processing on the GPU"
   ]
  },
  {
   "cell_type": "code",
   "execution_count": null,
   "metadata": {},
   "outputs": [],
   "source": [
    "gdf = pygdf.DataFrame.from_pandas(df)"
   ]
  },
  {
   "cell_type": "markdown",
   "metadata": {},
   "source": [
    "### Scale the Lat and Lon to make grouping easier\n"
   ]
  },
  {
   "cell_type": "code",
   "execution_count": null,
   "metadata": {},
   "outputs": [],
   "source": [
    "from math import floor\n",
    "\n",
    "def round_latlon(x):\n",
    "    scale = 5\n",
    "    return floor(x * scale) / scale\n",
    "\n",
    "def round_columns(df, columns) :\n",
    "    for column in columns:\n",
    "        df[column] = df[column].applymap(round_latlon)\n",
    "        \n",
    "    return df"
   ]
  },
  {
   "cell_type": "code",
   "execution_count": null,
   "metadata": {},
   "outputs": [],
   "source": [
    "# use applymap\n",
    "gdf = round_columns(gdf, ['Start_Lon', 'Start_Lat', 'End_Lon', 'End_Lat'])"
   ]
  },
  {
   "cell_type": "markdown",
   "metadata": {},
   "source": [
    "---\n",
    "<p>\n",
    "# Assignment \n",
    "<p>\n"
   ]
  },
  {
   "cell_type": "markdown",
   "metadata": {},
   "source": [
    "## What is the average tip ratio?  "
   ]
  },
  {
   "cell_type": "code",
   "execution_count": null,
   "metadata": {},
   "outputs": [],
   "source": []
  },
  {
   "cell_type": "markdown",
   "metadata": {},
   "source": [
    "## What Hour of the day yeilds the highest average Tips?"
   ]
  },
  {
   "cell_type": "code",
   "execution_count": null,
   "metadata": {},
   "outputs": [],
   "source": []
  },
  {
   "cell_type": "markdown",
   "metadata": {},
   "source": [
    "## Did the longest trip get a good trip?"
   ]
  },
  {
   "cell_type": "code",
   "execution_count": null,
   "metadata": {},
   "outputs": [],
   "source": []
  },
  {
   "cell_type": "markdown",
   "metadata": {},
   "source": [
    "## Do cash fares tip better than credit?"
   ]
  },
  {
   "cell_type": "code",
   "execution_count": null,
   "metadata": {},
   "outputs": [],
   "source": []
  },
  {
   "cell_type": "code",
   "execution_count": null,
   "metadata": {},
   "outputs": [],
   "source": []
  },
  {
   "cell_type": "code",
   "execution_count": null,
   "metadata": {},
   "outputs": [],
   "source": []
  },
  {
   "cell_type": "code",
   "execution_count": null,
   "metadata": {},
   "outputs": [],
   "source": []
  }
 ],
 "metadata": {
  "kernelspec": {
   "display_name": "Python [default]",
   "language": "python",
   "name": "python3"
  },
  "language_info": {
   "codemirror_mode": {
    "name": "ipython",
    "version": 3
   },
   "file_extension": ".py",
   "mimetype": "text/x-python",
   "name": "python",
   "nbconvert_exporter": "python",
   "pygments_lexer": "ipython3",
   "version": "3.6.6"
  }
 },
 "nbformat": 4,
 "nbformat_minor": 2
}
